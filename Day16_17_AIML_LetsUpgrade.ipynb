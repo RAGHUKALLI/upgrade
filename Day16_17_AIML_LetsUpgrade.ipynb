{
  "nbformat": 4,
  "nbformat_minor": 0,
  "metadata": {
    "kernelspec": {
      "display_name": "Python 3",
      "language": "python",
      "name": "python3"
    },
    "language_info": {
      "codemirror_mode": {
        "name": "ipython",
        "version": 3
      },
      "file_extension": ".py",
      "mimetype": "text/x-python",
      "name": "python",
      "nbconvert_exporter": "python",
      "pygments_lexer": "ipython3",
      "version": "3.7.4"
    },
    "colab": {
      "name": "Day16-17-AIML-LetsUpgrade.ipynb",
      "provenance": [],
      "collapsed_sections": []
    }
  },
  "cells": [
    {
      "cell_type": "code",
      "metadata": {
        "id": "PaovGKMAJwta",
        "colab_type": "code",
        "colab": {}
      },
      "source": [
        "%matplotlib inline\n",
        "import pandas as pd"
      ],
      "execution_count": 119,
      "outputs": []
    },
    {
      "cell_type": "code",
      "metadata": {
        "id": "wRDHGe-qJwts",
        "colab_type": "code",
        "colab": {
          "base_uri": "https://localhost:8080/",
          "height": 197
        },
        "outputId": "1279d34c-70a6-4e81-d66e-cdac5a08b004"
      },
      "source": [
        "from IPython.core.display import HTML\n",
        "css = open('style-table.css').read() + open('style-notebook.css').read()\n",
        "HTML('<style>{}</style>'.format(css))"
      ],
      "execution_count": null,
      "outputs": [
        {
          "output_type": "error",
          "ename": "FileNotFoundError",
          "evalue": "ignored",
          "traceback": [
            "\u001b[0;31m---------------------------------------------------------------------------\u001b[0m",
            "\u001b[0;31mFileNotFoundError\u001b[0m                         Traceback (most recent call last)",
            "\u001b[0;32m<ipython-input-4-6fab06cda22c>\u001b[0m in \u001b[0;36m<module>\u001b[0;34m()\u001b[0m\n\u001b[1;32m      1\u001b[0m \u001b[0;32mfrom\u001b[0m \u001b[0mIPython\u001b[0m\u001b[0;34m.\u001b[0m\u001b[0mcore\u001b[0m\u001b[0;34m.\u001b[0m\u001b[0mdisplay\u001b[0m \u001b[0;32mimport\u001b[0m \u001b[0mHTML\u001b[0m\u001b[0;34m\u001b[0m\u001b[0;34m\u001b[0m\u001b[0m\n\u001b[0;32m----> 2\u001b[0;31m \u001b[0mcss\u001b[0m \u001b[0;34m=\u001b[0m \u001b[0mopen\u001b[0m\u001b[0;34m(\u001b[0m\u001b[0;34m'style-table.css'\u001b[0m\u001b[0;34m)\u001b[0m\u001b[0;34m.\u001b[0m\u001b[0mread\u001b[0m\u001b[0;34m(\u001b[0m\u001b[0;34m)\u001b[0m \u001b[0;34m+\u001b[0m \u001b[0mopen\u001b[0m\u001b[0;34m(\u001b[0m\u001b[0;34m'style-notebook.css'\u001b[0m\u001b[0;34m)\u001b[0m\u001b[0;34m.\u001b[0m\u001b[0mread\u001b[0m\u001b[0;34m(\u001b[0m\u001b[0;34m)\u001b[0m\u001b[0;34m\u001b[0m\u001b[0;34m\u001b[0m\u001b[0m\n\u001b[0m\u001b[1;32m      3\u001b[0m \u001b[0mHTML\u001b[0m\u001b[0;34m(\u001b[0m\u001b[0;34m'<style>{}</style>'\u001b[0m\u001b[0;34m.\u001b[0m\u001b[0mformat\u001b[0m\u001b[0;34m(\u001b[0m\u001b[0mcss\u001b[0m\u001b[0;34m)\u001b[0m\u001b[0;34m)\u001b[0m\u001b[0;34m\u001b[0m\u001b[0;34m\u001b[0m\u001b[0m\n",
            "\u001b[0;31mFileNotFoundError\u001b[0m: [Errno 2] No such file or directory: 'style-table.css'"
          ]
        }
      ]
    },
    {
      "cell_type": "code",
      "metadata": {
        "id": "vM1fEyXTJwt3",
        "colab_type": "code",
        "colab": {
          "base_uri": "https://localhost:8080/",
          "height": 204
        },
        "outputId": "0e68a893-1aa3-4548-e057-4536c94fd2c8"
      },
      "source": [
        "titles = pd.read_csv(\"https://raw.githubusercontent.com/LetsUpgrade/AI-ML-July-2020/master/Day-16%2C17/Assingment/Dataset%20for%20Pandas%20Assinment/titles.csv\")\n",
        "\n",
        "titles.head()"
      ],
      "execution_count": 120,
      "outputs": [
        {
          "output_type": "execute_result",
          "data": {
            "text/html": [
              "<div>\n",
              "<style scoped>\n",
              "    .dataframe tbody tr th:only-of-type {\n",
              "        vertical-align: middle;\n",
              "    }\n",
              "\n",
              "    .dataframe tbody tr th {\n",
              "        vertical-align: top;\n",
              "    }\n",
              "\n",
              "    .dataframe thead th {\n",
              "        text-align: right;\n",
              "    }\n",
              "</style>\n",
              "<table border=\"1\" class=\"dataframe\">\n",
              "  <thead>\n",
              "    <tr style=\"text-align: right;\">\n",
              "      <th></th>\n",
              "      <th>title</th>\n",
              "      <th>year</th>\n",
              "    </tr>\n",
              "  </thead>\n",
              "  <tbody>\n",
              "    <tr>\n",
              "      <th>0</th>\n",
              "      <td>Tasveer Mere Sanam</td>\n",
              "      <td>1996</td>\n",
              "    </tr>\n",
              "    <tr>\n",
              "      <th>1</th>\n",
              "      <td>Only You</td>\n",
              "      <td>1994</td>\n",
              "    </tr>\n",
              "    <tr>\n",
              "      <th>2</th>\n",
              "      <td>El pueblo del terror</td>\n",
              "      <td>1970</td>\n",
              "    </tr>\n",
              "    <tr>\n",
              "      <th>3</th>\n",
              "      <td>Machine</td>\n",
              "      <td>2007</td>\n",
              "    </tr>\n",
              "    <tr>\n",
              "      <th>4</th>\n",
              "      <td>MARy</td>\n",
              "      <td>2008</td>\n",
              "    </tr>\n",
              "  </tbody>\n",
              "</table>\n",
              "</div>"
            ],
            "text/plain": [
              "                  title  year\n",
              "0    Tasveer Mere Sanam  1996\n",
              "1              Only You  1994\n",
              "2  El pueblo del terror  1970\n",
              "3               Machine  2007\n",
              "4                  MARy  2008"
            ]
          },
          "metadata": {
            "tags": []
          },
          "execution_count": 120
        }
      ]
    },
    {
      "cell_type": "code",
      "metadata": {
        "id": "j8u3eoyJi9FV",
        "colab_type": "code",
        "colab": {}
      },
      "source": [
        "import pandas as pd \n",
        "from pydrive.auth import GoogleAuth \n",
        "from pydrive.drive import GoogleDrive\n",
        "from google.colab import auth\n",
        "from oauth2client.client import GoogleCredentials\n",
        "auth.authenticate_user()\n",
        "gauth = GoogleAuth()\n",
        "gauth.credentials = GoogleCredentials.get_application_default()\n",
        "drive = GoogleDrive(gauth)"
      ],
      "execution_count": 122,
      "outputs": []
    },
    {
      "cell_type": "code",
      "metadata": {
        "id": "ORfP8oodmWWX",
        "colab_type": "code",
        "colab": {}
      },
      "source": [
        "import logging\n",
        "logging.getLogger('googleapiclient.discovery_cache').setLevel(logging.ERROR)"
      ],
      "execution_count": 123,
      "outputs": []
    },
    {
      "cell_type": "code",
      "metadata": {
        "id": "GtzAZPeihMJl",
        "colab_type": "code",
        "colab": {
          "base_uri": "https://localhost:8080/",
          "height": 255
        },
        "outputId": "34f2527b-5066-4e35-fd73-62450597fe21"
      },
      "source": [
        "link = 'https://drive.google.com/file/d/1ViRDIGY69mK16bp2qUzBvm7-HYCZZF4R/view?usp=sharing'\n",
        "\n",
        "import pandas as pd \n",
        "\n",
        "# to get the id part of the file \n",
        "id = link.split(\"/\")[-2] \n",
        "\n",
        "downloaded = drive.CreateFile({'id':id}) \n",
        "downloaded.GetContentFile('cast.csv') \n",
        "\n",
        "castdf = pd.read_csv('cast.csv') \n",
        "print(castdf)"
      ],
      "execution_count": 124,
      "outputs": [
        {
          "output_type": "stream",
          "text": [
            "                                    title  year  ...                character     n\n",
            "0                          Closet Monster  2015  ...                  Buffy 4  31.0\n",
            "1                         Suuri illusioni  1985  ...                   Guests  22.0\n",
            "2                     Battle of the Sexes  2017  ...          Bobby Riggs Fan  10.0\n",
            "3                    Secret in Their Eyes  2015  ...          2002 Dodger Fan   NaN\n",
            "4                              Steve Jobs  2015  ...  1988 Opera House Patron   NaN\n",
            "...                                   ...   ...  ...                      ...   ...\n",
            "3786171                           Foxtrot  1988  ...                     D?ra  24.0\n",
            "3786172  Niceland (Population. 1.000.002)  2004  ...             Woman in Bus  26.0\n",
            "3786173                         Skammdegi  1985  ...            Hj?krunarkona   9.0\n",
            "3786174                      U.S.S.S.S...  2003  ...   Afgr.dama ? bens?nst??  17.0\n",
            "3786175                 Bye Bye Blue Bird  1999  ...        Pensionatv?rtinde   NaN\n",
            "\n",
            "[3786176 rows x 6 columns]\n"
          ],
          "name": "stdout"
        }
      ]
    },
    {
      "cell_type": "code",
      "metadata": {
        "id": "-T-6_Pt5dDlN",
        "colab_type": "code",
        "colab": {
          "base_uri": "https://localhost:8080/",
          "height": 204
        },
        "outputId": "48ad7234-0a8d-4578-e300-e5c3a5ab0fb0"
      },
      "source": [
        "castdf.head()"
      ],
      "execution_count": 125,
      "outputs": [
        {
          "output_type": "execute_result",
          "data": {
            "text/html": [
              "<div>\n",
              "<style scoped>\n",
              "    .dataframe tbody tr th:only-of-type {\n",
              "        vertical-align: middle;\n",
              "    }\n",
              "\n",
              "    .dataframe tbody tr th {\n",
              "        vertical-align: top;\n",
              "    }\n",
              "\n",
              "    .dataframe thead th {\n",
              "        text-align: right;\n",
              "    }\n",
              "</style>\n",
              "<table border=\"1\" class=\"dataframe\">\n",
              "  <thead>\n",
              "    <tr style=\"text-align: right;\">\n",
              "      <th></th>\n",
              "      <th>title</th>\n",
              "      <th>year</th>\n",
              "      <th>name</th>\n",
              "      <th>type</th>\n",
              "      <th>character</th>\n",
              "      <th>n</th>\n",
              "    </tr>\n",
              "  </thead>\n",
              "  <tbody>\n",
              "    <tr>\n",
              "      <th>0</th>\n",
              "      <td>Closet Monster</td>\n",
              "      <td>2015</td>\n",
              "      <td>Buffy #1</td>\n",
              "      <td>actor</td>\n",
              "      <td>Buffy 4</td>\n",
              "      <td>31.0</td>\n",
              "    </tr>\n",
              "    <tr>\n",
              "      <th>1</th>\n",
              "      <td>Suuri illusioni</td>\n",
              "      <td>1985</td>\n",
              "      <td>Homo $</td>\n",
              "      <td>actor</td>\n",
              "      <td>Guests</td>\n",
              "      <td>22.0</td>\n",
              "    </tr>\n",
              "    <tr>\n",
              "      <th>2</th>\n",
              "      <td>Battle of the Sexes</td>\n",
              "      <td>2017</td>\n",
              "      <td>$hutter</td>\n",
              "      <td>actor</td>\n",
              "      <td>Bobby Riggs Fan</td>\n",
              "      <td>10.0</td>\n",
              "    </tr>\n",
              "    <tr>\n",
              "      <th>3</th>\n",
              "      <td>Secret in Their Eyes</td>\n",
              "      <td>2015</td>\n",
              "      <td>$hutter</td>\n",
              "      <td>actor</td>\n",
              "      <td>2002 Dodger Fan</td>\n",
              "      <td>NaN</td>\n",
              "    </tr>\n",
              "    <tr>\n",
              "      <th>4</th>\n",
              "      <td>Steve Jobs</td>\n",
              "      <td>2015</td>\n",
              "      <td>$hutter</td>\n",
              "      <td>actor</td>\n",
              "      <td>1988 Opera House Patron</td>\n",
              "      <td>NaN</td>\n",
              "    </tr>\n",
              "  </tbody>\n",
              "</table>\n",
              "</div>"
            ],
            "text/plain": [
              "                  title  year      name   type                character     n\n",
              "0        Closet Monster  2015  Buffy #1  actor                  Buffy 4  31.0\n",
              "1       Suuri illusioni  1985    Homo $  actor                   Guests  22.0\n",
              "2   Battle of the Sexes  2017   $hutter  actor          Bobby Riggs Fan  10.0\n",
              "3  Secret in Their Eyes  2015   $hutter  actor          2002 Dodger Fan   NaN\n",
              "4            Steve Jobs  2015   $hutter  actor  1988 Opera House Patron   NaN"
            ]
          },
          "metadata": {
            "tags": []
          },
          "execution_count": 125
        }
      ]
    },
    {
      "cell_type": "code",
      "metadata": {
        "id": "CpTyo6zzog9q",
        "colab_type": "code",
        "colab": {
          "base_uri": "https://localhost:8080/",
          "height": 136
        },
        "outputId": "c1f1a78e-ed95-4f21-c7e5-3b52353c42a0"
      },
      "source": [
        "castdf.isna().sum()"
      ],
      "execution_count": 126,
      "outputs": [
        {
          "output_type": "execute_result",
          "data": {
            "text/plain": [
              "title              0\n",
              "year               0\n",
              "name               0\n",
              "type               0\n",
              "character          0\n",
              "n            1458573\n",
              "dtype: int64"
            ]
          },
          "metadata": {
            "tags": []
          },
          "execution_count": 126
        }
      ]
    },
    {
      "cell_type": "code",
      "metadata": {
        "id": "U3qMavfQuhVv",
        "colab_type": "code",
        "colab": {
          "base_uri": "https://localhost:8080/",
          "height": 419
        },
        "outputId": "d59474c0-38e3-420f-ee38-cf7def66e594"
      },
      "source": [
        "releasedf=pd.read_csv(\"https://raw.githubusercontent.com/RAGHUKALLI/upgrade/master/release_dates.csv\")\n",
        "releasedf"
      ],
      "execution_count": 127,
      "outputs": [
        {
          "output_type": "execute_result",
          "data": {
            "text/html": [
              "<div>\n",
              "<style scoped>\n",
              "    .dataframe tbody tr th:only-of-type {\n",
              "        vertical-align: middle;\n",
              "    }\n",
              "\n",
              "    .dataframe tbody tr th {\n",
              "        vertical-align: top;\n",
              "    }\n",
              "\n",
              "    .dataframe thead th {\n",
              "        text-align: right;\n",
              "    }\n",
              "</style>\n",
              "<table border=\"1\" class=\"dataframe\">\n",
              "  <thead>\n",
              "    <tr style=\"text-align: right;\">\n",
              "      <th></th>\n",
              "      <th>title</th>\n",
              "      <th>year</th>\n",
              "      <th>country</th>\n",
              "      <th>date</th>\n",
              "    </tr>\n",
              "  </thead>\n",
              "  <tbody>\n",
              "    <tr>\n",
              "      <th>0</th>\n",
              "      <td>#73, Shaanthi Nivaasa</td>\n",
              "      <td>2007</td>\n",
              "      <td>India</td>\n",
              "      <td>2007-06-15</td>\n",
              "    </tr>\n",
              "    <tr>\n",
              "      <th>1</th>\n",
              "      <td>#BKKY</td>\n",
              "      <td>2016</td>\n",
              "      <td>Cambodia</td>\n",
              "      <td>2017-10-12</td>\n",
              "    </tr>\n",
              "    <tr>\n",
              "      <th>2</th>\n",
              "      <td>#Beings</td>\n",
              "      <td>2015</td>\n",
              "      <td>Romania</td>\n",
              "      <td>2015-01-29</td>\n",
              "    </tr>\n",
              "    <tr>\n",
              "      <th>3</th>\n",
              "      <td>#Captured</td>\n",
              "      <td>2017</td>\n",
              "      <td>USA</td>\n",
              "      <td>2017-09-05</td>\n",
              "    </tr>\n",
              "    <tr>\n",
              "      <th>4</th>\n",
              "      <td>#Ewankosau saranghaeyo</td>\n",
              "      <td>2015</td>\n",
              "      <td>Philippines</td>\n",
              "      <td>2015-01-21</td>\n",
              "    </tr>\n",
              "    <tr>\n",
              "      <th>...</th>\n",
              "      <td>...</td>\n",
              "      <td>...</td>\n",
              "      <td>...</td>\n",
              "      <td>...</td>\n",
              "    </tr>\n",
              "    <tr>\n",
              "      <th>479483</th>\n",
              "      <td>xXx: State of the Union</td>\n",
              "      <td>2005</td>\n",
              "      <td>Uruguay</td>\n",
              "      <td>2005-04-29</td>\n",
              "    </tr>\n",
              "    <tr>\n",
              "      <th>479484</th>\n",
              "      <td>xXx: State of the Union</td>\n",
              "      <td>2005</td>\n",
              "      <td>Poland</td>\n",
              "      <td>2005-06-03</td>\n",
              "    </tr>\n",
              "    <tr>\n",
              "      <th>479485</th>\n",
              "      <td>xXx: State of the Union</td>\n",
              "      <td>2005</td>\n",
              "      <td>Turkey</td>\n",
              "      <td>2005-06-03</td>\n",
              "    </tr>\n",
              "    <tr>\n",
              "      <th>479486</th>\n",
              "      <td>xXx: State of the Union</td>\n",
              "      <td>2005</td>\n",
              "      <td>China</td>\n",
              "      <td>2005-06-17</td>\n",
              "    </tr>\n",
              "    <tr>\n",
              "      <th>479487</th>\n",
              "      <td>xXx: State of the Union</td>\n",
              "      <td>2005</td>\n",
              "      <td>Greece</td>\n",
              "      <td>2005-06-24</td>\n",
              "    </tr>\n",
              "  </tbody>\n",
              "</table>\n",
              "<p>479488 rows × 4 columns</p>\n",
              "</div>"
            ],
            "text/plain": [
              "                          title  year      country        date\n",
              "0         #73, Shaanthi Nivaasa  2007        India  2007-06-15\n",
              "1                         #BKKY  2016     Cambodia  2017-10-12\n",
              "2                       #Beings  2015      Romania  2015-01-29\n",
              "3                     #Captured  2017          USA  2017-09-05\n",
              "4        #Ewankosau saranghaeyo  2015  Philippines  2015-01-21\n",
              "...                         ...   ...          ...         ...\n",
              "479483  xXx: State of the Union  2005      Uruguay  2005-04-29\n",
              "479484  xXx: State of the Union  2005       Poland  2005-06-03\n",
              "479485  xXx: State of the Union  2005       Turkey  2005-06-03\n",
              "479486  xXx: State of the Union  2005        China  2005-06-17\n",
              "479487  xXx: State of the Union  2005       Greece  2005-06-24\n",
              "\n",
              "[479488 rows x 4 columns]"
            ]
          },
          "metadata": {
            "tags": []
          },
          "execution_count": 127
        }
      ]
    },
    {
      "cell_type": "code",
      "metadata": {
        "id": "QPGtqCuIcAh1",
        "colab_type": "code",
        "colab": {
          "base_uri": "https://localhost:8080/",
          "height": 34
        },
        "outputId": "e346c811-7f2e-4ec4-b10f-551fa0e0d31f"
      },
      "source": [
        "titles.columns"
      ],
      "execution_count": 128,
      "outputs": [
        {
          "output_type": "execute_result",
          "data": {
            "text/plain": [
              "Index(['title', 'year'], dtype='object')"
            ]
          },
          "metadata": {
            "tags": []
          },
          "execution_count": 128
        }
      ]
    },
    {
      "cell_type": "code",
      "metadata": {
        "id": "bsbkrOPwcS2K",
        "colab_type": "code",
        "colab": {
          "base_uri": "https://localhost:8080/",
          "height": 34
        },
        "outputId": "55cfe05a-bd2d-4a37-9896-30bbd94f4159"
      },
      "source": [
        "titles.shape"
      ],
      "execution_count": 129,
      "outputs": [
        {
          "output_type": "execute_result",
          "data": {
            "text/plain": [
              "(244914, 2)"
            ]
          },
          "metadata": {
            "tags": []
          },
          "execution_count": 129
        }
      ]
    },
    {
      "cell_type": "code",
      "metadata": {
        "id": "mIHppyxvcbax",
        "colab_type": "code",
        "colab": {
          "base_uri": "https://localhost:8080/",
          "height": 68
        },
        "outputId": "c7cbd5f6-3187-49f0-dc4f-45056de79c83"
      },
      "source": [
        "titles.isna().sum()"
      ],
      "execution_count": 130,
      "outputs": [
        {
          "output_type": "execute_result",
          "data": {
            "text/plain": [
              "title    0\n",
              "year     0\n",
              "dtype: int64"
            ]
          },
          "metadata": {
            "tags": []
          },
          "execution_count": 130
        }
      ]
    },
    {
      "cell_type": "code",
      "metadata": {
        "id": "vn-2pW2nJwuL",
        "colab_type": "code",
        "colab": {
          "base_uri": "https://localhost:8080/",
          "height": 255
        },
        "outputId": "ca24ee49-e15c-4750-84ad-10a93855de8f"
      },
      "source": [
        "titles.describe\n"
      ],
      "execution_count": 131,
      "outputs": [
        {
          "output_type": "execute_result",
          "data": {
            "text/plain": [
              "<bound method NDFrame.describe of                                       title  year\n",
              "0                        Tasveer Mere Sanam  1996\n",
              "1                                  Only You  1994\n",
              "2                      El pueblo del terror  1970\n",
              "3                                   Machine  2007\n",
              "4                                      MARy  2008\n",
              "...                                     ...   ...\n",
              "244909  Black Butterfly in a Colorful World  2018\n",
              "244910        Hua fei hua wu chun man cheng  1980\n",
              "244911                 Nippon dabi katsukyu  1970\n",
              "244912        Under Siege 2: Dark Territory  1995\n",
              "244913            She Must Be Seeing Things  1987\n",
              "\n",
              "[244914 rows x 2 columns]>"
            ]
          },
          "metadata": {
            "tags": []
          },
          "execution_count": 131
        }
      ]
    },
    {
      "cell_type": "code",
      "metadata": {
        "id": "WBi7UyliJwuV",
        "colab_type": "code",
        "colab": {
          "base_uri": "https://localhost:8080/",
          "height": 34
        },
        "outputId": "98135391-fc33-4d27-bc85-8bb45af564e1"
      },
      "source": [
        "titles.duplicated().sum()"
      ],
      "execution_count": 132,
      "outputs": [
        {
          "output_type": "execute_result",
          "data": {
            "text/plain": [
              "0"
            ]
          },
          "metadata": {
            "tags": []
          },
          "execution_count": 132
        }
      ]
    },
    {
      "cell_type": "code",
      "metadata": {
        "id": "5DwiCxlFc2v5",
        "colab_type": "code",
        "colab": {
          "base_uri": "https://localhost:8080/",
          "height": 68
        },
        "outputId": "bec670ad-7cab-4088-ad85-e1d424057ec7"
      },
      "source": [
        "titles.dtypes"
      ],
      "execution_count": 133,
      "outputs": [
        {
          "output_type": "execute_result",
          "data": {
            "text/plain": [
              "title    object\n",
              "year      int64\n",
              "dtype: object"
            ]
          },
          "metadata": {
            "tags": []
          },
          "execution_count": 133
        }
      ]
    },
    {
      "cell_type": "markdown",
      "metadata": {
        "collapsed": true,
        "id": "xuMFVbN4JwuJ",
        "colab_type": "text"
      },
      "source": [
        "### How many movies are listed in the titles dataframe?"
      ]
    },
    {
      "cell_type": "code",
      "metadata": {
        "id": "4cxwIwm5dE2S",
        "colab_type": "code",
        "colab": {
          "base_uri": "https://localhost:8080/",
          "height": 68
        },
        "outputId": "06ab75f1-9722-4305-d5ea-c7acd1a1a4f9"
      },
      "source": [
        "titles.count()"
      ],
      "execution_count": 139,
      "outputs": [
        {
          "output_type": "execute_result",
          "data": {
            "text/plain": [
              "title    244914\n",
              "year     244914\n",
              "dtype: int64"
            ]
          },
          "metadata": {
            "tags": []
          },
          "execution_count": 139
        }
      ]
    },
    {
      "cell_type": "code",
      "metadata": {
        "id": "Q3Y0txN5L9Zy",
        "colab_type": "code",
        "colab": {
          "base_uri": "https://localhost:8080/",
          "height": 34
        },
        "outputId": "d86d97c0-e338-49f9-bead-dbad0249700e"
      },
      "source": [
        "len(titles)"
      ],
      "execution_count": 259,
      "outputs": [
        {
          "output_type": "execute_result",
          "data": {
            "text/plain": [
              "244914"
            ]
          },
          "metadata": {
            "tags": []
          },
          "execution_count": 259
        }
      ]
    },
    {
      "cell_type": "markdown",
      "metadata": {
        "collapsed": true,
        "id": "7ihAS8PBJwuf",
        "colab_type": "text"
      },
      "source": [
        "### What are the earliest two films listed in the titles dataframe?"
      ]
    },
    {
      "cell_type": "code",
      "metadata": {
        "id": "7jE1AOOIJwuq",
        "colab_type": "code",
        "colab": {
          "base_uri": "https://localhost:8080/",
          "height": 111
        },
        "outputId": "4bf54e85-840a-4677-de2a-82729d54db34"
      },
      "source": [
        "titles.sort_values([\"year\"], axis=0,ascending=True, inplace=True)\n",
        "titles.head(2)\n"
      ],
      "execution_count": null,
      "outputs": [
        {
          "output_type": "execute_result",
          "data": {
            "text/html": [
              "<div>\n",
              "<style scoped>\n",
              "    .dataframe tbody tr th:only-of-type {\n",
              "        vertical-align: middle;\n",
              "    }\n",
              "\n",
              "    .dataframe tbody tr th {\n",
              "        vertical-align: top;\n",
              "    }\n",
              "\n",
              "    .dataframe thead th {\n",
              "        text-align: right;\n",
              "    }\n",
              "</style>\n",
              "<table border=\"1\" class=\"dataframe\">\n",
              "  <thead>\n",
              "    <tr style=\"text-align: right;\">\n",
              "      <th></th>\n",
              "      <th>title</th>\n",
              "      <th>year</th>\n",
              "    </tr>\n",
              "  </thead>\n",
              "  <tbody>\n",
              "    <tr>\n",
              "      <th>193222</th>\n",
              "      <td>Miss Jerry</td>\n",
              "      <td>1894</td>\n",
              "    </tr>\n",
              "    <tr>\n",
              "      <th>51388</th>\n",
              "      <td>The Startled Lover</td>\n",
              "      <td>1898</td>\n",
              "    </tr>\n",
              "  </tbody>\n",
              "</table>\n",
              "</div>"
            ],
            "text/plain": [
              "                     title  year\n",
              "193222          Miss Jerry  1894\n",
              "51388   The Startled Lover  1898"
            ]
          },
          "metadata": {
            "tags": []
          },
          "execution_count": 44
        }
      ]
    },
    {
      "cell_type": "markdown",
      "metadata": {
        "collapsed": true,
        "id": "ylcrD443Jwu3",
        "colab_type": "text"
      },
      "source": [
        "### How many movies have the title \"Hamlet\"?"
      ]
    },
    {
      "cell_type": "code",
      "metadata": {
        "id": "s2TJBcUOJwu4",
        "colab_type": "code",
        "colab": {
          "base_uri": "https://localhost:8080/",
          "height": 34
        },
        "outputId": "ca7dc0dd-03c6-4be0-80e1-a7d1937ff035"
      },
      "source": [
        "len(titles[titles.title=='Hamlet'])\n"
      ],
      "execution_count": null,
      "outputs": [
        {
          "output_type": "execute_result",
          "data": {
            "text/plain": [
              "20"
            ]
          },
          "metadata": {
            "tags": []
          },
          "execution_count": 37
        }
      ]
    },
    {
      "cell_type": "markdown",
      "metadata": {
        "collapsed": true,
        "id": "BZG-x0HfJwvI",
        "colab_type": "text"
      },
      "source": [
        "### How many movies are titled \"North by Northwest\"?"
      ]
    },
    {
      "cell_type": "code",
      "metadata": {
        "id": "f_LWEUwYJwvK",
        "colab_type": "code",
        "colab": {
          "base_uri": "https://localhost:8080/",
          "height": 34
        },
        "outputId": "2784a637-3147-4e48-8d4e-d729cd2c3cff"
      },
      "source": [
        "len(titles[titles.title=='North by Northwest'])\n",
        "\n"
      ],
      "execution_count": null,
      "outputs": [
        {
          "output_type": "execute_result",
          "data": {
            "text/plain": [
              "1"
            ]
          },
          "metadata": {
            "tags": []
          },
          "execution_count": 38
        }
      ]
    },
    {
      "cell_type": "markdown",
      "metadata": {
        "collapsed": true,
        "id": "zH2_ABdiJwva",
        "colab_type": "text"
      },
      "source": [
        "### When was the first movie titled \"Hamlet\" made?"
      ]
    },
    {
      "cell_type": "code",
      "metadata": {
        "id": "p67hkw3-xX_x",
        "colab_type": "code",
        "colab": {
          "base_uri": "https://localhost:8080/",
          "height": 80
        },
        "outputId": "ec98519b-5ac6-4bd1-f78a-2f0d96d155be"
      },
      "source": [
        "df5=titles.sort_values(['year','title'],ascending=True).groupby('title').head(1)\n",
        "df5.loc[df5['title'] =='Hamlet']\n"
      ],
      "execution_count": null,
      "outputs": [
        {
          "output_type": "execute_result",
          "data": {
            "text/html": [
              "<div>\n",
              "<style scoped>\n",
              "    .dataframe tbody tr th:only-of-type {\n",
              "        vertical-align: middle;\n",
              "    }\n",
              "\n",
              "    .dataframe tbody tr th {\n",
              "        vertical-align: top;\n",
              "    }\n",
              "\n",
              "    .dataframe thead th {\n",
              "        text-align: right;\n",
              "    }\n",
              "</style>\n",
              "<table border=\"1\" class=\"dataframe\">\n",
              "  <thead>\n",
              "    <tr style=\"text-align: right;\">\n",
              "      <th></th>\n",
              "      <th>title</th>\n",
              "      <th>year</th>\n",
              "    </tr>\n",
              "  </thead>\n",
              "  <tbody>\n",
              "    <tr>\n",
              "      <th>52521</th>\n",
              "      <td>Hamlet</td>\n",
              "      <td>1910</td>\n",
              "    </tr>\n",
              "  </tbody>\n",
              "</table>\n",
              "</div>"
            ],
            "text/plain": [
              "        title  year\n",
              "52521  Hamlet  1910"
            ]
          },
          "metadata": {
            "tags": []
          },
          "execution_count": 66
        }
      ]
    },
    {
      "cell_type": "markdown",
      "metadata": {
        "collapsed": true,
        "id": "52uVlOkPJwvl",
        "colab_type": "text"
      },
      "source": [
        "### List all of the \"Treasure Island\" movies from earliest to most recent."
      ]
    },
    {
      "cell_type": "code",
      "metadata": {
        "id": "peep1A13Jwvm",
        "colab_type": "code",
        "colab": {
          "base_uri": "https://localhost:8080/",
          "height": 297
        },
        "outputId": "46f91594-1638-41e5-919f-bcb8432cf989"
      },
      "source": [
        "titles[titles.title=='Treasure Island'].sort_values('year')"
      ],
      "execution_count": null,
      "outputs": [
        {
          "output_type": "execute_result",
          "data": {
            "text/html": [
              "<div>\n",
              "<style scoped>\n",
              "    .dataframe tbody tr th:only-of-type {\n",
              "        vertical-align: middle;\n",
              "    }\n",
              "\n",
              "    .dataframe tbody tr th {\n",
              "        vertical-align: top;\n",
              "    }\n",
              "\n",
              "    .dataframe thead th {\n",
              "        text-align: right;\n",
              "    }\n",
              "</style>\n",
              "<table border=\"1\" class=\"dataframe\">\n",
              "  <thead>\n",
              "    <tr style=\"text-align: right;\">\n",
              "      <th></th>\n",
              "      <th>title</th>\n",
              "      <th>year</th>\n",
              "    </tr>\n",
              "  </thead>\n",
              "  <tbody>\n",
              "    <tr>\n",
              "      <th>55686</th>\n",
              "      <td>Treasure Island</td>\n",
              "      <td>1918</td>\n",
              "    </tr>\n",
              "    <tr>\n",
              "      <th>196514</th>\n",
              "      <td>Treasure Island</td>\n",
              "      <td>1920</td>\n",
              "    </tr>\n",
              "    <tr>\n",
              "      <th>141822</th>\n",
              "      <td>Treasure Island</td>\n",
              "      <td>1934</td>\n",
              "    </tr>\n",
              "    <tr>\n",
              "      <th>77354</th>\n",
              "      <td>Treasure Island</td>\n",
              "      <td>1950</td>\n",
              "    </tr>\n",
              "    <tr>\n",
              "      <th>65051</th>\n",
              "      <td>Treasure Island</td>\n",
              "      <td>1972</td>\n",
              "    </tr>\n",
              "    <tr>\n",
              "      <th>37238</th>\n",
              "      <td>Treasure Island</td>\n",
              "      <td>1973</td>\n",
              "    </tr>\n",
              "    <tr>\n",
              "      <th>173051</th>\n",
              "      <td>Treasure Island</td>\n",
              "      <td>1985</td>\n",
              "    </tr>\n",
              "    <tr>\n",
              "      <th>27076</th>\n",
              "      <td>Treasure Island</td>\n",
              "      <td>1999</td>\n",
              "    </tr>\n",
              "  </tbody>\n",
              "</table>\n",
              "</div>"
            ],
            "text/plain": [
              "                  title  year\n",
              "55686   Treasure Island  1918\n",
              "196514  Treasure Island  1920\n",
              "141822  Treasure Island  1934\n",
              "77354   Treasure Island  1950\n",
              "65051   Treasure Island  1972\n",
              "37238   Treasure Island  1973\n",
              "173051  Treasure Island  1985\n",
              "27076   Treasure Island  1999"
            ]
          },
          "metadata": {
            "tags": []
          },
          "execution_count": 40
        }
      ]
    },
    {
      "cell_type": "markdown",
      "metadata": {
        "collapsed": true,
        "id": "rGFHF1rmJwvw",
        "colab_type": "text"
      },
      "source": [
        "### How many movies were made in the year 1950?"
      ]
    },
    {
      "cell_type": "code",
      "metadata": {
        "id": "VpnG2XzjJwvy",
        "colab_type": "code",
        "colab": {
          "base_uri": "https://localhost:8080/",
          "height": 34
        },
        "outputId": "1f0c7079-b0a3-4e85-a4df-513417431b90"
      },
      "source": [
        "len(titles[titles.year==1950])"
      ],
      "execution_count": null,
      "outputs": [
        {
          "output_type": "execute_result",
          "data": {
            "text/plain": [
              "1113"
            ]
          },
          "metadata": {
            "tags": []
          },
          "execution_count": 44
        }
      ]
    },
    {
      "cell_type": "markdown",
      "metadata": {
        "collapsed": true,
        "id": "LuBMO_ByJwv6",
        "colab_type": "text"
      },
      "source": [
        "### How many movies were made in the year 1960?"
      ]
    },
    {
      "cell_type": "code",
      "metadata": {
        "id": "6qCXXP4WJwv8",
        "colab_type": "code",
        "colab": {
          "base_uri": "https://localhost:8080/",
          "height": 34
        },
        "outputId": "3fa058df-9940-4694-da5f-2963817fcc15"
      },
      "source": [
        "len(titles[titles.year==1960])"
      ],
      "execution_count": null,
      "outputs": [
        {
          "output_type": "execute_result",
          "data": {
            "text/plain": [
              "1549"
            ]
          },
          "metadata": {
            "tags": []
          },
          "execution_count": 45
        }
      ]
    },
    {
      "cell_type": "markdown",
      "metadata": {
        "collapsed": true,
        "id": "IcdoH35XJwwI",
        "colab_type": "text"
      },
      "source": [
        "### How many movies were made from 1950 through 1959?"
      ]
    },
    {
      "cell_type": "markdown",
      "metadata": {
        "id": "kq767LPeJwwJ",
        "colab_type": "text"
      },
      "source": [
        ""
      ]
    },
    {
      "cell_type": "code",
      "metadata": {
        "id": "InKXFYkV-vv9",
        "colab_type": "code",
        "colab": {
          "base_uri": "https://localhost:8080/",
          "height": 419
        },
        "outputId": "4886ec0e-019c-48dc-a39e-a8421f82b9d7"
      },
      "source": [
        "titlesl=titles[titles['year'].between(1950,1959)]\n",
        "titlesl.sort_values('year')"
      ],
      "execution_count": 209,
      "outputs": [
        {
          "output_type": "execute_result",
          "data": {
            "text/html": [
              "<div>\n",
              "<style scoped>\n",
              "    .dataframe tbody tr th:only-of-type {\n",
              "        vertical-align: middle;\n",
              "    }\n",
              "\n",
              "    .dataframe tbody tr th {\n",
              "        vertical-align: top;\n",
              "    }\n",
              "\n",
              "    .dataframe thead th {\n",
              "        text-align: right;\n",
              "    }\n",
              "</style>\n",
              "<table border=\"1\" class=\"dataframe\">\n",
              "  <thead>\n",
              "    <tr style=\"text-align: right;\">\n",
              "      <th></th>\n",
              "      <th>title</th>\n",
              "      <th>year</th>\n",
              "    </tr>\n",
              "  </thead>\n",
              "  <tbody>\n",
              "    <tr>\n",
              "      <th>84160</th>\n",
              "      <td>Colorado Ranger</td>\n",
              "      <td>1950</td>\n",
              "    </tr>\n",
              "    <tr>\n",
              "      <th>47519</th>\n",
              "      <td>Maalesh ya zahar</td>\n",
              "      <td>1950</td>\n",
              "    </tr>\n",
              "    <tr>\n",
              "      <th>18855</th>\n",
              "      <td>Smelye lyudi</td>\n",
              "      <td>1950</td>\n",
              "    </tr>\n",
              "    <tr>\n",
              "      <th>235960</th>\n",
              "      <td>Streets of Ghost Town</td>\n",
              "      <td>1950</td>\n",
              "    </tr>\n",
              "    <tr>\n",
              "      <th>133183</th>\n",
              "      <td>Your Witness</td>\n",
              "      <td>1950</td>\n",
              "    </tr>\n",
              "    <tr>\n",
              "      <th>...</th>\n",
              "      <td>...</td>\n",
              "      <td>...</td>\n",
              "    </tr>\n",
              "    <tr>\n",
              "      <th>220692</th>\n",
              "      <td>The Trap</td>\n",
              "      <td>1959</td>\n",
              "    </tr>\n",
              "    <tr>\n",
              "      <th>190665</th>\n",
              "      <td>Third Man on the Mountain</td>\n",
              "      <td>1959</td>\n",
              "    </tr>\n",
              "    <tr>\n",
              "      <th>123470</th>\n",
              "      <td>Kruh</td>\n",
              "      <td>1959</td>\n",
              "    </tr>\n",
              "    <tr>\n",
              "      <th>126748</th>\n",
              "      <td>Mis padres se divorcian</td>\n",
              "      <td>1959</td>\n",
              "    </tr>\n",
              "    <tr>\n",
              "      <th>187180</th>\n",
              "      <td>Kibris sehitleri</td>\n",
              "      <td>1959</td>\n",
              "    </tr>\n",
              "  </tbody>\n",
              "</table>\n",
              "<p>12934 rows × 2 columns</p>\n",
              "</div>"
            ],
            "text/plain": [
              "                            title  year\n",
              "84160             Colorado Ranger  1950\n",
              "47519            Maalesh ya zahar  1950\n",
              "18855                Smelye lyudi  1950\n",
              "235960      Streets of Ghost Town  1950\n",
              "133183               Your Witness  1950\n",
              "...                           ...   ...\n",
              "220692                   The Trap  1959\n",
              "190665  Third Man on the Mountain  1959\n",
              "123470                       Kruh  1959\n",
              "126748    Mis padres se divorcian  1959\n",
              "187180           Kibris sehitleri  1959\n",
              "\n",
              "[12934 rows x 2 columns]"
            ]
          },
          "metadata": {
            "tags": []
          },
          "execution_count": 209
        }
      ]
    },
    {
      "cell_type": "code",
      "metadata": {
        "id": "Qh2VGJXD_bKD",
        "colab_type": "code",
        "colab": {
          "base_uri": "https://localhost:8080/",
          "height": 34
        },
        "outputId": "a1773826-1fb1-4f9f-bd61-6488cf7331b9"
      },
      "source": [
        "len(titles[titles['year'].between(1950,1959)])"
      ],
      "execution_count": 206,
      "outputs": [
        {
          "output_type": "execute_result",
          "data": {
            "text/plain": [
              "12934"
            ]
          },
          "metadata": {
            "tags": []
          },
          "execution_count": 206
        }
      ]
    },
    {
      "cell_type": "markdown",
      "metadata": {
        "collapsed": true,
        "id": "siUN6a9YJwwT",
        "colab_type": "text"
      },
      "source": [
        "### In what years has a movie titled \"Batman\" been released?"
      ]
    },
    {
      "cell_type": "code",
      "metadata": {
        "id": "NpsTPlECJwwV",
        "colab_type": "code",
        "colab": {
          "base_uri": "https://localhost:8080/",
          "height": 111
        },
        "outputId": "98516920-86eb-423b-ccb9-a5764ae8769a"
      },
      "source": [
        "titles[titles.title=='Batman']"
      ],
      "execution_count": null,
      "outputs": [
        {
          "output_type": "execute_result",
          "data": {
            "text/html": [
              "<div>\n",
              "<style scoped>\n",
              "    .dataframe tbody tr th:only-of-type {\n",
              "        vertical-align: middle;\n",
              "    }\n",
              "\n",
              "    .dataframe tbody tr th {\n",
              "        vertical-align: top;\n",
              "    }\n",
              "\n",
              "    .dataframe thead th {\n",
              "        text-align: right;\n",
              "    }\n",
              "</style>\n",
              "<table border=\"1\" class=\"dataframe\">\n",
              "  <thead>\n",
              "    <tr style=\"text-align: right;\">\n",
              "      <th></th>\n",
              "      <th>title</th>\n",
              "      <th>year</th>\n",
              "    </tr>\n",
              "  </thead>\n",
              "  <tbody>\n",
              "    <tr>\n",
              "      <th>39349</th>\n",
              "      <td>Batman</td>\n",
              "      <td>1943</td>\n",
              "    </tr>\n",
              "    <tr>\n",
              "      <th>240896</th>\n",
              "      <td>Batman</td>\n",
              "      <td>1989</td>\n",
              "    </tr>\n",
              "  </tbody>\n",
              "</table>\n",
              "</div>"
            ],
            "text/plain": [
              "         title  year\n",
              "39349   Batman  1943\n",
              "240896  Batman  1989"
            ]
          },
          "metadata": {
            "tags": []
          },
          "execution_count": 30
        }
      ]
    },
    {
      "cell_type": "code",
      "metadata": {
        "id": "WWrNxStBOVE1",
        "colab_type": "code",
        "colab": {
          "base_uri": "https://localhost:8080/",
          "height": 34
        },
        "outputId": "f6c0e610-f441-4321-d629-13dc36afa0fa"
      },
      "source": [
        "titlesyr=titles[titles.title=='Batman']\n",
        "list(titlesyr['year'])"
      ],
      "execution_count": null,
      "outputs": [
        {
          "output_type": "execute_result",
          "data": {
            "text/plain": [
              "[1943, 1989]"
            ]
          },
          "metadata": {
            "tags": []
          },
          "execution_count": 66
        }
      ]
    },
    {
      "cell_type": "markdown",
      "metadata": {
        "collapsed": true,
        "id": "Tn2YK146Jwwf",
        "colab_type": "text"
      },
      "source": [
        "### How many roles were there in the movie \"Inception\"?"
      ]
    },
    {
      "cell_type": "code",
      "metadata": {
        "id": "eQec2nG1JPXr",
        "colab_type": "code",
        "colab": {
          "base_uri": "https://localhost:8080/",
          "height": 34
        },
        "outputId": "00b5d71c-2fb6-43e1-e404-69060cc5efcc"
      },
      "source": [
        "len((castdf[castdf['title'].isin(['Inception'])]))"
      ],
      "execution_count": null,
      "outputs": [
        {
          "output_type": "execute_result",
          "data": {
            "text/plain": [
              "78"
            ]
          },
          "metadata": {
            "tags": []
          },
          "execution_count": 46
        }
      ]
    },
    {
      "cell_type": "markdown",
      "metadata": {
        "collapsed": true,
        "id": "iWszeZyyJwww",
        "colab_type": "text"
      },
      "source": [
        "### How many roles in the movie \"Inception\" are NOT ranked by an \"n\" value?"
      ]
    },
    {
      "cell_type": "code",
      "metadata": {
        "id": "WvSLp1NpJwwy",
        "colab_type": "code",
        "colab": {
          "base_uri": "https://localhost:8080/",
          "height": 34
        },
        "outputId": "9fbade22-9682-47f7-bda3-dbb80c81f678"
      },
      "source": [
        "castdfin=((castdf[castdf['title'].isin(['Inception'])]))\n",
        "castdfin['n'].isna().sum()\n"
      ],
      "execution_count": null,
      "outputs": [
        {
          "output_type": "execute_result",
          "data": {
            "text/plain": [
              "27"
            ]
          },
          "metadata": {
            "tags": []
          },
          "execution_count": 59
        }
      ]
    },
    {
      "cell_type": "markdown",
      "metadata": {
        "collapsed": true,
        "id": "SodfKC9kJwxF",
        "colab_type": "text"
      },
      "source": [
        "### But how many roles in the movie \"Inception\" did receive an \"n\" value?"
      ]
    },
    {
      "cell_type": "code",
      "metadata": {
        "id": "iAKYYUgRNwpt",
        "colab_type": "code",
        "colab": {
          "base_uri": "https://localhost:8080/",
          "height": 34
        },
        "outputId": "2d0bdafd-8bca-4078-a705-df16c5cd03af"
      },
      "source": [
        "castdfin['n'].count()"
      ],
      "execution_count": null,
      "outputs": [
        {
          "output_type": "execute_result",
          "data": {
            "text/plain": [
              "51"
            ]
          },
          "metadata": {
            "tags": []
          },
          "execution_count": 64
        }
      ]
    },
    {
      "cell_type": "markdown",
      "metadata": {
        "collapsed": true,
        "id": "Ao8MUsZFJwxW",
        "colab_type": "text"
      },
      "source": [
        "### Display the cast of \"North by Northwest\" in their correct \"n\"-value order, ignoring roles that did not earn a numeric \"n\" value."
      ]
    },
    {
      "cell_type": "code",
      "metadata": {
        "id": "DrSDPGOXZI2Y",
        "colab_type": "code",
        "colab": {
          "base_uri": "https://localhost:8080/",
          "height": 545
        },
        "outputId": "440ab1e7-e6d1-4ceb-f57e-a3177a6d9c02"
      },
      "source": [
        "castdfin1=((castdf[castdf['title'].isin(['North by Northwest'])]))\n",
        "castdfin1[castdfin1.n.notna()].sort_values(\"n\")"
      ],
      "execution_count": null,
      "outputs": [
        {
          "output_type": "execute_result",
          "data": {
            "text/html": [
              "<div>\n",
              "<style scoped>\n",
              "    .dataframe tbody tr th:only-of-type {\n",
              "        vertical-align: middle;\n",
              "    }\n",
              "\n",
              "    .dataframe tbody tr th {\n",
              "        vertical-align: top;\n",
              "    }\n",
              "\n",
              "    .dataframe thead th {\n",
              "        text-align: right;\n",
              "    }\n",
              "</style>\n",
              "<table border=\"1\" class=\"dataframe\">\n",
              "  <thead>\n",
              "    <tr style=\"text-align: right;\">\n",
              "      <th></th>\n",
              "      <th>title</th>\n",
              "      <th>year</th>\n",
              "      <th>name</th>\n",
              "      <th>type</th>\n",
              "      <th>character</th>\n",
              "      <th>n</th>\n",
              "    </tr>\n",
              "  </thead>\n",
              "  <tbody>\n",
              "    <tr>\n",
              "      <th>871426</th>\n",
              "      <td>North by Northwest</td>\n",
              "      <td>1959</td>\n",
              "      <td>Cary Grant</td>\n",
              "      <td>actor</td>\n",
              "      <td>Roger O. Thornhill</td>\n",
              "      <td>1.0</td>\n",
              "    </tr>\n",
              "    <tr>\n",
              "      <th>3518333</th>\n",
              "      <td>North by Northwest</td>\n",
              "      <td>1959</td>\n",
              "      <td>Eva Marie Saint</td>\n",
              "      <td>actress</td>\n",
              "      <td>Eve Kendall</td>\n",
              "      <td>2.0</td>\n",
              "    </tr>\n",
              "    <tr>\n",
              "      <th>1457165</th>\n",
              "      <td>North by Northwest</td>\n",
              "      <td>1959</td>\n",
              "      <td>James Mason</td>\n",
              "      <td>actor</td>\n",
              "      <td>Phillip Vandamm</td>\n",
              "      <td>3.0</td>\n",
              "    </tr>\n",
              "    <tr>\n",
              "      <th>3157232</th>\n",
              "      <td>North by Northwest</td>\n",
              "      <td>1959</td>\n",
              "      <td>Jessie Royce Landis</td>\n",
              "      <td>actress</td>\n",
              "      <td>Clara Thornhill</td>\n",
              "      <td>4.0</td>\n",
              "    </tr>\n",
              "    <tr>\n",
              "      <th>356707</th>\n",
              "      <td>North by Northwest</td>\n",
              "      <td>1959</td>\n",
              "      <td>Leo G. Carroll</td>\n",
              "      <td>actor</td>\n",
              "      <td>The Professor</td>\n",
              "      <td>5.0</td>\n",
              "    </tr>\n",
              "    <tr>\n",
              "      <th>3048272</th>\n",
              "      <td>North by Northwest</td>\n",
              "      <td>1959</td>\n",
              "      <td>Josephine Hutchinson</td>\n",
              "      <td>actress</td>\n",
              "      <td>Mrs. Townsend</td>\n",
              "      <td>6.0</td>\n",
              "    </tr>\n",
              "    <tr>\n",
              "      <th>1695173</th>\n",
              "      <td>North by Northwest</td>\n",
              "      <td>1959</td>\n",
              "      <td>Philip Ober</td>\n",
              "      <td>actor</td>\n",
              "      <td>Lester Townsend</td>\n",
              "      <td>7.0</td>\n",
              "    </tr>\n",
              "    <tr>\n",
              "      <th>1275337</th>\n",
              "      <td>North by Northwest</td>\n",
              "      <td>1959</td>\n",
              "      <td>Martin Landau</td>\n",
              "      <td>actor</td>\n",
              "      <td>Leonard</td>\n",
              "      <td>8.0</td>\n",
              "    </tr>\n",
              "    <tr>\n",
              "      <th>2447081</th>\n",
              "      <td>North by Northwest</td>\n",
              "      <td>1959</td>\n",
              "      <td>Adam Williams</td>\n",
              "      <td>actor</td>\n",
              "      <td>Valerian</td>\n",
              "      <td>9.0</td>\n",
              "    </tr>\n",
              "    <tr>\n",
              "      <th>1811387</th>\n",
              "      <td>North by Northwest</td>\n",
              "      <td>1959</td>\n",
              "      <td>Edward Platt</td>\n",
              "      <td>actor</td>\n",
              "      <td>Victor Larrabee</td>\n",
              "      <td>10.0</td>\n",
              "    </tr>\n",
              "    <tr>\n",
              "      <th>665768</th>\n",
              "      <td>North by Northwest</td>\n",
              "      <td>1959</td>\n",
              "      <td>Robert Ellenstein</td>\n",
              "      <td>actor</td>\n",
              "      <td>Licht</td>\n",
              "      <td>11.0</td>\n",
              "    </tr>\n",
              "    <tr>\n",
              "      <th>2295714</th>\n",
              "      <td>North by Northwest</td>\n",
              "      <td>1959</td>\n",
              "      <td>Les Tremayne</td>\n",
              "      <td>actor</td>\n",
              "      <td>Auctioneer</td>\n",
              "      <td>12.0</td>\n",
              "    </tr>\n",
              "    <tr>\n",
              "      <th>464736</th>\n",
              "      <td>North by Northwest</td>\n",
              "      <td>1959</td>\n",
              "      <td>Philip Coolidge</td>\n",
              "      <td>actor</td>\n",
              "      <td>Dr. Cross</td>\n",
              "      <td>13.0</td>\n",
              "    </tr>\n",
              "    <tr>\n",
              "      <th>1508344</th>\n",
              "      <td>North by Northwest</td>\n",
              "      <td>1959</td>\n",
              "      <td>Patrick McVey</td>\n",
              "      <td>actor</td>\n",
              "      <td>Sergeant Flamm</td>\n",
              "      <td>14.0</td>\n",
              "    </tr>\n",
              "    <tr>\n",
              "      <th>206471</th>\n",
              "      <td>North by Northwest</td>\n",
              "      <td>1959</td>\n",
              "      <td>Edward Binns</td>\n",
              "      <td>actor</td>\n",
              "      <td>Captain Junket</td>\n",
              "      <td>15.0</td>\n",
              "    </tr>\n",
              "    <tr>\n",
              "      <th>1384780</th>\n",
              "      <td>North by Northwest</td>\n",
              "      <td>1959</td>\n",
              "      <td>Ken Lynch</td>\n",
              "      <td>actor</td>\n",
              "      <td>Charley - Chicago Policeman</td>\n",
              "      <td>16.0</td>\n",
              "    </tr>\n",
              "  </tbody>\n",
              "</table>\n",
              "</div>"
            ],
            "text/plain": [
              "                      title  year  ...                    character     n\n",
              "871426   North by Northwest  1959  ...           Roger O. Thornhill   1.0\n",
              "3518333  North by Northwest  1959  ...                  Eve Kendall   2.0\n",
              "1457165  North by Northwest  1959  ...              Phillip Vandamm   3.0\n",
              "3157232  North by Northwest  1959  ...              Clara Thornhill   4.0\n",
              "356707   North by Northwest  1959  ...                The Professor   5.0\n",
              "3048272  North by Northwest  1959  ...                Mrs. Townsend   6.0\n",
              "1695173  North by Northwest  1959  ...              Lester Townsend   7.0\n",
              "1275337  North by Northwest  1959  ...                      Leonard   8.0\n",
              "2447081  North by Northwest  1959  ...                     Valerian   9.0\n",
              "1811387  North by Northwest  1959  ...              Victor Larrabee  10.0\n",
              "665768   North by Northwest  1959  ...                        Licht  11.0\n",
              "2295714  North by Northwest  1959  ...                   Auctioneer  12.0\n",
              "464736   North by Northwest  1959  ...                    Dr. Cross  13.0\n",
              "1508344  North by Northwest  1959  ...               Sergeant Flamm  14.0\n",
              "206471   North by Northwest  1959  ...               Captain Junket  15.0\n",
              "1384780  North by Northwest  1959  ...  Charley - Chicago Policeman  16.0\n",
              "\n",
              "[16 rows x 6 columns]"
            ]
          },
          "metadata": {
            "tags": []
          },
          "execution_count": 83
        }
      ]
    },
    {
      "cell_type": "markdown",
      "metadata": {
        "collapsed": true,
        "id": "0sYyJvpwJwxl",
        "colab_type": "text"
      },
      "source": [
        "### Display the entire cast, in \"n\"-order, of the 1972 film \"Sleuth\"."
      ]
    },
    {
      "cell_type": "code",
      "metadata": {
        "id": "1oliP_JkJwxn",
        "colab_type": "code",
        "colab": {
          "base_uri": "https://localhost:8080/",
          "height": 235
        },
        "outputId": "0dc92727-0548-4c60-c5fe-b93601603171"
      },
      "source": [
        "castdfin3=((castdf[castdf['title'].isin(['Sleuth'])]))\n",
        "castdfin4=((castdfin3[castdfin3['year'].isin([1972])]))\n",
        "castdfin4.sort_values(\"n\")\n"
      ],
      "execution_count": null,
      "outputs": [
        {
          "output_type": "execute_result",
          "data": {
            "text/html": [
              "<div>\n",
              "<style scoped>\n",
              "    .dataframe tbody tr th:only-of-type {\n",
              "        vertical-align: middle;\n",
              "    }\n",
              "\n",
              "    .dataframe tbody tr th {\n",
              "        vertical-align: top;\n",
              "    }\n",
              "\n",
              "    .dataframe thead th {\n",
              "        text-align: right;\n",
              "    }\n",
              "</style>\n",
              "<table border=\"1\" class=\"dataframe\">\n",
              "  <thead>\n",
              "    <tr style=\"text-align: right;\">\n",
              "      <th></th>\n",
              "      <th>title</th>\n",
              "      <th>year</th>\n",
              "      <th>name</th>\n",
              "      <th>type</th>\n",
              "      <th>character</th>\n",
              "      <th>n</th>\n",
              "    </tr>\n",
              "  </thead>\n",
              "  <tbody>\n",
              "    <tr>\n",
              "      <th>1705394</th>\n",
              "      <td>Sleuth</td>\n",
              "      <td>1972</td>\n",
              "      <td>Laurence Olivier</td>\n",
              "      <td>actor</td>\n",
              "      <td>Andrew Wyke</td>\n",
              "      <td>1.0</td>\n",
              "    </tr>\n",
              "    <tr>\n",
              "      <th>326773</th>\n",
              "      <td>Sleuth</td>\n",
              "      <td>1972</td>\n",
              "      <td>Michael Caine</td>\n",
              "      <td>actor</td>\n",
              "      <td>Milo Tindle</td>\n",
              "      <td>2.0</td>\n",
              "    </tr>\n",
              "    <tr>\n",
              "      <th>373876</th>\n",
              "      <td>Sleuth</td>\n",
              "      <td>1972</td>\n",
              "      <td>Alec Cawthorne</td>\n",
              "      <td>actor</td>\n",
              "      <td>Inspector Doppler</td>\n",
              "      <td>3.0</td>\n",
              "    </tr>\n",
              "    <tr>\n",
              "      <th>1465483</th>\n",
              "      <td>Sleuth</td>\n",
              "      <td>1972</td>\n",
              "      <td>John (II) Matthews</td>\n",
              "      <td>actor</td>\n",
              "      <td>Detective Sergeant Tarrant</td>\n",
              "      <td>4.0</td>\n",
              "    </tr>\n",
              "    <tr>\n",
              "      <th>2724553</th>\n",
              "      <td>Sleuth</td>\n",
              "      <td>1972</td>\n",
              "      <td>Eve (III) Channing</td>\n",
              "      <td>actress</td>\n",
              "      <td>Marguerite Wyke</td>\n",
              "      <td>5.0</td>\n",
              "    </tr>\n",
              "    <tr>\n",
              "      <th>1448690</th>\n",
              "      <td>Sleuth</td>\n",
              "      <td>1972</td>\n",
              "      <td>Teddy Martin</td>\n",
              "      <td>actor</td>\n",
              "      <td>Police Constable Higgs</td>\n",
              "      <td>6.0</td>\n",
              "    </tr>\n",
              "  </tbody>\n",
              "</table>\n",
              "</div>"
            ],
            "text/plain": [
              "          title  year  ...                   character    n\n",
              "1705394  Sleuth  1972  ...                 Andrew Wyke  1.0\n",
              "326773   Sleuth  1972  ...                 Milo Tindle  2.0\n",
              "373876   Sleuth  1972  ...           Inspector Doppler  3.0\n",
              "1465483  Sleuth  1972  ...  Detective Sergeant Tarrant  4.0\n",
              "2724553  Sleuth  1972  ...             Marguerite Wyke  5.0\n",
              "1448690  Sleuth  1972  ...      Police Constable Higgs  6.0\n",
              "\n",
              "[6 rows x 6 columns]"
            ]
          },
          "metadata": {
            "tags": []
          },
          "execution_count": 118
        }
      ]
    },
    {
      "cell_type": "code",
      "metadata": {
        "id": "IDULVOleJwxv",
        "colab_type": "code",
        "colab": {}
      },
      "source": [
        ""
      ],
      "execution_count": null,
      "outputs": []
    },
    {
      "cell_type": "markdown",
      "metadata": {
        "collapsed": true,
        "id": "QHrx6-JiJwx2",
        "colab_type": "text"
      },
      "source": [
        "### Now display the entire cast, in \"n\"-order, of the 2007 version of \"Sleuth\"."
      ]
    },
    {
      "cell_type": "code",
      "metadata": {
        "id": "mFAc5o0BJwx3",
        "colab_type": "code",
        "colab": {
          "base_uri": "https://localhost:8080/",
          "height": 266
        },
        "outputId": "6bf0b183-ffe8-4335-f634-a397d801fa37"
      },
      "source": [
        "castdfin5=((castdf[castdf['title'].isin(['Sleuth'])]))\n",
        "castdfin6=((castdfin5[castdfin5['year'].isin([2007])]))\n",
        "castdfin6.sort_values(\"n\")"
      ],
      "execution_count": 144,
      "outputs": [
        {
          "output_type": "execute_result",
          "data": {
            "text/html": [
              "<div>\n",
              "<style scoped>\n",
              "    .dataframe tbody tr th:only-of-type {\n",
              "        vertical-align: middle;\n",
              "    }\n",
              "\n",
              "    .dataframe tbody tr th {\n",
              "        vertical-align: top;\n",
              "    }\n",
              "\n",
              "    .dataframe thead th {\n",
              "        text-align: right;\n",
              "    }\n",
              "</style>\n",
              "<table border=\"1\" class=\"dataframe\">\n",
              "  <thead>\n",
              "    <tr style=\"text-align: right;\">\n",
              "      <th></th>\n",
              "      <th>title</th>\n",
              "      <th>year</th>\n",
              "      <th>name</th>\n",
              "      <th>type</th>\n",
              "      <th>character</th>\n",
              "      <th>n</th>\n",
              "    </tr>\n",
              "  </thead>\n",
              "  <tbody>\n",
              "    <tr>\n",
              "      <th>326774</th>\n",
              "      <td>Sleuth</td>\n",
              "      <td>2007</td>\n",
              "      <td>Michael Caine</td>\n",
              "      <td>actor</td>\n",
              "      <td>Andrew</td>\n",
              "      <td>1.0</td>\n",
              "    </tr>\n",
              "    <tr>\n",
              "      <th>1293634</th>\n",
              "      <td>Sleuth</td>\n",
              "      <td>2007</td>\n",
              "      <td>Jude Law</td>\n",
              "      <td>actor</td>\n",
              "      <td>Milo</td>\n",
              "      <td>2.0</td>\n",
              "    </tr>\n",
              "    <tr>\n",
              "      <th>1805907</th>\n",
              "      <td>Sleuth</td>\n",
              "      <td>2007</td>\n",
              "      <td>Harold Pinter</td>\n",
              "      <td>actor</td>\n",
              "      <td>Man on T.V.</td>\n",
              "      <td>3.0</td>\n",
              "    </tr>\n",
              "    <tr>\n",
              "      <th>260242</th>\n",
              "      <td>Sleuth</td>\n",
              "      <td>2007</td>\n",
              "      <td>Kenneth Branagh</td>\n",
              "      <td>actor</td>\n",
              "      <td>Other Man on T.V.</td>\n",
              "      <td>NaN</td>\n",
              "    </tr>\n",
              "    <tr>\n",
              "      <th>373877</th>\n",
              "      <td>Sleuth</td>\n",
              "      <td>2007</td>\n",
              "      <td>Alec (II) Cawthorne</td>\n",
              "      <td>actor</td>\n",
              "      <td>Inspector Doppler</td>\n",
              "      <td>NaN</td>\n",
              "    </tr>\n",
              "    <tr>\n",
              "      <th>2724552</th>\n",
              "      <td>Sleuth</td>\n",
              "      <td>2007</td>\n",
              "      <td>Eve (II) Channing</td>\n",
              "      <td>actress</td>\n",
              "      <td>Marguerite Wyke</td>\n",
              "      <td>NaN</td>\n",
              "    </tr>\n",
              "    <tr>\n",
              "      <th>3370424</th>\n",
              "      <td>Sleuth</td>\n",
              "      <td>2007</td>\n",
              "      <td>Carmel O'Sullivan</td>\n",
              "      <td>actress</td>\n",
              "      <td>Maggie</td>\n",
              "      <td>NaN</td>\n",
              "    </tr>\n",
              "  </tbody>\n",
              "</table>\n",
              "</div>"
            ],
            "text/plain": [
              "          title  year                 name     type          character    n\n",
              "326774   Sleuth  2007        Michael Caine    actor             Andrew  1.0\n",
              "1293634  Sleuth  2007             Jude Law    actor               Milo  2.0\n",
              "1805907  Sleuth  2007        Harold Pinter    actor        Man on T.V.  3.0\n",
              "260242   Sleuth  2007      Kenneth Branagh    actor  Other Man on T.V.  NaN\n",
              "373877   Sleuth  2007  Alec (II) Cawthorne    actor  Inspector Doppler  NaN\n",
              "2724552  Sleuth  2007    Eve (II) Channing  actress    Marguerite Wyke  NaN\n",
              "3370424  Sleuth  2007    Carmel O'Sullivan  actress             Maggie  NaN"
            ]
          },
          "metadata": {
            "tags": []
          },
          "execution_count": 144
        }
      ]
    },
    {
      "cell_type": "code",
      "metadata": {
        "id": "4PBgP4_jJwx-",
        "colab_type": "code",
        "colab": {}
      },
      "source": [
        ""
      ],
      "execution_count": null,
      "outputs": []
    },
    {
      "cell_type": "markdown",
      "metadata": {
        "collapsed": true,
        "id": "goVn9uH6JwyJ",
        "colab_type": "text"
      },
      "source": [
        "### How many roles were credited in the silent 1921 version of Hamlet?"
      ]
    },
    {
      "cell_type": "code",
      "metadata": {
        "id": "Ve_xyIPbJwyK",
        "colab_type": "code",
        "colab": {
          "base_uri": "https://localhost:8080/",
          "height": 328
        },
        "outputId": "308d632b-bb37-4c2b-8efb-7c74e2619ca4"
      },
      "source": [
        "castdfin7=(castdf[castdf['title'].isin(['Hamlet'])])\n",
        "castdfin8=(castdfin7[castdfin7['year'].isin([1921])])\n",
        "castdfin8"
      ],
      "execution_count": 153,
      "outputs": [
        {
          "output_type": "execute_result",
          "data": {
            "text/html": [
              "<div>\n",
              "<style scoped>\n",
              "    .dataframe tbody tr th:only-of-type {\n",
              "        vertical-align: middle;\n",
              "    }\n",
              "\n",
              "    .dataframe tbody tr th {\n",
              "        vertical-align: top;\n",
              "    }\n",
              "\n",
              "    .dataframe thead th {\n",
              "        text-align: right;\n",
              "    }\n",
              "</style>\n",
              "<table border=\"1\" class=\"dataframe\">\n",
              "  <thead>\n",
              "    <tr style=\"text-align: right;\">\n",
              "      <th></th>\n",
              "      <th>title</th>\n",
              "      <th>year</th>\n",
              "      <th>name</th>\n",
              "      <th>type</th>\n",
              "      <th>character</th>\n",
              "      <th>n</th>\n",
              "    </tr>\n",
              "  </thead>\n",
              "  <tbody>\n",
              "    <tr>\n",
              "      <th>7789</th>\n",
              "      <td>Hamlet</td>\n",
              "      <td>1921</td>\n",
              "      <td>Fritz Achterberg</td>\n",
              "      <td>actor</td>\n",
              "      <td>Fortinbras,</td>\n",
              "      <td>9.0</td>\n",
              "    </tr>\n",
              "    <tr>\n",
              "      <th>458904</th>\n",
              "      <td>Hamlet</td>\n",
              "      <td>1921</td>\n",
              "      <td>Paul Conradi</td>\n",
              "      <td>actor</td>\n",
              "      <td>K?nig Hamlet</td>\n",
              "      <td>2.0</td>\n",
              "    </tr>\n",
              "    <tr>\n",
              "      <th>555034</th>\n",
              "      <td>Hamlet</td>\n",
              "      <td>1921</td>\n",
              "      <td>Anton De Verdier</td>\n",
              "      <td>actor</td>\n",
              "      <td>Laertes</td>\n",
              "      <td>7.0</td>\n",
              "    </tr>\n",
              "    <tr>\n",
              "      <th>1135279</th>\n",
              "      <td>Hamlet</td>\n",
              "      <td>1921</td>\n",
              "      <td>Hans Junkermann</td>\n",
              "      <td>actor</td>\n",
              "      <td>Polonius</td>\n",
              "      <td>6.0</td>\n",
              "    </tr>\n",
              "    <tr>\n",
              "      <th>2185558</th>\n",
              "      <td>Hamlet</td>\n",
              "      <td>1921</td>\n",
              "      <td>Heinz Stieda</td>\n",
              "      <td>actor</td>\n",
              "      <td>Horatio</td>\n",
              "      <td>5.0</td>\n",
              "    </tr>\n",
              "    <tr>\n",
              "      <th>2375993</th>\n",
              "      <td>Hamlet</td>\n",
              "      <td>1921</td>\n",
              "      <td>Eduard von Winterstein</td>\n",
              "      <td>actor</td>\n",
              "      <td>Claudius</td>\n",
              "      <td>4.0</td>\n",
              "    </tr>\n",
              "    <tr>\n",
              "      <th>2664423</th>\n",
              "      <td>Hamlet</td>\n",
              "      <td>1921</td>\n",
              "      <td>Mathilde Brandt</td>\n",
              "      <td>actress</td>\n",
              "      <td>K?nigin Gertrude</td>\n",
              "      <td>3.0</td>\n",
              "    </tr>\n",
              "    <tr>\n",
              "      <th>3062023</th>\n",
              "      <td>Hamlet</td>\n",
              "      <td>1921</td>\n",
              "      <td>Lilly Jacobson</td>\n",
              "      <td>actress</td>\n",
              "      <td>Ophelia</td>\n",
              "      <td>8.0</td>\n",
              "    </tr>\n",
              "    <tr>\n",
              "      <th>3355176</th>\n",
              "      <td>Hamlet</td>\n",
              "      <td>1921</td>\n",
              "      <td>Asta Nielsen</td>\n",
              "      <td>actress</td>\n",
              "      <td>Hamlet</td>\n",
              "      <td>1.0</td>\n",
              "    </tr>\n",
              "  </tbody>\n",
              "</table>\n",
              "</div>"
            ],
            "text/plain": [
              "          title  year                    name     type         character    n\n",
              "7789     Hamlet  1921        Fritz Achterberg    actor       Fortinbras,  9.0\n",
              "458904   Hamlet  1921            Paul Conradi    actor      K?nig Hamlet  2.0\n",
              "555034   Hamlet  1921        Anton De Verdier    actor           Laertes  7.0\n",
              "1135279  Hamlet  1921         Hans Junkermann    actor          Polonius  6.0\n",
              "2185558  Hamlet  1921            Heinz Stieda    actor           Horatio  5.0\n",
              "2375993  Hamlet  1921  Eduard von Winterstein    actor          Claudius  4.0\n",
              "2664423  Hamlet  1921         Mathilde Brandt  actress  K?nigin Gertrude  3.0\n",
              "3062023  Hamlet  1921          Lilly Jacobson  actress           Ophelia  8.0\n",
              "3355176  Hamlet  1921            Asta Nielsen  actress            Hamlet  1.0"
            ]
          },
          "metadata": {
            "tags": []
          },
          "execution_count": 153
        }
      ]
    },
    {
      "cell_type": "code",
      "metadata": {
        "id": "kNWmzT2JJwyR",
        "colab_type": "code",
        "colab": {
          "base_uri": "https://localhost:8080/",
          "height": 34
        },
        "outputId": "ab62ed58-e1a6-429b-a73f-d6359e482df1"
      },
      "source": [
        "len((castdfin8[castdfin8['title'].isin(['Hamlet'])]))"
      ],
      "execution_count": 148,
      "outputs": [
        {
          "output_type": "execute_result",
          "data": {
            "text/plain": [
              "9"
            ]
          },
          "metadata": {
            "tags": []
          },
          "execution_count": 148
        }
      ]
    },
    {
      "cell_type": "markdown",
      "metadata": {
        "collapsed": true,
        "id": "LV7YFUZZJwyZ",
        "colab_type": "text"
      },
      "source": [
        "### How many roles were credited in Branagh’s 1996 Hamlet?"
      ]
    },
    {
      "cell_type": "code",
      "metadata": {
        "id": "Ed1aEAVfJwya",
        "colab_type": "code",
        "colab": {
          "base_uri": "https://localhost:8080/",
          "height": 1000
        },
        "outputId": "56a479a9-1f24-422a-f72b-4ef4b8df50c6"
      },
      "source": [
        "castdfin9=(castdf[castdf['title'].isin(['Hamlet'])])\n",
        "castdfin10=(castdfin9[castdfin9['year'].isin([1996])])\n",
        "castdfin10"
      ],
      "execution_count": 155,
      "outputs": [
        {
          "output_type": "execute_result",
          "data": {
            "text/html": [
              "<div>\n",
              "<style scoped>\n",
              "    .dataframe tbody tr th:only-of-type {\n",
              "        vertical-align: middle;\n",
              "    }\n",
              "\n",
              "    .dataframe tbody tr th {\n",
              "        vertical-align: top;\n",
              "    }\n",
              "\n",
              "    .dataframe thead th {\n",
              "        text-align: right;\n",
              "    }\n",
              "</style>\n",
              "<table border=\"1\" class=\"dataframe\">\n",
              "  <thead>\n",
              "    <tr style=\"text-align: right;\">\n",
              "      <th></th>\n",
              "      <th>title</th>\n",
              "      <th>year</th>\n",
              "      <th>name</th>\n",
              "      <th>type</th>\n",
              "      <th>character</th>\n",
              "      <th>n</th>\n",
              "    </tr>\n",
              "  </thead>\n",
              "  <tbody>\n",
              "    <tr>\n",
              "      <th>1731</th>\n",
              "      <td>Hamlet</td>\n",
              "      <td>1996</td>\n",
              "      <td>Riz Abbasi</td>\n",
              "      <td>actor</td>\n",
              "      <td>Attendant to Claudius</td>\n",
              "      <td>1.0</td>\n",
              "    </tr>\n",
              "    <tr>\n",
              "      <th>95861</th>\n",
              "      <td>Hamlet</td>\n",
              "      <td>1996</td>\n",
              "      <td>Richard Attenborough</td>\n",
              "      <td>actor</td>\n",
              "      <td>English Ambassador</td>\n",
              "      <td>2.0</td>\n",
              "    </tr>\n",
              "    <tr>\n",
              "      <th>158642</th>\n",
              "      <td>Hamlet</td>\n",
              "      <td>1996</td>\n",
              "      <td>Simon Russell Beale</td>\n",
              "      <td>actor</td>\n",
              "      <td>Second Gravedigger</td>\n",
              "      <td>37.0</td>\n",
              "    </tr>\n",
              "    <tr>\n",
              "      <th>214473</th>\n",
              "      <td>Hamlet</td>\n",
              "      <td>1996</td>\n",
              "      <td>David (V) Blair</td>\n",
              "      <td>actor</td>\n",
              "      <td>Attendant to Claudius</td>\n",
              "      <td>3.0</td>\n",
              "    </tr>\n",
              "    <tr>\n",
              "      <th>219554</th>\n",
              "      <td>Hamlet</td>\n",
              "      <td>1996</td>\n",
              "      <td>Brian Blessed</td>\n",
              "      <td>actor</td>\n",
              "      <td>Ghost of Hamlet's Father</td>\n",
              "      <td>4.0</td>\n",
              "    </tr>\n",
              "    <tr>\n",
              "      <th>250773</th>\n",
              "      <td>Hamlet</td>\n",
              "      <td>1996</td>\n",
              "      <td>Christopher Bowles</td>\n",
              "      <td>actor</td>\n",
              "      <td>Cadet in Play</td>\n",
              "      <td>NaN</td>\n",
              "    </tr>\n",
              "    <tr>\n",
              "      <th>260225</th>\n",
              "      <td>Hamlet</td>\n",
              "      <td>1996</td>\n",
              "      <td>Kenneth Branagh</td>\n",
              "      <td>actor</td>\n",
              "      <td>Hamlet</td>\n",
              "      <td>5.0</td>\n",
              "    </tr>\n",
              "    <tr>\n",
              "      <th>272749</th>\n",
              "      <td>Hamlet</td>\n",
              "      <td>1996</td>\n",
              "      <td>Richard Briers</td>\n",
              "      <td>actor</td>\n",
              "      <td>Polonius</td>\n",
              "      <td>6.0</td>\n",
              "    </tr>\n",
              "    <tr>\n",
              "      <th>294652</th>\n",
              "      <td>Hamlet</td>\n",
              "      <td>1996</td>\n",
              "      <td>Michael Bryant</td>\n",
              "      <td>actor</td>\n",
              "      <td>Priest</td>\n",
              "      <td>7.0</td>\n",
              "    </tr>\n",
              "    <tr>\n",
              "      <th>319501</th>\n",
              "      <td>Hamlet</td>\n",
              "      <td>1996</td>\n",
              "      <td>Peter Bygott</td>\n",
              "      <td>actor</td>\n",
              "      <td>Attendant to Claudius</td>\n",
              "      <td>8.0</td>\n",
              "    </tr>\n",
              "    <tr>\n",
              "      <th>344365</th>\n",
              "      <td>Hamlet</td>\n",
              "      <td>1996</td>\n",
              "      <td>Kenneth W Caravan</td>\n",
              "      <td>actor</td>\n",
              "      <td>Laertes Mob</td>\n",
              "      <td>NaN</td>\n",
              "    </tr>\n",
              "    <tr>\n",
              "      <th>500916</th>\n",
              "      <td>Hamlet</td>\n",
              "      <td>1996</td>\n",
              "      <td>Billy Crystal</td>\n",
              "      <td>actor</td>\n",
              "      <td>First Gravedigger</td>\n",
              "      <td>10.0</td>\n",
              "    </tr>\n",
              "    <tr>\n",
              "      <th>518572</th>\n",
              "      <td>Hamlet</td>\n",
              "      <td>1996</td>\n",
              "      <td>Charles Daish</td>\n",
              "      <td>actor</td>\n",
              "      <td>Stage Manager</td>\n",
              "      <td>11.0</td>\n",
              "    </tr>\n",
              "    <tr>\n",
              "      <th>576147</th>\n",
              "      <td>Hamlet</td>\n",
              "      <td>1996</td>\n",
              "      <td>G?rard Depardieu</td>\n",
              "      <td>actor</td>\n",
              "      <td>Reynaldo</td>\n",
              "      <td>13.0</td>\n",
              "    </tr>\n",
              "    <tr>\n",
              "      <th>598618</th>\n",
              "      <td>Hamlet</td>\n",
              "      <td>1996</td>\n",
              "      <td>Reece Dinsdale</td>\n",
              "      <td>actor</td>\n",
              "      <td>Guildenstern</td>\n",
              "      <td>14.0</td>\n",
              "    </tr>\n",
              "    <tr>\n",
              "      <th>604339</th>\n",
              "      <td>Hamlet</td>\n",
              "      <td>1996</td>\n",
              "      <td>Ken Dodd</td>\n",
              "      <td>actor</td>\n",
              "      <td>Yorick</td>\n",
              "      <td>15.0</td>\n",
              "    </tr>\n",
              "    <tr>\n",
              "      <th>656817</th>\n",
              "      <td>Hamlet</td>\n",
              "      <td>1996</td>\n",
              "      <td>Rob Edwards</td>\n",
              "      <td>actor</td>\n",
              "      <td>Lucianus</td>\n",
              "      <td>17.0</td>\n",
              "    </tr>\n",
              "    <tr>\n",
              "      <th>669232</th>\n",
              "      <td>Hamlet</td>\n",
              "      <td>1996</td>\n",
              "      <td>Jimmy Ellis</td>\n",
              "      <td>actor</td>\n",
              "      <td>Old Fortinbras</td>\n",
              "      <td>NaN</td>\n",
              "    </tr>\n",
              "    <tr>\n",
              "      <th>704270</th>\n",
              "      <td>Hamlet</td>\n",
              "      <td>1996</td>\n",
              "      <td>Nicholas Farrell</td>\n",
              "      <td>actor</td>\n",
              "      <td>Horatio</td>\n",
              "      <td>18.0</td>\n",
              "    </tr>\n",
              "    <tr>\n",
              "      <th>708468</th>\n",
              "      <td>Hamlet</td>\n",
              "      <td>1996</td>\n",
              "      <td>Ray Fearon</td>\n",
              "      <td>actor</td>\n",
              "      <td>Francisco</td>\n",
              "      <td>19.0</td>\n",
              "    </tr>\n",
              "    <tr>\n",
              "      <th>827066</th>\n",
              "      <td>Hamlet</td>\n",
              "      <td>1996</td>\n",
              "      <td>John Gielgud</td>\n",
              "      <td>actor</td>\n",
              "      <td>Priam</td>\n",
              "      <td>21.0</td>\n",
              "    </tr>\n",
              "    <tr>\n",
              "      <th>990819</th>\n",
              "      <td>Hamlet</td>\n",
              "      <td>1996</td>\n",
              "      <td>Charlton Heston</td>\n",
              "      <td>actor</td>\n",
              "      <td>Player King</td>\n",
              "      <td>23.0</td>\n",
              "    </tr>\n",
              "    <tr>\n",
              "      <th>1074691</th>\n",
              "      <td>Hamlet</td>\n",
              "      <td>1996</td>\n",
              "      <td>Ravil Isyanov</td>\n",
              "      <td>actor</td>\n",
              "      <td>Cornelius</td>\n",
              "      <td>24.0</td>\n",
              "    </tr>\n",
              "    <tr>\n",
              "      <th>1082161</th>\n",
              "      <td>Hamlet</td>\n",
              "      <td>1996</td>\n",
              "      <td>Derek Jacobi</td>\n",
              "      <td>actor</td>\n",
              "      <td>Claudius</td>\n",
              "      <td>25.0</td>\n",
              "    </tr>\n",
              "    <tr>\n",
              "      <th>1210509</th>\n",
              "      <td>Hamlet</td>\n",
              "      <td>1996</td>\n",
              "      <td>Jeffery Kissoon</td>\n",
              "      <td>actor</td>\n",
              "      <td>Fortinbras's Captain</td>\n",
              "      <td>27.0</td>\n",
              "    </tr>\n",
              "    <tr>\n",
              "      <th>1316617</th>\n",
              "      <td>Hamlet</td>\n",
              "      <td>1996</td>\n",
              "      <td>Jack Lemmon</td>\n",
              "      <td>actor</td>\n",
              "      <td>Marcellus</td>\n",
              "      <td>29.0</td>\n",
              "    </tr>\n",
              "    <tr>\n",
              "      <th>1400732</th>\n",
              "      <td>Hamlet</td>\n",
              "      <td>1996</td>\n",
              "      <td>Anthony Maddalena</td>\n",
              "      <td>actor</td>\n",
              "      <td>Elsinore Courtier</td>\n",
              "      <td>NaN</td>\n",
              "    </tr>\n",
              "    <tr>\n",
              "      <th>1417360</th>\n",
              "      <td>Hamlet</td>\n",
              "      <td>1996</td>\n",
              "      <td>Michael Maloney</td>\n",
              "      <td>actor</td>\n",
              "      <td>Laertes</td>\n",
              "      <td>31.0</td>\n",
              "    </tr>\n",
              "    <tr>\n",
              "      <th>1489191</th>\n",
              "      <td>Hamlet</td>\n",
              "      <td>1996</td>\n",
              "      <td>Ian McElhinney</td>\n",
              "      <td>actor</td>\n",
              "      <td>Barnardo</td>\n",
              "      <td>30.0</td>\n",
              "    </tr>\n",
              "    <tr>\n",
              "      <th>1549128</th>\n",
              "      <td>Hamlet</td>\n",
              "      <td>1996</td>\n",
              "      <td>John Mills</td>\n",
              "      <td>actor</td>\n",
              "      <td>Old Norway</td>\n",
              "      <td>33.0</td>\n",
              "    </tr>\n",
              "    <tr>\n",
              "      <th>1556082</th>\n",
              "      <td>Hamlet</td>\n",
              "      <td>1996</td>\n",
              "      <td>Jimi Mistry</td>\n",
              "      <td>actor</td>\n",
              "      <td>Sailor Two</td>\n",
              "      <td>34.0</td>\n",
              "    </tr>\n",
              "    <tr>\n",
              "      <th>1588218</th>\n",
              "      <td>Hamlet</td>\n",
              "      <td>1996</td>\n",
              "      <td>Frank (II) Morgan</td>\n",
              "      <td>actor</td>\n",
              "      <td>Pyrrhus</td>\n",
              "      <td>NaN</td>\n",
              "    </tr>\n",
              "    <tr>\n",
              "      <th>2040040</th>\n",
              "      <td>Hamlet</td>\n",
              "      <td>1996</td>\n",
              "      <td>Andrew Schofield</td>\n",
              "      <td>actor</td>\n",
              "      <td>Young Lord</td>\n",
              "      <td>38.0</td>\n",
              "    </tr>\n",
              "    <tr>\n",
              "      <th>2052796</th>\n",
              "      <td>Hamlet</td>\n",
              "      <td>1996</td>\n",
              "      <td>Orlando Seale</td>\n",
              "      <td>actor</td>\n",
              "      <td>Boatman</td>\n",
              "      <td>NaN</td>\n",
              "    </tr>\n",
              "    <tr>\n",
              "      <th>2067657</th>\n",
              "      <td>Hamlet</td>\n",
              "      <td>1996</td>\n",
              "      <td>Rufus Sewell</td>\n",
              "      <td>actor</td>\n",
              "      <td>Fortinbras</td>\n",
              "      <td>39.0</td>\n",
              "    </tr>\n",
              "    <tr>\n",
              "      <th>2151526</th>\n",
              "      <td>Hamlet</td>\n",
              "      <td>1996</td>\n",
              "      <td>Timothy Spall</td>\n",
              "      <td>actor</td>\n",
              "      <td>Rosencrantz</td>\n",
              "      <td>40.0</td>\n",
              "    </tr>\n",
              "    <tr>\n",
              "      <th>2154960</th>\n",
              "      <td>Hamlet</td>\n",
              "      <td>1996</td>\n",
              "      <td>John Spencer-Churchill</td>\n",
              "      <td>actor</td>\n",
              "      <td>Fortinbras's Captain</td>\n",
              "      <td>32.0</td>\n",
              "    </tr>\n",
              "    <tr>\n",
              "      <th>2221910</th>\n",
              "      <td>Hamlet</td>\n",
              "      <td>1996</td>\n",
              "      <td>Thomas Szekeres</td>\n",
              "      <td>actor</td>\n",
              "      <td>Young Hamlet</td>\n",
              "      <td>41.0</td>\n",
              "    </tr>\n",
              "    <tr>\n",
              "      <th>2259675</th>\n",
              "      <td>Hamlet</td>\n",
              "      <td>1996</td>\n",
              "      <td>Ben Thom</td>\n",
              "      <td>actor</td>\n",
              "      <td>First Player</td>\n",
              "      <td>42.0</td>\n",
              "    </tr>\n",
              "    <tr>\n",
              "      <th>2404091</th>\n",
              "      <td>Hamlet</td>\n",
              "      <td>1996</td>\n",
              "      <td>Don Warrington</td>\n",
              "      <td>actor</td>\n",
              "      <td>Voltimand</td>\n",
              "      <td>43.0</td>\n",
              "    </tr>\n",
              "    <tr>\n",
              "      <th>2453099</th>\n",
              "      <td>Hamlet</td>\n",
              "      <td>1996</td>\n",
              "      <td>Robin Williams</td>\n",
              "      <td>actor</td>\n",
              "      <td>Osric</td>\n",
              "      <td>45.0</td>\n",
              "    </tr>\n",
              "    <tr>\n",
              "      <th>2500066</th>\n",
              "      <td>Hamlet</td>\n",
              "      <td>1996</td>\n",
              "      <td>David Yip</td>\n",
              "      <td>actor</td>\n",
              "      <td>Sailor One</td>\n",
              "      <td>47.0</td>\n",
              "    </tr>\n",
              "    <tr>\n",
              "      <th>2508377</th>\n",
              "      <td>Hamlet</td>\n",
              "      <td>1996</td>\n",
              "      <td>Jimmy Yuill</td>\n",
              "      <td>actor</td>\n",
              "      <td>Alexander</td>\n",
              "      <td>NaN</td>\n",
              "    </tr>\n",
              "    <tr>\n",
              "      <th>2737885</th>\n",
              "      <td>Hamlet</td>\n",
              "      <td>1996</td>\n",
              "      <td>Julie Christie</td>\n",
              "      <td>actress</td>\n",
              "      <td>Gertrude</td>\n",
              "      <td>9.0</td>\n",
              "    </tr>\n",
              "    <tr>\n",
              "      <th>2814220</th>\n",
              "      <td>Hamlet</td>\n",
              "      <td>1996</td>\n",
              "      <td>Judi Dench</td>\n",
              "      <td>actress</td>\n",
              "      <td>Hecuba</td>\n",
              "      <td>12.0</td>\n",
              "    </tr>\n",
              "    <tr>\n",
              "      <th>2835947</th>\n",
              "      <td>Hamlet</td>\n",
              "      <td>1996</td>\n",
              "      <td>Angela Douglas</td>\n",
              "      <td>actress</td>\n",
              "      <td>Attendant to Gertrude</td>\n",
              "      <td>16.0</td>\n",
              "    </tr>\n",
              "    <tr>\n",
              "      <th>2940033</th>\n",
              "      <td>Hamlet</td>\n",
              "      <td>1996</td>\n",
              "      <td>Yvonne Gidden</td>\n",
              "      <td>actress</td>\n",
              "      <td>Doctor</td>\n",
              "      <td>20.0</td>\n",
              "    </tr>\n",
              "    <tr>\n",
              "      <th>2999610</th>\n",
              "      <td>Hamlet</td>\n",
              "      <td>1996</td>\n",
              "      <td>Rosemary Harris</td>\n",
              "      <td>actress</td>\n",
              "      <td>Player Queen</td>\n",
              "      <td>22.0</td>\n",
              "    </tr>\n",
              "    <tr>\n",
              "      <th>3119901</th>\n",
              "      <td>Hamlet</td>\n",
              "      <td>1996</td>\n",
              "      <td>Rowena King</td>\n",
              "      <td>actress</td>\n",
              "      <td>Attendant to Gertrude</td>\n",
              "      <td>26.0</td>\n",
              "    </tr>\n",
              "    <tr>\n",
              "      <th>3154270</th>\n",
              "      <td>Hamlet</td>\n",
              "      <td>1996</td>\n",
              "      <td>Sarah Lam</td>\n",
              "      <td>actress</td>\n",
              "      <td>Attendant to Gertrude</td>\n",
              "      <td>28.0</td>\n",
              "    </tr>\n",
              "    <tr>\n",
              "      <th>3451003</th>\n",
              "      <td>Hamlet</td>\n",
              "      <td>1996</td>\n",
              "      <td>Sian Radinger</td>\n",
              "      <td>actress</td>\n",
              "      <td>Prologue</td>\n",
              "      <td>35.0</td>\n",
              "    </tr>\n",
              "    <tr>\n",
              "      <th>3456114</th>\n",
              "      <td>Hamlet</td>\n",
              "      <td>1996</td>\n",
              "      <td>Melanie Ramsay</td>\n",
              "      <td>actress</td>\n",
              "      <td>Prostitute</td>\n",
              "      <td>NaN</td>\n",
              "    </tr>\n",
              "    <tr>\n",
              "      <th>3728751</th>\n",
              "      <td>Hamlet</td>\n",
              "      <td>1996</td>\n",
              "      <td>Perdita Weeks</td>\n",
              "      <td>actress</td>\n",
              "      <td>Second Player</td>\n",
              "      <td>44.0</td>\n",
              "    </tr>\n",
              "    <tr>\n",
              "      <th>3751232</th>\n",
              "      <td>Hamlet</td>\n",
              "      <td>1996</td>\n",
              "      <td>Kate Winslet</td>\n",
              "      <td>actress</td>\n",
              "      <td>Ophelia</td>\n",
              "      <td>46.0</td>\n",
              "    </tr>\n",
              "  </tbody>\n",
              "</table>\n",
              "</div>"
            ],
            "text/plain": [
              "          title  year  ...                 character     n\n",
              "1731     Hamlet  1996  ...     Attendant to Claudius   1.0\n",
              "95861    Hamlet  1996  ...        English Ambassador   2.0\n",
              "158642   Hamlet  1996  ...        Second Gravedigger  37.0\n",
              "214473   Hamlet  1996  ...     Attendant to Claudius   3.0\n",
              "219554   Hamlet  1996  ...  Ghost of Hamlet's Father   4.0\n",
              "250773   Hamlet  1996  ...             Cadet in Play   NaN\n",
              "260225   Hamlet  1996  ...                    Hamlet   5.0\n",
              "272749   Hamlet  1996  ...                  Polonius   6.0\n",
              "294652   Hamlet  1996  ...                    Priest   7.0\n",
              "319501   Hamlet  1996  ...     Attendant to Claudius   8.0\n",
              "344365   Hamlet  1996  ...               Laertes Mob   NaN\n",
              "500916   Hamlet  1996  ...         First Gravedigger  10.0\n",
              "518572   Hamlet  1996  ...             Stage Manager  11.0\n",
              "576147   Hamlet  1996  ...                  Reynaldo  13.0\n",
              "598618   Hamlet  1996  ...              Guildenstern  14.0\n",
              "604339   Hamlet  1996  ...                    Yorick  15.0\n",
              "656817   Hamlet  1996  ...                  Lucianus  17.0\n",
              "669232   Hamlet  1996  ...            Old Fortinbras   NaN\n",
              "704270   Hamlet  1996  ...                   Horatio  18.0\n",
              "708468   Hamlet  1996  ...                 Francisco  19.0\n",
              "827066   Hamlet  1996  ...                     Priam  21.0\n",
              "990819   Hamlet  1996  ...               Player King  23.0\n",
              "1074691  Hamlet  1996  ...                 Cornelius  24.0\n",
              "1082161  Hamlet  1996  ...                  Claudius  25.0\n",
              "1210509  Hamlet  1996  ...      Fortinbras's Captain  27.0\n",
              "1316617  Hamlet  1996  ...                 Marcellus  29.0\n",
              "1400732  Hamlet  1996  ...         Elsinore Courtier   NaN\n",
              "1417360  Hamlet  1996  ...                   Laertes  31.0\n",
              "1489191  Hamlet  1996  ...                  Barnardo  30.0\n",
              "1549128  Hamlet  1996  ...                Old Norway  33.0\n",
              "1556082  Hamlet  1996  ...                Sailor Two  34.0\n",
              "1588218  Hamlet  1996  ...                   Pyrrhus   NaN\n",
              "2040040  Hamlet  1996  ...                Young Lord  38.0\n",
              "2052796  Hamlet  1996  ...                   Boatman   NaN\n",
              "2067657  Hamlet  1996  ...                Fortinbras  39.0\n",
              "2151526  Hamlet  1996  ...               Rosencrantz  40.0\n",
              "2154960  Hamlet  1996  ...      Fortinbras's Captain  32.0\n",
              "2221910  Hamlet  1996  ...              Young Hamlet  41.0\n",
              "2259675  Hamlet  1996  ...              First Player  42.0\n",
              "2404091  Hamlet  1996  ...                 Voltimand  43.0\n",
              "2453099  Hamlet  1996  ...                     Osric  45.0\n",
              "2500066  Hamlet  1996  ...                Sailor One  47.0\n",
              "2508377  Hamlet  1996  ...                 Alexander   NaN\n",
              "2737885  Hamlet  1996  ...                  Gertrude   9.0\n",
              "2814220  Hamlet  1996  ...                    Hecuba  12.0\n",
              "2835947  Hamlet  1996  ...     Attendant to Gertrude  16.0\n",
              "2940033  Hamlet  1996  ...                    Doctor  20.0\n",
              "2999610  Hamlet  1996  ...              Player Queen  22.0\n",
              "3119901  Hamlet  1996  ...     Attendant to Gertrude  26.0\n",
              "3154270  Hamlet  1996  ...     Attendant to Gertrude  28.0\n",
              "3451003  Hamlet  1996  ...                  Prologue  35.0\n",
              "3456114  Hamlet  1996  ...                Prostitute   NaN\n",
              "3728751  Hamlet  1996  ...             Second Player  44.0\n",
              "3751232  Hamlet  1996  ...                   Ophelia  46.0\n",
              "\n",
              "[54 rows x 6 columns]"
            ]
          },
          "metadata": {
            "tags": []
          },
          "execution_count": 155
        }
      ]
    },
    {
      "cell_type": "code",
      "metadata": {
        "id": "Swbq9iIVJwyh",
        "colab_type": "code",
        "colab": {
          "base_uri": "https://localhost:8080/",
          "height": 34
        },
        "outputId": "dd7253de-4ce3-44e2-835f-70b2c211a4b4"
      },
      "source": [
        "len((castdfin10[castdfin10['title'].isin(['Hamlet'])]))"
      ],
      "execution_count": 156,
      "outputs": [
        {
          "output_type": "execute_result",
          "data": {
            "text/plain": [
              "54"
            ]
          },
          "metadata": {
            "tags": []
          },
          "execution_count": 156
        }
      ]
    },
    {
      "cell_type": "markdown",
      "metadata": {
        "collapsed": true,
        "id": "JvYHk6Q3Jwyo",
        "colab_type": "text"
      },
      "source": [
        "### How many \"Hamlet\" roles have been listed in all film credits through history?"
      ]
    },
    {
      "cell_type": "code",
      "metadata": {
        "id": "dSs2VCPPJwyq",
        "colab_type": "code",
        "colab": {
          "base_uri": "https://localhost:8080/",
          "height": 34
        },
        "outputId": "e9929476-181b-4efc-fcaf-2c7fea90c0a8"
      },
      "source": [
        "castdf11=castdf[castdf['title'].isin(['Hamlet'])]\n",
        "len(castdf11.character.unique())"
      ],
      "execution_count": 163,
      "outputs": [
        {
          "output_type": "execute_result",
          "data": {
            "text/plain": [
              "112"
            ]
          },
          "metadata": {
            "tags": []
          },
          "execution_count": 163
        }
      ]
    },
    {
      "cell_type": "code",
      "metadata": {
        "id": "1TpGaDyeJwyy",
        "colab_type": "code",
        "colab": {}
      },
      "source": [
        ""
      ],
      "execution_count": null,
      "outputs": []
    },
    {
      "cell_type": "markdown",
      "metadata": {
        "collapsed": true,
        "id": "f4WyrTHuJwzD",
        "colab_type": "text"
      },
      "source": [
        "### How many people have played an \"Ophelia\"?"
      ]
    },
    {
      "cell_type": "code",
      "metadata": {
        "id": "Uc9THnk-JwzE",
        "colab_type": "code",
        "colab": {
          "base_uri": "https://localhost:8080/",
          "height": 419
        },
        "outputId": "b9092f33-1804-4791-b67c-823b5f1560fe"
      },
      "source": [
        "castdf13=castdf[castdf['character'].isin(['Ophelia'])]\n",
        "castdf13"
      ],
      "execution_count": 166,
      "outputs": [
        {
          "output_type": "execute_result",
          "data": {
            "text/html": [
              "<div>\n",
              "<style scoped>\n",
              "    .dataframe tbody tr th:only-of-type {\n",
              "        vertical-align: middle;\n",
              "    }\n",
              "\n",
              "    .dataframe tbody tr th {\n",
              "        vertical-align: top;\n",
              "    }\n",
              "\n",
              "    .dataframe thead th {\n",
              "        text-align: right;\n",
              "    }\n",
              "</style>\n",
              "<table border=\"1\" class=\"dataframe\">\n",
              "  <thead>\n",
              "    <tr style=\"text-align: right;\">\n",
              "      <th></th>\n",
              "      <th>title</th>\n",
              "      <th>year</th>\n",
              "      <th>name</th>\n",
              "      <th>type</th>\n",
              "      <th>character</th>\n",
              "      <th>n</th>\n",
              "    </tr>\n",
              "  </thead>\n",
              "  <tbody>\n",
              "    <tr>\n",
              "      <th>248251</th>\n",
              "      <td>The Merry Maids of Madness</td>\n",
              "      <td>2016</td>\n",
              "      <td>Amy Bourque</td>\n",
              "      <td>actor</td>\n",
              "      <td>Ophelia</td>\n",
              "      <td>11.0</td>\n",
              "    </tr>\n",
              "    <tr>\n",
              "      <th>410247</th>\n",
              "      <td>Jake Gets Paid</td>\n",
              "      <td>2009</td>\n",
              "      <td>Josie Chisholm</td>\n",
              "      <td>actor</td>\n",
              "      <td>Ophelia</td>\n",
              "      <td>NaN</td>\n",
              "    </tr>\n",
              "    <tr>\n",
              "      <th>470859</th>\n",
              "      <td>Inoperable</td>\n",
              "      <td>2017</td>\n",
              "      <td>Crystal Cordero</td>\n",
              "      <td>actor</td>\n",
              "      <td>Ophelia</td>\n",
              "      <td>NaN</td>\n",
              "    </tr>\n",
              "    <tr>\n",
              "      <th>866334</th>\n",
              "      <td>Dogg's Hamlet, Cahoot's Macbeth</td>\n",
              "      <td>2005</td>\n",
              "      <td>Lucas Grabeel</td>\n",
              "      <td>actor</td>\n",
              "      <td>Ophelia</td>\n",
              "      <td>NaN</td>\n",
              "    </tr>\n",
              "    <tr>\n",
              "      <th>1364457</th>\n",
              "      <td>11</td>\n",
              "      <td>2014</td>\n",
              "      <td>Catherine (IV) Lord</td>\n",
              "      <td>actor</td>\n",
              "      <td>Ophelia</td>\n",
              "      <td>NaN</td>\n",
              "    </tr>\n",
              "    <tr>\n",
              "      <th>...</th>\n",
              "      <td>...</td>\n",
              "      <td>...</td>\n",
              "      <td>...</td>\n",
              "      <td>...</td>\n",
              "      <td>...</td>\n",
              "      <td>...</td>\n",
              "    </tr>\n",
              "    <tr>\n",
              "      <th>3722298</th>\n",
              "      <td>D.C. Cab</td>\n",
              "      <td>1983</td>\n",
              "      <td>Marsha Warfield</td>\n",
              "      <td>actress</td>\n",
              "      <td>Ophelia</td>\n",
              "      <td>7.0</td>\n",
              "    </tr>\n",
              "    <tr>\n",
              "      <th>3723039</th>\n",
              "      <td>Creature</td>\n",
              "      <td>2011</td>\n",
              "      <td>Jennifer Lynn Warren</td>\n",
              "      <td>actress</td>\n",
              "      <td>Ophelia</td>\n",
              "      <td>12.0</td>\n",
              "    </tr>\n",
              "    <tr>\n",
              "      <th>3733637</th>\n",
              "      <td>Hamlet</td>\n",
              "      <td>2015</td>\n",
              "      <td>Katie (II) West</td>\n",
              "      <td>actress</td>\n",
              "      <td>Ophelia</td>\n",
              "      <td>7.0</td>\n",
              "    </tr>\n",
              "    <tr>\n",
              "      <th>3748118</th>\n",
              "      <td>National Theatre Live: Rosencrantz &amp; Guildenst...</td>\n",
              "      <td>2017</td>\n",
              "      <td>Helen (IV) Wilson</td>\n",
              "      <td>actress</td>\n",
              "      <td>Ophelia</td>\n",
              "      <td>NaN</td>\n",
              "    </tr>\n",
              "    <tr>\n",
              "      <th>3751232</th>\n",
              "      <td>Hamlet</td>\n",
              "      <td>1996</td>\n",
              "      <td>Kate Winslet</td>\n",
              "      <td>actress</td>\n",
              "      <td>Ophelia</td>\n",
              "      <td>46.0</td>\n",
              "    </tr>\n",
              "  </tbody>\n",
              "</table>\n",
              "<p>117 rows × 6 columns</p>\n",
              "</div>"
            ],
            "text/plain": [
              "                                                     title  ...     n\n",
              "248251                          The Merry Maids of Madness  ...  11.0\n",
              "410247                                      Jake Gets Paid  ...   NaN\n",
              "470859                                          Inoperable  ...   NaN\n",
              "866334                     Dogg's Hamlet, Cahoot's Macbeth  ...   NaN\n",
              "1364457                                                 11  ...   NaN\n",
              "...                                                    ...  ...   ...\n",
              "3722298                                           D.C. Cab  ...   7.0\n",
              "3723039                                           Creature  ...  12.0\n",
              "3733637                                             Hamlet  ...   7.0\n",
              "3748118  National Theatre Live: Rosencrantz & Guildenst...  ...   NaN\n",
              "3751232                                             Hamlet  ...  46.0\n",
              "\n",
              "[117 rows x 6 columns]"
            ]
          },
          "metadata": {
            "tags": []
          },
          "execution_count": 166
        }
      ]
    },
    {
      "cell_type": "code",
      "metadata": {
        "id": "pBfGq6NxJwzP",
        "colab_type": "code",
        "colab": {
          "base_uri": "https://localhost:8080/",
          "height": 34
        },
        "outputId": "85f5229a-eca3-4d78-8cb6-6e21e3481c51"
      },
      "source": [
        "len(castdf13.name.unique())"
      ],
      "execution_count": 167,
      "outputs": [
        {
          "output_type": "execute_result",
          "data": {
            "text/plain": [
              "115"
            ]
          },
          "metadata": {
            "tags": []
          },
          "execution_count": 167
        }
      ]
    },
    {
      "cell_type": "markdown",
      "metadata": {
        "collapsed": true,
        "id": "sZczkedkJwzd",
        "colab_type": "text"
      },
      "source": [
        "### How many people have played a role called \"The Dude\"?"
      ]
    },
    {
      "cell_type": "code",
      "metadata": {
        "id": "GJJs2La9Jwzj",
        "colab_type": "code",
        "colab": {
          "base_uri": "https://localhost:8080/",
          "height": 638
        },
        "outputId": "8ca6bd8a-f8d2-4f8f-a002-70c90cff734c"
      },
      "source": [
        "castdf14=castdf[castdf['character'].isin(['The Dude'])]\n",
        "castdf14"
      ],
      "execution_count": 168,
      "outputs": [
        {
          "output_type": "execute_result",
          "data": {
            "text/html": [
              "<div>\n",
              "<style scoped>\n",
              "    .dataframe tbody tr th:only-of-type {\n",
              "        vertical-align: middle;\n",
              "    }\n",
              "\n",
              "    .dataframe tbody tr th {\n",
              "        vertical-align: top;\n",
              "    }\n",
              "\n",
              "    .dataframe thead th {\n",
              "        text-align: right;\n",
              "    }\n",
              "</style>\n",
              "<table border=\"1\" class=\"dataframe\">\n",
              "  <thead>\n",
              "    <tr style=\"text-align: right;\">\n",
              "      <th></th>\n",
              "      <th>title</th>\n",
              "      <th>year</th>\n",
              "      <th>name</th>\n",
              "      <th>type</th>\n",
              "      <th>character</th>\n",
              "      <th>n</th>\n",
              "    </tr>\n",
              "  </thead>\n",
              "  <tbody>\n",
              "    <tr>\n",
              "      <th>272161</th>\n",
              "      <td>The Big Lebowski</td>\n",
              "      <td>1998</td>\n",
              "      <td>Jeff Bridges</td>\n",
              "      <td>actor</td>\n",
              "      <td>The Dude</td>\n",
              "      <td>1.0</td>\n",
              "    </tr>\n",
              "    <tr>\n",
              "      <th>339389</th>\n",
              "      <td>Terms &amp; Conditions</td>\n",
              "      <td>2015</td>\n",
              "      <td>Jordan Cann</td>\n",
              "      <td>actor</td>\n",
              "      <td>The Dude</td>\n",
              "      <td>9.0</td>\n",
              "    </tr>\n",
              "    <tr>\n",
              "      <th>498660</th>\n",
              "      <td>Stranger</td>\n",
              "      <td>2000</td>\n",
              "      <td>Scott Crowell</td>\n",
              "      <td>actor</td>\n",
              "      <td>The Dude</td>\n",
              "      <td>NaN</td>\n",
              "    </tr>\n",
              "    <tr>\n",
              "      <th>570128</th>\n",
              "      <td>Pizza Man vs. the Dude</td>\n",
              "      <td>2004</td>\n",
              "      <td>Chris DeMarcus</td>\n",
              "      <td>actor</td>\n",
              "      <td>The Dude</td>\n",
              "      <td>NaN</td>\n",
              "    </tr>\n",
              "    <tr>\n",
              "      <th>610791</th>\n",
              "      <td>Sweepstakes</td>\n",
              "      <td>1931</td>\n",
              "      <td>Mike Donlin</td>\n",
              "      <td>actor</td>\n",
              "      <td>The Dude</td>\n",
              "      <td>12.0</td>\n",
              "    </tr>\n",
              "    <tr>\n",
              "      <th>629473</th>\n",
              "      <td>Self Helpless</td>\n",
              "      <td>2010</td>\n",
              "      <td>Devin The Dude</td>\n",
              "      <td>actor</td>\n",
              "      <td>The Dude</td>\n",
              "      <td>NaN</td>\n",
              "    </tr>\n",
              "    <tr>\n",
              "      <th>855976</th>\n",
              "      <td>A Few Brains More</td>\n",
              "      <td>2012</td>\n",
              "      <td>Michael D. Goodwin</td>\n",
              "      <td>actor</td>\n",
              "      <td>The Dude</td>\n",
              "      <td>NaN</td>\n",
              "    </tr>\n",
              "    <tr>\n",
              "      <th>1089444</th>\n",
              "      <td>Jay and Silent Bob Strike Back</td>\n",
              "      <td>2001</td>\n",
              "      <td>Matthew (XIX) James</td>\n",
              "      <td>actor</td>\n",
              "      <td>The Dude</td>\n",
              "      <td>37.0</td>\n",
              "    </tr>\n",
              "    <tr>\n",
              "      <th>1138933</th>\n",
              "      <td>Explicit Ills</td>\n",
              "      <td>2008</td>\n",
              "      <td>Christopher Kadish</td>\n",
              "      <td>actor</td>\n",
              "      <td>The Dude</td>\n",
              "      <td>27.0</td>\n",
              "    </tr>\n",
              "    <tr>\n",
              "      <th>1367230</th>\n",
              "      <td>American Idiots</td>\n",
              "      <td>2013</td>\n",
              "      <td>Jason Loughridge</td>\n",
              "      <td>actor</td>\n",
              "      <td>The Dude</td>\n",
              "      <td>10.0</td>\n",
              "    </tr>\n",
              "    <tr>\n",
              "      <th>1386561</th>\n",
              "      <td>The Winds of Autumn</td>\n",
              "      <td>1976</td>\n",
              "      <td>Steve Lyons</td>\n",
              "      <td>actor</td>\n",
              "      <td>The Dude</td>\n",
              "      <td>30.0</td>\n",
              "    </tr>\n",
              "    <tr>\n",
              "      <th>1512572</th>\n",
              "      <td>The Liq</td>\n",
              "      <td>2016</td>\n",
              "      <td>Mark Alan Meek</td>\n",
              "      <td>actor</td>\n",
              "      <td>The Dude</td>\n",
              "      <td>NaN</td>\n",
              "    </tr>\n",
              "    <tr>\n",
              "      <th>1540933</th>\n",
              "      <td>Wild Oats Lane</td>\n",
              "      <td>1926</td>\n",
              "      <td>Jerry Miley</td>\n",
              "      <td>actor</td>\n",
              "      <td>The Dude</td>\n",
              "      <td>6.0</td>\n",
              "    </tr>\n",
              "    <tr>\n",
              "      <th>1784519</th>\n",
              "      <td>Oklahoma Badlands</td>\n",
              "      <td>1948</td>\n",
              "      <td>House Peters Jr.</td>\n",
              "      <td>actor</td>\n",
              "      <td>The Dude</td>\n",
              "      <td>13.0</td>\n",
              "    </tr>\n",
              "    <tr>\n",
              "      <th>1824744</th>\n",
              "      <td>Cloud Air: The Movie</td>\n",
              "      <td>2013</td>\n",
              "      <td>Thomas (VIII) Porter</td>\n",
              "      <td>actor</td>\n",
              "      <td>The Dude</td>\n",
              "      <td>8.0</td>\n",
              "    </tr>\n",
              "    <tr>\n",
              "      <th>1838960</th>\n",
              "      <td>Hacks</td>\n",
              "      <td>1997</td>\n",
              "      <td>Jason Priestley</td>\n",
              "      <td>actor</td>\n",
              "      <td>The Dude</td>\n",
              "      <td>11.0</td>\n",
              "    </tr>\n",
              "    <tr>\n",
              "      <th>2202150</th>\n",
              "      <td>Carlos Spills the Beans</td>\n",
              "      <td>2013</td>\n",
              "      <td>Bobby Styles</td>\n",
              "      <td>actor</td>\n",
              "      <td>The Dude</td>\n",
              "      <td>NaN</td>\n",
              "    </tr>\n",
              "    <tr>\n",
              "      <th>2336261</th>\n",
              "      <td>Zachariah</td>\n",
              "      <td>1971</td>\n",
              "      <td>Dick Van Patten</td>\n",
              "      <td>actor</td>\n",
              "      <td>The Dude</td>\n",
              "      <td>9.0</td>\n",
              "    </tr>\n",
              "    <tr>\n",
              "      <th>2419271</th>\n",
              "      <td>It Can Be Arranged</td>\n",
              "      <td>2010</td>\n",
              "      <td>Joel Weiss</td>\n",
              "      <td>actor</td>\n",
              "      <td>The Dude</td>\n",
              "      <td>NaN</td>\n",
              "    </tr>\n",
              "  </tbody>\n",
              "</table>\n",
              "</div>"
            ],
            "text/plain": [
              "                                  title  year  ... character     n\n",
              "272161                 The Big Lebowski  1998  ...  The Dude   1.0\n",
              "339389               Terms & Conditions  2015  ...  The Dude   9.0\n",
              "498660                         Stranger  2000  ...  The Dude   NaN\n",
              "570128           Pizza Man vs. the Dude  2004  ...  The Dude   NaN\n",
              "610791                      Sweepstakes  1931  ...  The Dude  12.0\n",
              "629473                    Self Helpless  2010  ...  The Dude   NaN\n",
              "855976                A Few Brains More  2012  ...  The Dude   NaN\n",
              "1089444  Jay and Silent Bob Strike Back  2001  ...  The Dude  37.0\n",
              "1138933                   Explicit Ills  2008  ...  The Dude  27.0\n",
              "1367230                 American Idiots  2013  ...  The Dude  10.0\n",
              "1386561             The Winds of Autumn  1976  ...  The Dude  30.0\n",
              "1512572                         The Liq  2016  ...  The Dude   NaN\n",
              "1540933                  Wild Oats Lane  1926  ...  The Dude   6.0\n",
              "1784519               Oklahoma Badlands  1948  ...  The Dude  13.0\n",
              "1824744            Cloud Air: The Movie  2013  ...  The Dude   8.0\n",
              "1838960                           Hacks  1997  ...  The Dude  11.0\n",
              "2202150         Carlos Spills the Beans  2013  ...  The Dude   NaN\n",
              "2336261                       Zachariah  1971  ...  The Dude   9.0\n",
              "2419271              It Can Be Arranged  2010  ...  The Dude   NaN\n",
              "\n",
              "[19 rows x 6 columns]"
            ]
          },
          "metadata": {
            "tags": []
          },
          "execution_count": 168
        }
      ]
    },
    {
      "cell_type": "code",
      "metadata": {
        "id": "GOwzi_e6Jwzu",
        "colab_type": "code",
        "colab": {
          "base_uri": "https://localhost:8080/",
          "height": 34
        },
        "outputId": "af766900-0a02-49be-9662-1f810d7aa723"
      },
      "source": [
        "len(castdf14.name.unique())"
      ],
      "execution_count": 169,
      "outputs": [
        {
          "output_type": "execute_result",
          "data": {
            "text/plain": [
              "19"
            ]
          },
          "metadata": {
            "tags": []
          },
          "execution_count": 169
        }
      ]
    },
    {
      "cell_type": "markdown",
      "metadata": {
        "collapsed": true,
        "id": "3ZOGzetHJwz0",
        "colab_type": "text"
      },
      "source": [
        "### How many people have played a role called \"The Stranger\"?"
      ]
    },
    {
      "cell_type": "code",
      "metadata": {
        "id": "ZJyJgCcJJwz1",
        "colab_type": "code",
        "colab": {
          "base_uri": "https://localhost:8080/",
          "height": 419
        },
        "outputId": "c72bf7b0-164e-4ab4-ae13-b712b61f683a"
      },
      "source": [
        "castdf15=castdf[castdf['character'].isin(['The Stranger'])]\n",
        "castdf15"
      ],
      "execution_count": 171,
      "outputs": [
        {
          "output_type": "execute_result",
          "data": {
            "text/html": [
              "<div>\n",
              "<style scoped>\n",
              "    .dataframe tbody tr th:only-of-type {\n",
              "        vertical-align: middle;\n",
              "    }\n",
              "\n",
              "    .dataframe tbody tr th {\n",
              "        vertical-align: top;\n",
              "    }\n",
              "\n",
              "    .dataframe thead th {\n",
              "        text-align: right;\n",
              "    }\n",
              "</style>\n",
              "<table border=\"1\" class=\"dataframe\">\n",
              "  <thead>\n",
              "    <tr style=\"text-align: right;\">\n",
              "      <th></th>\n",
              "      <th>title</th>\n",
              "      <th>year</th>\n",
              "      <th>name</th>\n",
              "      <th>type</th>\n",
              "      <th>character</th>\n",
              "      <th>n</th>\n",
              "    </tr>\n",
              "  </thead>\n",
              "  <tbody>\n",
              "    <tr>\n",
              "      <th>25954</th>\n",
              "      <td>Theeb</td>\n",
              "      <td>2014</td>\n",
              "      <td>Hassan Mutlag Al-Maraiyeh</td>\n",
              "      <td>actor</td>\n",
              "      <td>The Stranger</td>\n",
              "      <td>2.0</td>\n",
              "    </tr>\n",
              "    <tr>\n",
              "      <th>35748</th>\n",
              "      <td>My Time to Die</td>\n",
              "      <td>2014</td>\n",
              "      <td>Vincent H. Alexander</td>\n",
              "      <td>actor</td>\n",
              "      <td>The Stranger</td>\n",
              "      <td>2.0</td>\n",
              "    </tr>\n",
              "    <tr>\n",
              "      <th>46418</th>\n",
              "      <td>Hickok</td>\n",
              "      <td>2017</td>\n",
              "      <td>Terral Altom</td>\n",
              "      <td>actor</td>\n",
              "      <td>The Stranger</td>\n",
              "      <td>NaN</td>\n",
              "    </tr>\n",
              "    <tr>\n",
              "      <th>67421</th>\n",
              "      <td>Get Mean</td>\n",
              "      <td>1975</td>\n",
              "      <td>Tony Anthony</td>\n",
              "      <td>actor</td>\n",
              "      <td>The Stranger</td>\n",
              "      <td>1.0</td>\n",
              "    </tr>\n",
              "    <tr>\n",
              "      <th>67424</th>\n",
              "      <td>Lo straniero di silenzio</td>\n",
              "      <td>1968</td>\n",
              "      <td>Tony Anthony</td>\n",
              "      <td>actor</td>\n",
              "      <td>The Stranger</td>\n",
              "      <td>1.0</td>\n",
              "    </tr>\n",
              "    <tr>\n",
              "      <th>...</th>\n",
              "      <td>...</td>\n",
              "      <td>...</td>\n",
              "      <td>...</td>\n",
              "      <td>...</td>\n",
              "      <td>...</td>\n",
              "      <td>...</td>\n",
              "    </tr>\n",
              "    <tr>\n",
              "      <th>3219011</th>\n",
              "      <td>Ever Since Eve</td>\n",
              "      <td>1921</td>\n",
              "      <td>Ethel Lynne</td>\n",
              "      <td>actress</td>\n",
              "      <td>The Stranger</td>\n",
              "      <td>7.0</td>\n",
              "    </tr>\n",
              "    <tr>\n",
              "      <th>3405700</th>\n",
              "      <td>Weitertanzen</td>\n",
              "      <td>2008</td>\n",
              "      <td>Rosa Maria Paz</td>\n",
              "      <td>actress</td>\n",
              "      <td>The Stranger</td>\n",
              "      <td>NaN</td>\n",
              "    </tr>\n",
              "    <tr>\n",
              "      <th>3427715</th>\n",
              "      <td>The Godsend</td>\n",
              "      <td>1980</td>\n",
              "      <td>Angela Pleasence</td>\n",
              "      <td>actress</td>\n",
              "      <td>The Stranger</td>\n",
              "      <td>3.0</td>\n",
              "    </tr>\n",
              "    <tr>\n",
              "      <th>3567516</th>\n",
              "      <td>Motherland</td>\n",
              "      <td>1927</td>\n",
              "      <td>Dorinea Shirley</td>\n",
              "      <td>actress</td>\n",
              "      <td>The Stranger</td>\n",
              "      <td>NaN</td>\n",
              "    </tr>\n",
              "    <tr>\n",
              "      <th>3746949</th>\n",
              "      <td>The Seventh</td>\n",
              "      <td>2017</td>\n",
              "      <td>Kerry (II) Willison-Parry</td>\n",
              "      <td>actress</td>\n",
              "      <td>The Stranger</td>\n",
              "      <td>NaN</td>\n",
              "    </tr>\n",
              "  </tbody>\n",
              "</table>\n",
              "<p>212 rows × 6 columns</p>\n",
              "</div>"
            ],
            "text/plain": [
              "                            title  year  ...     character    n\n",
              "25954                       Theeb  2014  ...  The Stranger  2.0\n",
              "35748              My Time to Die  2014  ...  The Stranger  2.0\n",
              "46418                      Hickok  2017  ...  The Stranger  NaN\n",
              "67421                    Get Mean  1975  ...  The Stranger  1.0\n",
              "67424    Lo straniero di silenzio  1968  ...  The Stranger  1.0\n",
              "...                           ...   ...  ...           ...  ...\n",
              "3219011            Ever Since Eve  1921  ...  The Stranger  7.0\n",
              "3405700              Weitertanzen  2008  ...  The Stranger  NaN\n",
              "3427715               The Godsend  1980  ...  The Stranger  3.0\n",
              "3567516                Motherland  1927  ...  The Stranger  NaN\n",
              "3746949               The Seventh  2017  ...  The Stranger  NaN\n",
              "\n",
              "[212 rows x 6 columns]"
            ]
          },
          "metadata": {
            "tags": []
          },
          "execution_count": 171
        }
      ]
    },
    {
      "cell_type": "code",
      "metadata": {
        "id": "k7DK2cweJwz9",
        "colab_type": "code",
        "colab": {
          "base_uri": "https://localhost:8080/",
          "height": 34
        },
        "outputId": "48daff2a-0470-4180-c0b8-4cb8036142b6"
      },
      "source": [
        "len(castdf15.name.unique())"
      ],
      "execution_count": 172,
      "outputs": [
        {
          "output_type": "execute_result",
          "data": {
            "text/plain": [
              "202"
            ]
          },
          "metadata": {
            "tags": []
          },
          "execution_count": 172
        }
      ]
    },
    {
      "cell_type": "markdown",
      "metadata": {
        "collapsed": true,
        "id": "Fc9_lLfuJw0M",
        "colab_type": "text"
      },
      "source": [
        "### How many roles has Sidney Poitier played throughout his career?"
      ]
    },
    {
      "cell_type": "code",
      "metadata": {
        "id": "cIDuy42rJw0O",
        "colab_type": "code",
        "colab": {
          "base_uri": "https://localhost:8080/",
          "height": 1000
        },
        "outputId": "28aaf2d4-24eb-49c2-eac5-94e13cb31d87"
      },
      "source": [
        "castdf16=castdf[castdf['name'].isin(['Sidney Poitier'])]\n",
        "castdf16"
      ],
      "execution_count": 173,
      "outputs": [
        {
          "output_type": "execute_result",
          "data": {
            "text/html": [
              "<div>\n",
              "<style scoped>\n",
              "    .dataframe tbody tr th:only-of-type {\n",
              "        vertical-align: middle;\n",
              "    }\n",
              "\n",
              "    .dataframe tbody tr th {\n",
              "        vertical-align: top;\n",
              "    }\n",
              "\n",
              "    .dataframe thead th {\n",
              "        text-align: right;\n",
              "    }\n",
              "</style>\n",
              "<table border=\"1\" class=\"dataframe\">\n",
              "  <thead>\n",
              "    <tr style=\"text-align: right;\">\n",
              "      <th></th>\n",
              "      <th>title</th>\n",
              "      <th>year</th>\n",
              "      <th>name</th>\n",
              "      <th>type</th>\n",
              "      <th>character</th>\n",
              "      <th>n</th>\n",
              "    </tr>\n",
              "  </thead>\n",
              "  <tbody>\n",
              "    <tr>\n",
              "      <th>1816209</th>\n",
              "      <td>A Patch of Blue</td>\n",
              "      <td>1965</td>\n",
              "      <td>Sidney Poitier</td>\n",
              "      <td>actor</td>\n",
              "      <td>Gordon Ralfe</td>\n",
              "      <td>1.0</td>\n",
              "    </tr>\n",
              "    <tr>\n",
              "      <th>1816210</th>\n",
              "      <td>A Piece of the Action</td>\n",
              "      <td>1977</td>\n",
              "      <td>Sidney Poitier</td>\n",
              "      <td>actor</td>\n",
              "      <td>Manny Durrell</td>\n",
              "      <td>1.0</td>\n",
              "    </tr>\n",
              "    <tr>\n",
              "      <th>1816211</th>\n",
              "      <td>A Raisin in the Sun</td>\n",
              "      <td>1961</td>\n",
              "      <td>Sidney Poitier</td>\n",
              "      <td>actor</td>\n",
              "      <td>Walter Lee Younger</td>\n",
              "      <td>1.0</td>\n",
              "    </tr>\n",
              "    <tr>\n",
              "      <th>1816212</th>\n",
              "      <td>A Warm December</td>\n",
              "      <td>1973</td>\n",
              "      <td>Sidney Poitier</td>\n",
              "      <td>actor</td>\n",
              "      <td>Dr. Matt Younger</td>\n",
              "      <td>1.0</td>\n",
              "    </tr>\n",
              "    <tr>\n",
              "      <th>1816213</th>\n",
              "      <td>All the Young Men</td>\n",
              "      <td>1960</td>\n",
              "      <td>Sidney Poitier</td>\n",
              "      <td>actor</td>\n",
              "      <td>Sgt. Eddie Towler</td>\n",
              "      <td>2.0</td>\n",
              "    </tr>\n",
              "    <tr>\n",
              "      <th>1816214</th>\n",
              "      <td>Band of Angels</td>\n",
              "      <td>1957</td>\n",
              "      <td>Sidney Poitier</td>\n",
              "      <td>actor</td>\n",
              "      <td>Rau-Ru</td>\n",
              "      <td>3.0</td>\n",
              "    </tr>\n",
              "    <tr>\n",
              "      <th>1816215</th>\n",
              "      <td>Blackboard Jungle</td>\n",
              "      <td>1955</td>\n",
              "      <td>Sidney Poitier</td>\n",
              "      <td>actor</td>\n",
              "      <td>Gregory W. Miller</td>\n",
              "      <td>10.0</td>\n",
              "    </tr>\n",
              "    <tr>\n",
              "      <th>1816216</th>\n",
              "      <td>Brother John</td>\n",
              "      <td>1971</td>\n",
              "      <td>Sidney Poitier</td>\n",
              "      <td>actor</td>\n",
              "      <td>John Kane</td>\n",
              "      <td>1.0</td>\n",
              "    </tr>\n",
              "    <tr>\n",
              "      <th>1816217</th>\n",
              "      <td>Buck and the Preacher</td>\n",
              "      <td>1972</td>\n",
              "      <td>Sidney Poitier</td>\n",
              "      <td>actor</td>\n",
              "      <td>Buck</td>\n",
              "      <td>1.0</td>\n",
              "    </tr>\n",
              "    <tr>\n",
              "      <th>1816218</th>\n",
              "      <td>Cry, the Beloved Country</td>\n",
              "      <td>1951</td>\n",
              "      <td>Sidney Poitier</td>\n",
              "      <td>actor</td>\n",
              "      <td>Reverend Msimangu</td>\n",
              "      <td>3.0</td>\n",
              "    </tr>\n",
              "    <tr>\n",
              "      <th>1816219</th>\n",
              "      <td>Duel at Diablo</td>\n",
              "      <td>1966</td>\n",
              "      <td>Sidney Poitier</td>\n",
              "      <td>actor</td>\n",
              "      <td>Toller</td>\n",
              "      <td>2.0</td>\n",
              "    </tr>\n",
              "    <tr>\n",
              "      <th>1816220</th>\n",
              "      <td>Edge of the City</td>\n",
              "      <td>1957</td>\n",
              "      <td>Sidney Poitier</td>\n",
              "      <td>actor</td>\n",
              "      <td>Tommy Tyler</td>\n",
              "      <td>2.0</td>\n",
              "    </tr>\n",
              "    <tr>\n",
              "      <th>1816221</th>\n",
              "      <td>For Love of Ivy</td>\n",
              "      <td>1968</td>\n",
              "      <td>Sidney Poitier</td>\n",
              "      <td>actor</td>\n",
              "      <td>Jack Parks</td>\n",
              "      <td>1.0</td>\n",
              "    </tr>\n",
              "    <tr>\n",
              "      <th>1816222</th>\n",
              "      <td>Go Man Go</td>\n",
              "      <td>1954</td>\n",
              "      <td>Sidney Poitier</td>\n",
              "      <td>actor</td>\n",
              "      <td>Inman Jackson</td>\n",
              "      <td>3.0</td>\n",
              "    </tr>\n",
              "    <tr>\n",
              "      <th>1816223</th>\n",
              "      <td>Good-bye, My Lady</td>\n",
              "      <td>1956</td>\n",
              "      <td>Sidney Poitier</td>\n",
              "      <td>actor</td>\n",
              "      <td>Gates Watson</td>\n",
              "      <td>4.0</td>\n",
              "    </tr>\n",
              "    <tr>\n",
              "      <th>1816224</th>\n",
              "      <td>Guess Who's Coming to Dinner</td>\n",
              "      <td>1967</td>\n",
              "      <td>Sidney Poitier</td>\n",
              "      <td>actor</td>\n",
              "      <td>John Prentice</td>\n",
              "      <td>2.0</td>\n",
              "    </tr>\n",
              "    <tr>\n",
              "      <th>1816225</th>\n",
              "      <td>In the Heat of the Night</td>\n",
              "      <td>1967</td>\n",
              "      <td>Sidney Poitier</td>\n",
              "      <td>actor</td>\n",
              "      <td>Virgil Tibbs</td>\n",
              "      <td>1.0</td>\n",
              "    </tr>\n",
              "    <tr>\n",
              "      <th>1816226</th>\n",
              "      <td>Let's Do It Again</td>\n",
              "      <td>1975</td>\n",
              "      <td>Sidney Poitier</td>\n",
              "      <td>actor</td>\n",
              "      <td>Clyde Williams</td>\n",
              "      <td>1.0</td>\n",
              "    </tr>\n",
              "    <tr>\n",
              "      <th>1816227</th>\n",
              "      <td>Lilies of the Field</td>\n",
              "      <td>1963</td>\n",
              "      <td>Sidney Poitier</td>\n",
              "      <td>actor</td>\n",
              "      <td>Homer Smith</td>\n",
              "      <td>1.0</td>\n",
              "    </tr>\n",
              "    <tr>\n",
              "      <th>1816228</th>\n",
              "      <td>Little Nikita</td>\n",
              "      <td>1988</td>\n",
              "      <td>Sidney Poitier</td>\n",
              "      <td>actor</td>\n",
              "      <td>Roy Parmenter</td>\n",
              "      <td>1.0</td>\n",
              "    </tr>\n",
              "    <tr>\n",
              "      <th>1816229</th>\n",
              "      <td>No Way Out</td>\n",
              "      <td>1950</td>\n",
              "      <td>Sidney Poitier</td>\n",
              "      <td>actor</td>\n",
              "      <td>Dr. Luther Brooks</td>\n",
              "      <td>4.0</td>\n",
              "    </tr>\n",
              "    <tr>\n",
              "      <th>1816230</th>\n",
              "      <td>Paris Blues</td>\n",
              "      <td>1961</td>\n",
              "      <td>Sidney Poitier</td>\n",
              "      <td>actor</td>\n",
              "      <td>Eddie Cook</td>\n",
              "      <td>3.0</td>\n",
              "    </tr>\n",
              "    <tr>\n",
              "      <th>1816231</th>\n",
              "      <td>Porgy and Bess</td>\n",
              "      <td>1959</td>\n",
              "      <td>Sidney Poitier</td>\n",
              "      <td>actor</td>\n",
              "      <td>Porgy</td>\n",
              "      <td>1.0</td>\n",
              "    </tr>\n",
              "    <tr>\n",
              "      <th>1816232</th>\n",
              "      <td>Pressure Point</td>\n",
              "      <td>1962</td>\n",
              "      <td>Sidney Poitier</td>\n",
              "      <td>actor</td>\n",
              "      <td>Doctor</td>\n",
              "      <td>1.0</td>\n",
              "    </tr>\n",
              "    <tr>\n",
              "      <th>1816233</th>\n",
              "      <td>Red Ball Express</td>\n",
              "      <td>1952</td>\n",
              "      <td>Sidney Poitier</td>\n",
              "      <td>actor</td>\n",
              "      <td>Robertson</td>\n",
              "      <td>5.0</td>\n",
              "    </tr>\n",
              "    <tr>\n",
              "      <th>1816234</th>\n",
              "      <td>Sepia Cinderella</td>\n",
              "      <td>1947</td>\n",
              "      <td>Sidney Poitier</td>\n",
              "      <td>actor</td>\n",
              "      <td>Night Club Extra</td>\n",
              "      <td>NaN</td>\n",
              "    </tr>\n",
              "    <tr>\n",
              "      <th>1816235</th>\n",
              "      <td>Shoot to Kill</td>\n",
              "      <td>1988</td>\n",
              "      <td>Sidney Poitier</td>\n",
              "      <td>actor</td>\n",
              "      <td>Warren Stantin</td>\n",
              "      <td>1.0</td>\n",
              "    </tr>\n",
              "    <tr>\n",
              "      <th>1816236</th>\n",
              "      <td>Sneakers</td>\n",
              "      <td>1992</td>\n",
              "      <td>Sidney Poitier</td>\n",
              "      <td>actor</td>\n",
              "      <td>Donald Crease</td>\n",
              "      <td>4.0</td>\n",
              "    </tr>\n",
              "    <tr>\n",
              "      <th>1816237</th>\n",
              "      <td>Something of Value</td>\n",
              "      <td>1957</td>\n",
              "      <td>Sidney Poitier</td>\n",
              "      <td>actor</td>\n",
              "      <td>Kimani Wa Karanja</td>\n",
              "      <td>13.0</td>\n",
              "    </tr>\n",
              "    <tr>\n",
              "      <th>1816238</th>\n",
              "      <td>The Bedford Incident</td>\n",
              "      <td>1965</td>\n",
              "      <td>Sidney Poitier</td>\n",
              "      <td>actor</td>\n",
              "      <td>Ben Munceford</td>\n",
              "      <td>2.0</td>\n",
              "    </tr>\n",
              "    <tr>\n",
              "      <th>1816239</th>\n",
              "      <td>The Defiant Ones</td>\n",
              "      <td>1958</td>\n",
              "      <td>Sidney Poitier</td>\n",
              "      <td>actor</td>\n",
              "      <td>Noah Cullen</td>\n",
              "      <td>2.0</td>\n",
              "    </tr>\n",
              "    <tr>\n",
              "      <th>1816240</th>\n",
              "      <td>The Greatest Story Ever Told</td>\n",
              "      <td>1965</td>\n",
              "      <td>Sidney Poitier</td>\n",
              "      <td>actor</td>\n",
              "      <td>Simon of Cyrene</td>\n",
              "      <td>21.0</td>\n",
              "    </tr>\n",
              "    <tr>\n",
              "      <th>1816241</th>\n",
              "      <td>The Jackal</td>\n",
              "      <td>1997</td>\n",
              "      <td>Sidney Poitier</td>\n",
              "      <td>actor</td>\n",
              "      <td>FBI Deputy Director Carter Preston</td>\n",
              "      <td>3.0</td>\n",
              "    </tr>\n",
              "    <tr>\n",
              "      <th>1816242</th>\n",
              "      <td>The Long Ships</td>\n",
              "      <td>1964</td>\n",
              "      <td>Sidney Poitier</td>\n",
              "      <td>actor</td>\n",
              "      <td>Aly Mansuh</td>\n",
              "      <td>2.0</td>\n",
              "    </tr>\n",
              "    <tr>\n",
              "      <th>1816243</th>\n",
              "      <td>The Lost Man</td>\n",
              "      <td>1969</td>\n",
              "      <td>Sidney Poitier</td>\n",
              "      <td>actor</td>\n",
              "      <td>Jason Higgs</td>\n",
              "      <td>1.0</td>\n",
              "    </tr>\n",
              "    <tr>\n",
              "      <th>1816244</th>\n",
              "      <td>The Mark of the Hawk</td>\n",
              "      <td>1957</td>\n",
              "      <td>Sidney Poitier</td>\n",
              "      <td>actor</td>\n",
              "      <td>Obam</td>\n",
              "      <td>2.0</td>\n",
              "    </tr>\n",
              "    <tr>\n",
              "      <th>1816245</th>\n",
              "      <td>The Organization</td>\n",
              "      <td>1971</td>\n",
              "      <td>Sidney Poitier</td>\n",
              "      <td>actor</td>\n",
              "      <td>Virgil Tibbs</td>\n",
              "      <td>1.0</td>\n",
              "    </tr>\n",
              "    <tr>\n",
              "      <th>1816246</th>\n",
              "      <td>The Slender Thread</td>\n",
              "      <td>1965</td>\n",
              "      <td>Sidney Poitier</td>\n",
              "      <td>actor</td>\n",
              "      <td>Alan Newell</td>\n",
              "      <td>1.0</td>\n",
              "    </tr>\n",
              "    <tr>\n",
              "      <th>1816247</th>\n",
              "      <td>The Wilby Conspiracy</td>\n",
              "      <td>1975</td>\n",
              "      <td>Sidney Poitier</td>\n",
              "      <td>actor</td>\n",
              "      <td>Shack Twala</td>\n",
              "      <td>1.0</td>\n",
              "    </tr>\n",
              "    <tr>\n",
              "      <th>1816248</th>\n",
              "      <td>They Call Me Mister Tibbs!</td>\n",
              "      <td>1970</td>\n",
              "      <td>Sidney Poitier</td>\n",
              "      <td>actor</td>\n",
              "      <td>Virgil Tibbs</td>\n",
              "      <td>1.0</td>\n",
              "    </tr>\n",
              "    <tr>\n",
              "      <th>1816249</th>\n",
              "      <td>To Sir, with Love</td>\n",
              "      <td>1967</td>\n",
              "      <td>Sidney Poitier</td>\n",
              "      <td>actor</td>\n",
              "      <td>Mark Thackeray</td>\n",
              "      <td>1.0</td>\n",
              "    </tr>\n",
              "    <tr>\n",
              "      <th>1816250</th>\n",
              "      <td>Uptown Saturday Night</td>\n",
              "      <td>1974</td>\n",
              "      <td>Sidney Poitier</td>\n",
              "      <td>actor</td>\n",
              "      <td>Steve Jackson</td>\n",
              "      <td>1.0</td>\n",
              "    </tr>\n",
              "    <tr>\n",
              "      <th>1816251</th>\n",
              "      <td>Virgin Island</td>\n",
              "      <td>1958</td>\n",
              "      <td>Sidney Poitier</td>\n",
              "      <td>actor</td>\n",
              "      <td>Marcus</td>\n",
              "      <td>3.0</td>\n",
              "    </tr>\n",
              "  </tbody>\n",
              "</table>\n",
              "</div>"
            ],
            "text/plain": [
              "                                title  ...     n\n",
              "1816209               A Patch of Blue  ...   1.0\n",
              "1816210         A Piece of the Action  ...   1.0\n",
              "1816211           A Raisin in the Sun  ...   1.0\n",
              "1816212               A Warm December  ...   1.0\n",
              "1816213             All the Young Men  ...   2.0\n",
              "1816214                Band of Angels  ...   3.0\n",
              "1816215             Blackboard Jungle  ...  10.0\n",
              "1816216                  Brother John  ...   1.0\n",
              "1816217         Buck and the Preacher  ...   1.0\n",
              "1816218      Cry, the Beloved Country  ...   3.0\n",
              "1816219                Duel at Diablo  ...   2.0\n",
              "1816220              Edge of the City  ...   2.0\n",
              "1816221               For Love of Ivy  ...   1.0\n",
              "1816222                     Go Man Go  ...   3.0\n",
              "1816223             Good-bye, My Lady  ...   4.0\n",
              "1816224  Guess Who's Coming to Dinner  ...   2.0\n",
              "1816225      In the Heat of the Night  ...   1.0\n",
              "1816226             Let's Do It Again  ...   1.0\n",
              "1816227           Lilies of the Field  ...   1.0\n",
              "1816228                 Little Nikita  ...   1.0\n",
              "1816229                    No Way Out  ...   4.0\n",
              "1816230                   Paris Blues  ...   3.0\n",
              "1816231                Porgy and Bess  ...   1.0\n",
              "1816232                Pressure Point  ...   1.0\n",
              "1816233              Red Ball Express  ...   5.0\n",
              "1816234              Sepia Cinderella  ...   NaN\n",
              "1816235                 Shoot to Kill  ...   1.0\n",
              "1816236                      Sneakers  ...   4.0\n",
              "1816237            Something of Value  ...  13.0\n",
              "1816238          The Bedford Incident  ...   2.0\n",
              "1816239              The Defiant Ones  ...   2.0\n",
              "1816240  The Greatest Story Ever Told  ...  21.0\n",
              "1816241                    The Jackal  ...   3.0\n",
              "1816242                The Long Ships  ...   2.0\n",
              "1816243                  The Lost Man  ...   1.0\n",
              "1816244          The Mark of the Hawk  ...   2.0\n",
              "1816245              The Organization  ...   1.0\n",
              "1816246            The Slender Thread  ...   1.0\n",
              "1816247          The Wilby Conspiracy  ...   1.0\n",
              "1816248    They Call Me Mister Tibbs!  ...   1.0\n",
              "1816249             To Sir, with Love  ...   1.0\n",
              "1816250         Uptown Saturday Night  ...   1.0\n",
              "1816251                 Virgin Island  ...   3.0\n",
              "\n",
              "[43 rows x 6 columns]"
            ]
          },
          "metadata": {
            "tags": []
          },
          "execution_count": 173
        }
      ]
    },
    {
      "cell_type": "code",
      "metadata": {
        "id": "Lc2RNOkiyuYh",
        "colab_type": "code",
        "colab": {
          "base_uri": "https://localhost:8080/",
          "height": 34
        },
        "outputId": "bc35ca3b-17a3-4f81-cefc-b37814ca7e36"
      },
      "source": [
        "len(castdf16)"
      ],
      "execution_count": 176,
      "outputs": [
        {
          "output_type": "execute_result",
          "data": {
            "text/plain": [
              "43"
            ]
          },
          "metadata": {
            "tags": []
          },
          "execution_count": 176
        }
      ]
    },
    {
      "cell_type": "code",
      "metadata": {
        "id": "9WZDBfMLJw0V",
        "colab_type": "code",
        "colab": {
          "base_uri": "https://localhost:8080/",
          "height": 34
        },
        "outputId": "224d309e-5fe8-4b45-bec1-e236656b4cca"
      },
      "source": [
        "len(castdf16.character.unique())"
      ],
      "execution_count": 175,
      "outputs": [
        {
          "output_type": "execute_result",
          "data": {
            "text/plain": [
              "41"
            ]
          },
          "metadata": {
            "tags": []
          },
          "execution_count": 175
        }
      ]
    },
    {
      "cell_type": "markdown",
      "metadata": {
        "collapsed": true,
        "id": "D8Pn3wnLJw0b",
        "colab_type": "text"
      },
      "source": [
        "### How many roles has Judi Dench played?"
      ]
    },
    {
      "cell_type": "code",
      "metadata": {
        "id": "0sZOloG4Jw0c",
        "colab_type": "code",
        "colab": {
          "base_uri": "https://localhost:8080/",
          "height": 1000
        },
        "outputId": "96f6f3e7-bdfa-4cf6-deb7-28229e72abdf"
      },
      "source": [
        "castdf17=castdf[castdf['name'].isin(['Judi Dench'])]\n",
        "castdf17"
      ],
      "execution_count": 177,
      "outputs": [
        {
          "output_type": "execute_result",
          "data": {
            "text/html": [
              "<div>\n",
              "<style scoped>\n",
              "    .dataframe tbody tr th:only-of-type {\n",
              "        vertical-align: middle;\n",
              "    }\n",
              "\n",
              "    .dataframe tbody tr th {\n",
              "        vertical-align: top;\n",
              "    }\n",
              "\n",
              "    .dataframe thead th {\n",
              "        text-align: right;\n",
              "    }\n",
              "</style>\n",
              "<table border=\"1\" class=\"dataframe\">\n",
              "  <thead>\n",
              "    <tr style=\"text-align: right;\">\n",
              "      <th></th>\n",
              "      <th>title</th>\n",
              "      <th>year</th>\n",
              "      <th>name</th>\n",
              "      <th>type</th>\n",
              "      <th>character</th>\n",
              "      <th>n</th>\n",
              "    </tr>\n",
              "  </thead>\n",
              "  <tbody>\n",
              "    <tr>\n",
              "      <th>2814206</th>\n",
              "      <td>84 Charing Cross Road</td>\n",
              "      <td>1987</td>\n",
              "      <td>Judi Dench</td>\n",
              "      <td>actress</td>\n",
              "      <td>Nora Doel</td>\n",
              "      <td>3.0</td>\n",
              "    </tr>\n",
              "    <tr>\n",
              "      <th>2814207</th>\n",
              "      <td>A Handful of Dust</td>\n",
              "      <td>1988</td>\n",
              "      <td>Judi Dench</td>\n",
              "      <td>actress</td>\n",
              "      <td>Mrs. Beaver</td>\n",
              "      <td>13.0</td>\n",
              "    </tr>\n",
              "    <tr>\n",
              "      <th>2814208</th>\n",
              "      <td>A Midsummer Night's Dream</td>\n",
              "      <td>1968</td>\n",
              "      <td>Judi Dench</td>\n",
              "      <td>actress</td>\n",
              "      <td>Titania</td>\n",
              "      <td>16.0</td>\n",
              "    </tr>\n",
              "    <tr>\n",
              "      <th>2814209</th>\n",
              "      <td>A Room with a View</td>\n",
              "      <td>1985</td>\n",
              "      <td>Judi Dench</td>\n",
              "      <td>actress</td>\n",
              "      <td>Eleanor Lavish, a novelist</td>\n",
              "      <td>7.0</td>\n",
              "    </tr>\n",
              "    <tr>\n",
              "      <th>2814210</th>\n",
              "      <td>A Study in Terror</td>\n",
              "      <td>1965</td>\n",
              "      <td>Judi Dench</td>\n",
              "      <td>actress</td>\n",
              "      <td>Sally</td>\n",
              "      <td>8.0</td>\n",
              "    </tr>\n",
              "    <tr>\n",
              "      <th>2814211</th>\n",
              "      <td>Angelina Ballerina: Angelina Sets Sail</td>\n",
              "      <td>2006</td>\n",
              "      <td>Judi Dench</td>\n",
              "      <td>actress</td>\n",
              "      <td>Miss Lilly</td>\n",
              "      <td>2.0</td>\n",
              "    </tr>\n",
              "    <tr>\n",
              "      <th>2814212</th>\n",
              "      <td>Branagh Theatre Live: The Winter's Tale</td>\n",
              "      <td>2015</td>\n",
              "      <td>Judi Dench</td>\n",
              "      <td>actress</td>\n",
              "      <td>Paulina</td>\n",
              "      <td>NaN</td>\n",
              "    </tr>\n",
              "    <tr>\n",
              "      <th>2814213</th>\n",
              "      <td>Casino Royale</td>\n",
              "      <td>2006</td>\n",
              "      <td>Judi Dench</td>\n",
              "      <td>actress</td>\n",
              "      <td>M</td>\n",
              "      <td>4.0</td>\n",
              "    </tr>\n",
              "    <tr>\n",
              "      <th>2814214</th>\n",
              "      <td>Chocolat</td>\n",
              "      <td>2000</td>\n",
              "      <td>Judi Dench</td>\n",
              "      <td>actress</td>\n",
              "      <td>Armande Voizin</td>\n",
              "      <td>18.0</td>\n",
              "    </tr>\n",
              "    <tr>\n",
              "      <th>2814215</th>\n",
              "      <td>Dead Cert</td>\n",
              "      <td>1974</td>\n",
              "      <td>Judi Dench</td>\n",
              "      <td>actress</td>\n",
              "      <td>Laura Davidson</td>\n",
              "      <td>2.0</td>\n",
              "    </tr>\n",
              "    <tr>\n",
              "      <th>2814216</th>\n",
              "      <td>Die Another Day</td>\n",
              "      <td>2002</td>\n",
              "      <td>Judi Dench</td>\n",
              "      <td>actress</td>\n",
              "      <td>M</td>\n",
              "      <td>6.0</td>\n",
              "    </tr>\n",
              "    <tr>\n",
              "      <th>2814217</th>\n",
              "      <td>Doogal</td>\n",
              "      <td>2006</td>\n",
              "      <td>Judi Dench</td>\n",
              "      <td>actress</td>\n",
              "      <td>Narrator</td>\n",
              "      <td>7.0</td>\n",
              "    </tr>\n",
              "    <tr>\n",
              "      <th>2814218</th>\n",
              "      <td>Four in the Morning</td>\n",
              "      <td>1965</td>\n",
              "      <td>Judi Dench</td>\n",
              "      <td>actress</td>\n",
              "      <td>Wife</td>\n",
              "      <td>2.0</td>\n",
              "    </tr>\n",
              "    <tr>\n",
              "      <th>2814219</th>\n",
              "      <td>GoldenEye</td>\n",
              "      <td>1995</td>\n",
              "      <td>Judi Dench</td>\n",
              "      <td>actress</td>\n",
              "      <td>M</td>\n",
              "      <td>6.0</td>\n",
              "    </tr>\n",
              "    <tr>\n",
              "      <th>2814220</th>\n",
              "      <td>Hamlet</td>\n",
              "      <td>1996</td>\n",
              "      <td>Judi Dench</td>\n",
              "      <td>actress</td>\n",
              "      <td>Hecuba</td>\n",
              "      <td>12.0</td>\n",
              "    </tr>\n",
              "    <tr>\n",
              "      <th>2814221</th>\n",
              "      <td>He Who Rides a Tiger</td>\n",
              "      <td>1965</td>\n",
              "      <td>Judi Dench</td>\n",
              "      <td>actress</td>\n",
              "      <td>Joanne</td>\n",
              "      <td>2.0</td>\n",
              "    </tr>\n",
              "    <tr>\n",
              "      <th>2814222</th>\n",
              "      <td>Henry V</td>\n",
              "      <td>1989</td>\n",
              "      <td>Judi Dench</td>\n",
              "      <td>actress</td>\n",
              "      <td>Mistress Nell Quickly</td>\n",
              "      <td>26.0</td>\n",
              "    </tr>\n",
              "    <tr>\n",
              "      <th>2814223</th>\n",
              "      <td>Home on the Range</td>\n",
              "      <td>2004</td>\n",
              "      <td>Judi Dench</td>\n",
              "      <td>actress</td>\n",
              "      <td>Mrs. Caloway</td>\n",
              "      <td>7.0</td>\n",
              "    </tr>\n",
              "    <tr>\n",
              "      <th>2814224</th>\n",
              "      <td>Iris</td>\n",
              "      <td>2001</td>\n",
              "      <td>Judi Dench</td>\n",
              "      <td>actress</td>\n",
              "      <td>Iris Murdoch</td>\n",
              "      <td>3.0</td>\n",
              "    </tr>\n",
              "    <tr>\n",
              "      <th>2814225</th>\n",
              "      <td>J. Edgar</td>\n",
              "      <td>2011</td>\n",
              "      <td>Judi Dench</td>\n",
              "      <td>actress</td>\n",
              "      <td>Annie Hoover</td>\n",
              "      <td>13.0</td>\n",
              "    </tr>\n",
              "    <tr>\n",
              "      <th>2814226</th>\n",
              "      <td>Jack &amp; Sarah</td>\n",
              "      <td>1995</td>\n",
              "      <td>Judi Dench</td>\n",
              "      <td>actress</td>\n",
              "      <td>Margaret</td>\n",
              "      <td>3.0</td>\n",
              "    </tr>\n",
              "    <tr>\n",
              "      <th>2814227</th>\n",
              "      <td>Jane Eyre</td>\n",
              "      <td>2011</td>\n",
              "      <td>Judi Dench</td>\n",
              "      <td>actress</td>\n",
              "      <td>Mrs. Fairfax</td>\n",
              "      <td>18.0</td>\n",
              "    </tr>\n",
              "    <tr>\n",
              "      <th>2814228</th>\n",
              "      <td>Ladies in Lavender</td>\n",
              "      <td>2004</td>\n",
              "      <td>Judi Dench</td>\n",
              "      <td>actress</td>\n",
              "      <td>Ursula</td>\n",
              "      <td>1.0</td>\n",
              "    </tr>\n",
              "    <tr>\n",
              "      <th>2814229</th>\n",
              "      <td>Luther</td>\n",
              "      <td>1974</td>\n",
              "      <td>Judi Dench</td>\n",
              "      <td>actress</td>\n",
              "      <td>Katherine</td>\n",
              "      <td>7.0</td>\n",
              "    </tr>\n",
              "    <tr>\n",
              "      <th>2814230</th>\n",
              "      <td>Miss Peregrine's Home for Peculiar Children</td>\n",
              "      <td>2016</td>\n",
              "      <td>Judi Dench</td>\n",
              "      <td>actress</td>\n",
              "      <td>Miss Avocet</td>\n",
              "      <td>4.0</td>\n",
              "    </tr>\n",
              "    <tr>\n",
              "      <th>2814231</th>\n",
              "      <td>Mrs Brown</td>\n",
              "      <td>1997</td>\n",
              "      <td>Judi Dench</td>\n",
              "      <td>actress</td>\n",
              "      <td>Queen Victoria</td>\n",
              "      <td>1.0</td>\n",
              "    </tr>\n",
              "    <tr>\n",
              "      <th>2814232</th>\n",
              "      <td>Mrs Henderson Presents</td>\n",
              "      <td>2005</td>\n",
              "      <td>Judi Dench</td>\n",
              "      <td>actress</td>\n",
              "      <td>Mrs. Laura Henderson</td>\n",
              "      <td>1.0</td>\n",
              "    </tr>\n",
              "    <tr>\n",
              "      <th>2814233</th>\n",
              "      <td>Murder on the Orient Express</td>\n",
              "      <td>2017</td>\n",
              "      <td>Judi Dench</td>\n",
              "      <td>actress</td>\n",
              "      <td>Princess Dragomiroff</td>\n",
              "      <td>39.0</td>\n",
              "    </tr>\n",
              "    <tr>\n",
              "      <th>2814234</th>\n",
              "      <td>My Week with Marilyn</td>\n",
              "      <td>2011</td>\n",
              "      <td>Judi Dench</td>\n",
              "      <td>actress</td>\n",
              "      <td>Dame Sybil Thorndike</td>\n",
              "      <td>23.0</td>\n",
              "    </tr>\n",
              "    <tr>\n",
              "      <th>2814235</th>\n",
              "      <td>Nine</td>\n",
              "      <td>2009</td>\n",
              "      <td>Judi Dench</td>\n",
              "      <td>actress</td>\n",
              "      <td>Lilli</td>\n",
              "      <td>6.0</td>\n",
              "    </tr>\n",
              "    <tr>\n",
              "      <th>2814236</th>\n",
              "      <td>Notes on a Scandal</td>\n",
              "      <td>2006</td>\n",
              "      <td>Judi Dench</td>\n",
              "      <td>actress</td>\n",
              "      <td>Barbara Covett</td>\n",
              "      <td>1.0</td>\n",
              "    </tr>\n",
              "    <tr>\n",
              "      <th>2814237</th>\n",
              "      <td>Philomena</td>\n",
              "      <td>2013</td>\n",
              "      <td>Judi Dench</td>\n",
              "      <td>actress</td>\n",
              "      <td>Philomena</td>\n",
              "      <td>1.0</td>\n",
              "    </tr>\n",
              "    <tr>\n",
              "      <th>2814238</th>\n",
              "      <td>Pirates of the Caribbean: On Stranger Tides</td>\n",
              "      <td>2011</td>\n",
              "      <td>Judi Dench</td>\n",
              "      <td>actress</td>\n",
              "      <td>Society Lady</td>\n",
              "      <td>16.0</td>\n",
              "    </tr>\n",
              "    <tr>\n",
              "      <th>2814239</th>\n",
              "      <td>Pride &amp; Prejudice</td>\n",
              "      <td>2005</td>\n",
              "      <td>Judi Dench</td>\n",
              "      <td>actress</td>\n",
              "      <td>Lady Catherine de Bourgh</td>\n",
              "      <td>20.0</td>\n",
              "    </tr>\n",
              "    <tr>\n",
              "      <th>2814240</th>\n",
              "      <td>Quantum of Solace</td>\n",
              "      <td>2008</td>\n",
              "      <td>Judi Dench</td>\n",
              "      <td>actress</td>\n",
              "      <td>M</td>\n",
              "      <td>4.0</td>\n",
              "    </tr>\n",
              "    <tr>\n",
              "      <th>2814241</th>\n",
              "      <td>Rage</td>\n",
              "      <td>2009</td>\n",
              "      <td>Judi Dench</td>\n",
              "      <td>actress</td>\n",
              "      <td>Mona Carvell</td>\n",
              "      <td>NaN</td>\n",
              "    </tr>\n",
              "    <tr>\n",
              "      <th>2814242</th>\n",
              "      <td>Red Joan</td>\n",
              "      <td>2018</td>\n",
              "      <td>Judi Dench</td>\n",
              "      <td>actress</td>\n",
              "      <td>Joan Stantley</td>\n",
              "      <td>NaN</td>\n",
              "    </tr>\n",
              "    <tr>\n",
              "      <th>2814243</th>\n",
              "      <td>Run for Your Wife</td>\n",
              "      <td>2012</td>\n",
              "      <td>Judi Dench</td>\n",
              "      <td>actress</td>\n",
              "      <td>Bag Lady</td>\n",
              "      <td>40.0</td>\n",
              "    </tr>\n",
              "    <tr>\n",
              "      <th>2814244</th>\n",
              "      <td>Shakespeare in Love</td>\n",
              "      <td>1998</td>\n",
              "      <td>Judi Dench</td>\n",
              "      <td>actress</td>\n",
              "      <td>Queen Elizabeth</td>\n",
              "      <td>12.0</td>\n",
              "    </tr>\n",
              "    <tr>\n",
              "      <th>2814245</th>\n",
              "      <td>Skyfall</td>\n",
              "      <td>2012</td>\n",
              "      <td>Judi Dench</td>\n",
              "      <td>actress</td>\n",
              "      <td>M</td>\n",
              "      <td>2.0</td>\n",
              "    </tr>\n",
              "    <tr>\n",
              "      <th>2814246</th>\n",
              "      <td>Spectre</td>\n",
              "      <td>2015</td>\n",
              "      <td>Judi Dench</td>\n",
              "      <td>actress</td>\n",
              "      <td>M</td>\n",
              "      <td>NaN</td>\n",
              "    </tr>\n",
              "    <tr>\n",
              "      <th>2814247</th>\n",
              "      <td>Stars in Shorts</td>\n",
              "      <td>2012</td>\n",
              "      <td>Judi Dench</td>\n",
              "      <td>actress</td>\n",
              "      <td>Mary</td>\n",
              "      <td>29.0</td>\n",
              "    </tr>\n",
              "    <tr>\n",
              "      <th>2814248</th>\n",
              "      <td>Tea with Mussolini</td>\n",
              "      <td>1999</td>\n",
              "      <td>Judi Dench</td>\n",
              "      <td>actress</td>\n",
              "      <td>Arabella</td>\n",
              "      <td>2.0</td>\n",
              "    </tr>\n",
              "    <tr>\n",
              "      <th>2814249</th>\n",
              "      <td>The Angelic Conversation</td>\n",
              "      <td>1985</td>\n",
              "      <td>Judi Dench</td>\n",
              "      <td>actress</td>\n",
              "      <td>Shakespeare's Sonnets read by</td>\n",
              "      <td>3.0</td>\n",
              "    </tr>\n",
              "    <tr>\n",
              "      <th>2814250</th>\n",
              "      <td>The Best Exotic Marigold Hotel</td>\n",
              "      <td>2011</td>\n",
              "      <td>Judi Dench</td>\n",
              "      <td>actress</td>\n",
              "      <td>Evelyn Greenslade</td>\n",
              "      <td>1.0</td>\n",
              "    </tr>\n",
              "    <tr>\n",
              "      <th>2814251</th>\n",
              "      <td>The Chronicles of Riddick</td>\n",
              "      <td>2004</td>\n",
              "      <td>Judi Dench</td>\n",
              "      <td>actress</td>\n",
              "      <td>Aereon</td>\n",
              "      <td>4.0</td>\n",
              "    </tr>\n",
              "    <tr>\n",
              "      <th>2814252</th>\n",
              "      <td>The Importance of Being Earnest</td>\n",
              "      <td>2002</td>\n",
              "      <td>Judi Dench</td>\n",
              "      <td>actress</td>\n",
              "      <td>Lady Bracknell</td>\n",
              "      <td>5.0</td>\n",
              "    </tr>\n",
              "    <tr>\n",
              "      <th>2814253</th>\n",
              "      <td>The Second Best Exotic Marigold Hotel</td>\n",
              "      <td>2015</td>\n",
              "      <td>Judi Dench</td>\n",
              "      <td>actress</td>\n",
              "      <td>Evelyn Greenslade</td>\n",
              "      <td>5.0</td>\n",
              "    </tr>\n",
              "    <tr>\n",
              "      <th>2814254</th>\n",
              "      <td>The Shipping News</td>\n",
              "      <td>2001</td>\n",
              "      <td>Judi Dench</td>\n",
              "      <td>actress</td>\n",
              "      <td>Agnis Hamm</td>\n",
              "      <td>3.0</td>\n",
              "    </tr>\n",
              "    <tr>\n",
              "      <th>2814255</th>\n",
              "      <td>The Third Secret</td>\n",
              "      <td>1964</td>\n",
              "      <td>Judi Dench</td>\n",
              "      <td>actress</td>\n",
              "      <td>Miss Humphries</td>\n",
              "      <td>12.0</td>\n",
              "    </tr>\n",
              "    <tr>\n",
              "      <th>2814256</th>\n",
              "      <td>The World Is Not Enough</td>\n",
              "      <td>1999</td>\n",
              "      <td>Judi Dench</td>\n",
              "      <td>actress</td>\n",
              "      <td>M</td>\n",
              "      <td>6.0</td>\n",
              "    </tr>\n",
              "    <tr>\n",
              "      <th>2814257</th>\n",
              "      <td>Tomorrow Never Dies</td>\n",
              "      <td>1997</td>\n",
              "      <td>Judi Dench</td>\n",
              "      <td>actress</td>\n",
              "      <td>M</td>\n",
              "      <td>9.0</td>\n",
              "    </tr>\n",
              "    <tr>\n",
              "      <th>2814258</th>\n",
              "      <td>Tulip Fever</td>\n",
              "      <td>2017</td>\n",
              "      <td>Judi Dench</td>\n",
              "      <td>actress</td>\n",
              "      <td>Abbess</td>\n",
              "      <td>11.0</td>\n",
              "    </tr>\n",
              "    <tr>\n",
              "      <th>2814259</th>\n",
              "      <td>Victoria &amp; Abdul</td>\n",
              "      <td>2017</td>\n",
              "      <td>Judi Dench</td>\n",
              "      <td>actress</td>\n",
              "      <td>Queen Victoria</td>\n",
              "      <td>1.0</td>\n",
              "    </tr>\n",
              "    <tr>\n",
              "      <th>2814260</th>\n",
              "      <td>Wetherby</td>\n",
              "      <td>1985</td>\n",
              "      <td>Judi Dench</td>\n",
              "      <td>actress</td>\n",
              "      <td>Marcia Pilborough</td>\n",
              "      <td>3.0</td>\n",
              "    </tr>\n",
              "  </tbody>\n",
              "</table>\n",
              "</div>"
            ],
            "text/plain": [
              "                                               title  ...     n\n",
              "2814206                        84 Charing Cross Road  ...   3.0\n",
              "2814207                            A Handful of Dust  ...  13.0\n",
              "2814208                    A Midsummer Night's Dream  ...  16.0\n",
              "2814209                           A Room with a View  ...   7.0\n",
              "2814210                            A Study in Terror  ...   8.0\n",
              "2814211       Angelina Ballerina: Angelina Sets Sail  ...   2.0\n",
              "2814212      Branagh Theatre Live: The Winter's Tale  ...   NaN\n",
              "2814213                                Casino Royale  ...   4.0\n",
              "2814214                                     Chocolat  ...  18.0\n",
              "2814215                                    Dead Cert  ...   2.0\n",
              "2814216                              Die Another Day  ...   6.0\n",
              "2814217                                       Doogal  ...   7.0\n",
              "2814218                          Four in the Morning  ...   2.0\n",
              "2814219                                    GoldenEye  ...   6.0\n",
              "2814220                                       Hamlet  ...  12.0\n",
              "2814221                         He Who Rides a Tiger  ...   2.0\n",
              "2814222                                      Henry V  ...  26.0\n",
              "2814223                            Home on the Range  ...   7.0\n",
              "2814224                                         Iris  ...   3.0\n",
              "2814225                                     J. Edgar  ...  13.0\n",
              "2814226                                 Jack & Sarah  ...   3.0\n",
              "2814227                                    Jane Eyre  ...  18.0\n",
              "2814228                           Ladies in Lavender  ...   1.0\n",
              "2814229                                       Luther  ...   7.0\n",
              "2814230  Miss Peregrine's Home for Peculiar Children  ...   4.0\n",
              "2814231                                    Mrs Brown  ...   1.0\n",
              "2814232                       Mrs Henderson Presents  ...   1.0\n",
              "2814233                 Murder on the Orient Express  ...  39.0\n",
              "2814234                         My Week with Marilyn  ...  23.0\n",
              "2814235                                         Nine  ...   6.0\n",
              "2814236                           Notes on a Scandal  ...   1.0\n",
              "2814237                                    Philomena  ...   1.0\n",
              "2814238  Pirates of the Caribbean: On Stranger Tides  ...  16.0\n",
              "2814239                            Pride & Prejudice  ...  20.0\n",
              "2814240                            Quantum of Solace  ...   4.0\n",
              "2814241                                         Rage  ...   NaN\n",
              "2814242                                     Red Joan  ...   NaN\n",
              "2814243                            Run for Your Wife  ...  40.0\n",
              "2814244                          Shakespeare in Love  ...  12.0\n",
              "2814245                                      Skyfall  ...   2.0\n",
              "2814246                                      Spectre  ...   NaN\n",
              "2814247                              Stars in Shorts  ...  29.0\n",
              "2814248                           Tea with Mussolini  ...   2.0\n",
              "2814249                     The Angelic Conversation  ...   3.0\n",
              "2814250               The Best Exotic Marigold Hotel  ...   1.0\n",
              "2814251                    The Chronicles of Riddick  ...   4.0\n",
              "2814252              The Importance of Being Earnest  ...   5.0\n",
              "2814253        The Second Best Exotic Marigold Hotel  ...   5.0\n",
              "2814254                            The Shipping News  ...   3.0\n",
              "2814255                             The Third Secret  ...  12.0\n",
              "2814256                      The World Is Not Enough  ...   6.0\n",
              "2814257                          Tomorrow Never Dies  ...   9.0\n",
              "2814258                                  Tulip Fever  ...  11.0\n",
              "2814259                             Victoria & Abdul  ...   1.0\n",
              "2814260                                     Wetherby  ...   3.0\n",
              "\n",
              "[55 rows x 6 columns]"
            ]
          },
          "metadata": {
            "tags": []
          },
          "execution_count": 177
        }
      ]
    },
    {
      "cell_type": "code",
      "metadata": {
        "id": "2biV5oMmJw0q",
        "colab_type": "code",
        "colab": {
          "base_uri": "https://localhost:8080/",
          "height": 34
        },
        "outputId": "35d938aa-25c3-4712-d386-237c6960e09f"
      },
      "source": [
        "len(castdf17)"
      ],
      "execution_count": 178,
      "outputs": [
        {
          "output_type": "execute_result",
          "data": {
            "text/plain": [
              "55"
            ]
          },
          "metadata": {
            "tags": []
          },
          "execution_count": 178
        }
      ]
    },
    {
      "cell_type": "code",
      "metadata": {
        "id": "HUW0DUcJzO55",
        "colab_type": "code",
        "colab": {
          "base_uri": "https://localhost:8080/",
          "height": 34
        },
        "outputId": "dd8af5ed-4903-4f31-8fb9-2f54cf7fbf7e"
      },
      "source": [
        "len(castdf17.character.unique())"
      ],
      "execution_count": 180,
      "outputs": [
        {
          "output_type": "execute_result",
          "data": {
            "text/plain": [
              "46"
            ]
          },
          "metadata": {
            "tags": []
          },
          "execution_count": 180
        }
      ]
    },
    {
      "cell_type": "markdown",
      "metadata": {
        "collapsed": true,
        "id": "WmC4KwVcJw07",
        "colab_type": "text"
      },
      "source": [
        "### List the supporting roles (having n=2) played by Cary Grant in the 1940s, in order by year."
      ]
    },
    {
      "cell_type": "code",
      "metadata": {
        "id": "eb94FN0iJw08",
        "colab_type": "code",
        "colab": {
          "base_uri": "https://localhost:8080/",
          "height": 731
        },
        "outputId": "8819a3c4-205a-4596-932b-1dc9b872ef9b"
      },
      "source": [
        "castdf18=castdf[castdf['name'].isin(['Cary Grant'])]\n",
        "castdf19=castdf18[castdf18['year'].between(1940,1949)]\n",
        "castdf19.sort_values('year')\n",
        "\n"
      ],
      "execution_count": 202,
      "outputs": [
        {
          "output_type": "execute_result",
          "data": {
            "text/html": [
              "<div>\n",
              "<style scoped>\n",
              "    .dataframe tbody tr th:only-of-type {\n",
              "        vertical-align: middle;\n",
              "    }\n",
              "\n",
              "    .dataframe tbody tr th {\n",
              "        vertical-align: top;\n",
              "    }\n",
              "\n",
              "    .dataframe thead th {\n",
              "        text-align: right;\n",
              "    }\n",
              "</style>\n",
              "<table border=\"1\" class=\"dataframe\">\n",
              "  <thead>\n",
              "    <tr style=\"text-align: right;\">\n",
              "      <th></th>\n",
              "      <th>title</th>\n",
              "      <th>year</th>\n",
              "      <th>name</th>\n",
              "      <th>type</th>\n",
              "      <th>character</th>\n",
              "      <th>n</th>\n",
              "    </tr>\n",
              "  </thead>\n",
              "  <tbody>\n",
              "    <tr>\n",
              "      <th>871450</th>\n",
              "      <td>The Philadelphia Story</td>\n",
              "      <td>1940</td>\n",
              "      <td>Cary Grant</td>\n",
              "      <td>actor</td>\n",
              "      <td>C. K. Dexter Haven</td>\n",
              "      <td>1.0</td>\n",
              "    </tr>\n",
              "    <tr>\n",
              "      <th>871448</th>\n",
              "      <td>The Howards of Virginia</td>\n",
              "      <td>1940</td>\n",
              "      <td>Cary Grant</td>\n",
              "      <td>actor</td>\n",
              "      <td>Matt Howard</td>\n",
              "      <td>1.0</td>\n",
              "    </tr>\n",
              "    <tr>\n",
              "      <th>871407</th>\n",
              "      <td>His Girl Friday</td>\n",
              "      <td>1940</td>\n",
              "      <td>Cary Grant</td>\n",
              "      <td>actor</td>\n",
              "      <td>Walter Burns</td>\n",
              "      <td>1.0</td>\n",
              "    </tr>\n",
              "    <tr>\n",
              "      <th>871423</th>\n",
              "      <td>My Favorite Wife</td>\n",
              "      <td>1940</td>\n",
              "      <td>Cary Grant</td>\n",
              "      <td>actor</td>\n",
              "      <td>Nick Arden</td>\n",
              "      <td>2.0</td>\n",
              "    </tr>\n",
              "    <tr>\n",
              "      <th>871438</th>\n",
              "      <td>Suspicion</td>\n",
              "      <td>1941</td>\n",
              "      <td>Cary Grant</td>\n",
              "      <td>actor</td>\n",
              "      <td>Johnnie Aysgarth</td>\n",
              "      <td>1.0</td>\n",
              "    </tr>\n",
              "    <tr>\n",
              "      <th>871433</th>\n",
              "      <td>Penny Serenade</td>\n",
              "      <td>1941</td>\n",
              "      <td>Cary Grant</td>\n",
              "      <td>actor</td>\n",
              "      <td>Roger Adams</td>\n",
              "      <td>2.0</td>\n",
              "    </tr>\n",
              "    <tr>\n",
              "      <th>871452</th>\n",
              "      <td>The Talk of the Town</td>\n",
              "      <td>1942</td>\n",
              "      <td>Cary Grant</td>\n",
              "      <td>actor</td>\n",
              "      <td>Leopold Dilg</td>\n",
              "      <td>1.0</td>\n",
              "    </tr>\n",
              "    <tr>\n",
              "      <th>871429</th>\n",
              "      <td>Once Upon a Honeymoon</td>\n",
              "      <td>1942</td>\n",
              "      <td>Cary Grant</td>\n",
              "      <td>actor</td>\n",
              "      <td>Patrick 'Pat' O'Toole</td>\n",
              "      <td>1.0</td>\n",
              "    </tr>\n",
              "    <tr>\n",
              "      <th>871398</th>\n",
              "      <td>Destination Tokyo</td>\n",
              "      <td>1943</td>\n",
              "      <td>Cary Grant</td>\n",
              "      <td>actor</td>\n",
              "      <td>Capt. Cassidy</td>\n",
              "      <td>1.0</td>\n",
              "    </tr>\n",
              "    <tr>\n",
              "      <th>871422</th>\n",
              "      <td>Mr. Lucky</td>\n",
              "      <td>1943</td>\n",
              "      <td>Cary Grant</td>\n",
              "      <td>actor</td>\n",
              "      <td>Joe Adams -posing as Joe Bascopolous</td>\n",
              "      <td>1.0</td>\n",
              "    </tr>\n",
              "    <tr>\n",
              "      <th>871390</th>\n",
              "      <td>Arsenic and Old Lace</td>\n",
              "      <td>1944</td>\n",
              "      <td>Cary Grant</td>\n",
              "      <td>actor</td>\n",
              "      <td>Mortimer Brewster</td>\n",
              "      <td>1.0</td>\n",
              "    </tr>\n",
              "    <tr>\n",
              "      <th>871430</th>\n",
              "      <td>Once Upon a Time</td>\n",
              "      <td>1944</td>\n",
              "      <td>Cary Grant</td>\n",
              "      <td>actor</td>\n",
              "      <td>Jerry Flynn</td>\n",
              "      <td>1.0</td>\n",
              "    </tr>\n",
              "    <tr>\n",
              "      <th>871425</th>\n",
              "      <td>None But the Lonely Heart</td>\n",
              "      <td>1944</td>\n",
              "      <td>Cary Grant</td>\n",
              "      <td>actor</td>\n",
              "      <td>Ernie Mott</td>\n",
              "      <td>1.0</td>\n",
              "    </tr>\n",
              "    <tr>\n",
              "      <th>871405</th>\n",
              "      <td>George White's Scandals</td>\n",
              "      <td>1945</td>\n",
              "      <td>Cary Grant</td>\n",
              "      <td>actor</td>\n",
              "      <td>Cary Grant</td>\n",
              "      <td>NaN</td>\n",
              "    </tr>\n",
              "    <tr>\n",
              "      <th>871424</th>\n",
              "      <td>Night and Day</td>\n",
              "      <td>1946</td>\n",
              "      <td>Cary Grant</td>\n",
              "      <td>actor</td>\n",
              "      <td>Cole Porter</td>\n",
              "      <td>1.0</td>\n",
              "    </tr>\n",
              "    <tr>\n",
              "      <th>871427</th>\n",
              "      <td>Notorious</td>\n",
              "      <td>1946</td>\n",
              "      <td>Cary Grant</td>\n",
              "      <td>actor</td>\n",
              "      <td>Devlin</td>\n",
              "      <td>1.0</td>\n",
              "    </tr>\n",
              "    <tr>\n",
              "      <th>871466</th>\n",
              "      <td>Without Reservations</td>\n",
              "      <td>1946</td>\n",
              "      <td>Cary Grant</td>\n",
              "      <td>actor</td>\n",
              "      <td>Cary Grant</td>\n",
              "      <td>NaN</td>\n",
              "    </tr>\n",
              "    <tr>\n",
              "      <th>871444</th>\n",
              "      <td>The Bachelor and the Bobby-Soxer</td>\n",
              "      <td>1947</td>\n",
              "      <td>Cary Grant</td>\n",
              "      <td>actor</td>\n",
              "      <td>Dick Nugent</td>\n",
              "      <td>1.0</td>\n",
              "    </tr>\n",
              "    <tr>\n",
              "      <th>871445</th>\n",
              "      <td>The Bishop's Wife</td>\n",
              "      <td>1947</td>\n",
              "      <td>Cary Grant</td>\n",
              "      <td>actor</td>\n",
              "      <td>Dudley</td>\n",
              "      <td>1.0</td>\n",
              "    </tr>\n",
              "    <tr>\n",
              "      <th>871421</th>\n",
              "      <td>Mr. Blandings Builds His Dream House</td>\n",
              "      <td>1948</td>\n",
              "      <td>Cary Grant</td>\n",
              "      <td>actor</td>\n",
              "      <td>Jim Blandings</td>\n",
              "      <td>1.0</td>\n",
              "    </tr>\n",
              "    <tr>\n",
              "      <th>871402</th>\n",
              "      <td>Every Girl Should Be Married</td>\n",
              "      <td>1948</td>\n",
              "      <td>Cary Grant</td>\n",
              "      <td>actor</td>\n",
              "      <td>Dr. Madison Brown</td>\n",
              "      <td>1.0</td>\n",
              "    </tr>\n",
              "    <tr>\n",
              "      <th>871411</th>\n",
              "      <td>I Was a Male War Bride</td>\n",
              "      <td>1949</td>\n",
              "      <td>Cary Grant</td>\n",
              "      <td>actor</td>\n",
              "      <td>Captain Henri Rochard</td>\n",
              "      <td>1.0</td>\n",
              "    </tr>\n",
              "  </tbody>\n",
              "</table>\n",
              "</div>"
            ],
            "text/plain": [
              "                                       title  ...    n\n",
              "871450                The Philadelphia Story  ...  1.0\n",
              "871448               The Howards of Virginia  ...  1.0\n",
              "871407                       His Girl Friday  ...  1.0\n",
              "871423                      My Favorite Wife  ...  2.0\n",
              "871438                             Suspicion  ...  1.0\n",
              "871433                        Penny Serenade  ...  2.0\n",
              "871452                  The Talk of the Town  ...  1.0\n",
              "871429                 Once Upon a Honeymoon  ...  1.0\n",
              "871398                     Destination Tokyo  ...  1.0\n",
              "871422                             Mr. Lucky  ...  1.0\n",
              "871390                  Arsenic and Old Lace  ...  1.0\n",
              "871430                      Once Upon a Time  ...  1.0\n",
              "871425             None But the Lonely Heart  ...  1.0\n",
              "871405               George White's Scandals  ...  NaN\n",
              "871424                         Night and Day  ...  1.0\n",
              "871427                             Notorious  ...  1.0\n",
              "871466                  Without Reservations  ...  NaN\n",
              "871444      The Bachelor and the Bobby-Soxer  ...  1.0\n",
              "871445                     The Bishop's Wife  ...  1.0\n",
              "871421  Mr. Blandings Builds His Dream House  ...  1.0\n",
              "871402          Every Girl Should Be Married  ...  1.0\n",
              "871411                I Was a Male War Bride  ...  1.0\n",
              "\n",
              "[22 rows x 6 columns]"
            ]
          },
          "metadata": {
            "tags": []
          },
          "execution_count": 202
        }
      ]
    },
    {
      "cell_type": "code",
      "metadata": {
        "id": "VubGe_m_Jw1C",
        "colab_type": "code",
        "colab": {
          "base_uri": "https://localhost:8080/",
          "height": 111
        },
        "outputId": "8974dfe4-bfd2-4060-e0b2-845ecc1830b1"
      },
      "source": [
        "castdf18=castdf[castdf['name'].isin(['Cary Grant'])]\n",
        "castdf19=castdf18[castdf18['year'].between(1940,1949)]\n",
        "castdf19[castdf19['n'].isin([2])].sort_values('n')"
      ],
      "execution_count": 199,
      "outputs": [
        {
          "output_type": "execute_result",
          "data": {
            "text/html": [
              "<div>\n",
              "<style scoped>\n",
              "    .dataframe tbody tr th:only-of-type {\n",
              "        vertical-align: middle;\n",
              "    }\n",
              "\n",
              "    .dataframe tbody tr th {\n",
              "        vertical-align: top;\n",
              "    }\n",
              "\n",
              "    .dataframe thead th {\n",
              "        text-align: right;\n",
              "    }\n",
              "</style>\n",
              "<table border=\"1\" class=\"dataframe\">\n",
              "  <thead>\n",
              "    <tr style=\"text-align: right;\">\n",
              "      <th></th>\n",
              "      <th>title</th>\n",
              "      <th>year</th>\n",
              "      <th>name</th>\n",
              "      <th>type</th>\n",
              "      <th>character</th>\n",
              "      <th>n</th>\n",
              "    </tr>\n",
              "  </thead>\n",
              "  <tbody>\n",
              "    <tr>\n",
              "      <th>871423</th>\n",
              "      <td>My Favorite Wife</td>\n",
              "      <td>1940</td>\n",
              "      <td>Cary Grant</td>\n",
              "      <td>actor</td>\n",
              "      <td>Nick Arden</td>\n",
              "      <td>2.0</td>\n",
              "    </tr>\n",
              "    <tr>\n",
              "      <th>871433</th>\n",
              "      <td>Penny Serenade</td>\n",
              "      <td>1941</td>\n",
              "      <td>Cary Grant</td>\n",
              "      <td>actor</td>\n",
              "      <td>Roger Adams</td>\n",
              "      <td>2.0</td>\n",
              "    </tr>\n",
              "  </tbody>\n",
              "</table>\n",
              "</div>"
            ],
            "text/plain": [
              "                   title  year        name   type    character    n\n",
              "871423  My Favorite Wife  1940  Cary Grant  actor   Nick Arden  2.0\n",
              "871433    Penny Serenade  1941  Cary Grant  actor  Roger Adams  2.0"
            ]
          },
          "metadata": {
            "tags": []
          },
          "execution_count": 199
        }
      ]
    },
    {
      "cell_type": "markdown",
      "metadata": {
        "collapsed": true,
        "id": "TM8xYWrzJw1Q",
        "colab_type": "text"
      },
      "source": [
        "### List the leading roles that Cary Grant played in the 1940s in order by year."
      ]
    },
    {
      "cell_type": "code",
      "metadata": {
        "id": "qZBxCIQ7Jw1R",
        "colab_type": "code",
        "colab": {
          "base_uri": "https://localhost:8080/",
          "height": 607
        },
        "outputId": "88d80587-45d8-4450-de41-35d0b8a19830"
      },
      "source": [
        "castdf19[castdf19['n'].isin([1])].sort_values('year')\n"
      ],
      "execution_count": 211,
      "outputs": [
        {
          "output_type": "execute_result",
          "data": {
            "text/html": [
              "<div>\n",
              "<style scoped>\n",
              "    .dataframe tbody tr th:only-of-type {\n",
              "        vertical-align: middle;\n",
              "    }\n",
              "\n",
              "    .dataframe tbody tr th {\n",
              "        vertical-align: top;\n",
              "    }\n",
              "\n",
              "    .dataframe thead th {\n",
              "        text-align: right;\n",
              "    }\n",
              "</style>\n",
              "<table border=\"1\" class=\"dataframe\">\n",
              "  <thead>\n",
              "    <tr style=\"text-align: right;\">\n",
              "      <th></th>\n",
              "      <th>title</th>\n",
              "      <th>year</th>\n",
              "      <th>name</th>\n",
              "      <th>type</th>\n",
              "      <th>character</th>\n",
              "      <th>n</th>\n",
              "    </tr>\n",
              "  </thead>\n",
              "  <tbody>\n",
              "    <tr>\n",
              "      <th>871448</th>\n",
              "      <td>The Howards of Virginia</td>\n",
              "      <td>1940</td>\n",
              "      <td>Cary Grant</td>\n",
              "      <td>actor</td>\n",
              "      <td>Matt Howard</td>\n",
              "      <td>1.0</td>\n",
              "    </tr>\n",
              "    <tr>\n",
              "      <th>871407</th>\n",
              "      <td>His Girl Friday</td>\n",
              "      <td>1940</td>\n",
              "      <td>Cary Grant</td>\n",
              "      <td>actor</td>\n",
              "      <td>Walter Burns</td>\n",
              "      <td>1.0</td>\n",
              "    </tr>\n",
              "    <tr>\n",
              "      <th>871450</th>\n",
              "      <td>The Philadelphia Story</td>\n",
              "      <td>1940</td>\n",
              "      <td>Cary Grant</td>\n",
              "      <td>actor</td>\n",
              "      <td>C. K. Dexter Haven</td>\n",
              "      <td>1.0</td>\n",
              "    </tr>\n",
              "    <tr>\n",
              "      <th>871438</th>\n",
              "      <td>Suspicion</td>\n",
              "      <td>1941</td>\n",
              "      <td>Cary Grant</td>\n",
              "      <td>actor</td>\n",
              "      <td>Johnnie Aysgarth</td>\n",
              "      <td>1.0</td>\n",
              "    </tr>\n",
              "    <tr>\n",
              "      <th>871452</th>\n",
              "      <td>The Talk of the Town</td>\n",
              "      <td>1942</td>\n",
              "      <td>Cary Grant</td>\n",
              "      <td>actor</td>\n",
              "      <td>Leopold Dilg</td>\n",
              "      <td>1.0</td>\n",
              "    </tr>\n",
              "    <tr>\n",
              "      <th>871429</th>\n",
              "      <td>Once Upon a Honeymoon</td>\n",
              "      <td>1942</td>\n",
              "      <td>Cary Grant</td>\n",
              "      <td>actor</td>\n",
              "      <td>Patrick 'Pat' O'Toole</td>\n",
              "      <td>1.0</td>\n",
              "    </tr>\n",
              "    <tr>\n",
              "      <th>871398</th>\n",
              "      <td>Destination Tokyo</td>\n",
              "      <td>1943</td>\n",
              "      <td>Cary Grant</td>\n",
              "      <td>actor</td>\n",
              "      <td>Capt. Cassidy</td>\n",
              "      <td>1.0</td>\n",
              "    </tr>\n",
              "    <tr>\n",
              "      <th>871422</th>\n",
              "      <td>Mr. Lucky</td>\n",
              "      <td>1943</td>\n",
              "      <td>Cary Grant</td>\n",
              "      <td>actor</td>\n",
              "      <td>Joe Adams -posing as Joe Bascopolous</td>\n",
              "      <td>1.0</td>\n",
              "    </tr>\n",
              "    <tr>\n",
              "      <th>871430</th>\n",
              "      <td>Once Upon a Time</td>\n",
              "      <td>1944</td>\n",
              "      <td>Cary Grant</td>\n",
              "      <td>actor</td>\n",
              "      <td>Jerry Flynn</td>\n",
              "      <td>1.0</td>\n",
              "    </tr>\n",
              "    <tr>\n",
              "      <th>871390</th>\n",
              "      <td>Arsenic and Old Lace</td>\n",
              "      <td>1944</td>\n",
              "      <td>Cary Grant</td>\n",
              "      <td>actor</td>\n",
              "      <td>Mortimer Brewster</td>\n",
              "      <td>1.0</td>\n",
              "    </tr>\n",
              "    <tr>\n",
              "      <th>871425</th>\n",
              "      <td>None But the Lonely Heart</td>\n",
              "      <td>1944</td>\n",
              "      <td>Cary Grant</td>\n",
              "      <td>actor</td>\n",
              "      <td>Ernie Mott</td>\n",
              "      <td>1.0</td>\n",
              "    </tr>\n",
              "    <tr>\n",
              "      <th>871424</th>\n",
              "      <td>Night and Day</td>\n",
              "      <td>1946</td>\n",
              "      <td>Cary Grant</td>\n",
              "      <td>actor</td>\n",
              "      <td>Cole Porter</td>\n",
              "      <td>1.0</td>\n",
              "    </tr>\n",
              "    <tr>\n",
              "      <th>871427</th>\n",
              "      <td>Notorious</td>\n",
              "      <td>1946</td>\n",
              "      <td>Cary Grant</td>\n",
              "      <td>actor</td>\n",
              "      <td>Devlin</td>\n",
              "      <td>1.0</td>\n",
              "    </tr>\n",
              "    <tr>\n",
              "      <th>871444</th>\n",
              "      <td>The Bachelor and the Bobby-Soxer</td>\n",
              "      <td>1947</td>\n",
              "      <td>Cary Grant</td>\n",
              "      <td>actor</td>\n",
              "      <td>Dick Nugent</td>\n",
              "      <td>1.0</td>\n",
              "    </tr>\n",
              "    <tr>\n",
              "      <th>871445</th>\n",
              "      <td>The Bishop's Wife</td>\n",
              "      <td>1947</td>\n",
              "      <td>Cary Grant</td>\n",
              "      <td>actor</td>\n",
              "      <td>Dudley</td>\n",
              "      <td>1.0</td>\n",
              "    </tr>\n",
              "    <tr>\n",
              "      <th>871421</th>\n",
              "      <td>Mr. Blandings Builds His Dream House</td>\n",
              "      <td>1948</td>\n",
              "      <td>Cary Grant</td>\n",
              "      <td>actor</td>\n",
              "      <td>Jim Blandings</td>\n",
              "      <td>1.0</td>\n",
              "    </tr>\n",
              "    <tr>\n",
              "      <th>871402</th>\n",
              "      <td>Every Girl Should Be Married</td>\n",
              "      <td>1948</td>\n",
              "      <td>Cary Grant</td>\n",
              "      <td>actor</td>\n",
              "      <td>Dr. Madison Brown</td>\n",
              "      <td>1.0</td>\n",
              "    </tr>\n",
              "    <tr>\n",
              "      <th>871411</th>\n",
              "      <td>I Was a Male War Bride</td>\n",
              "      <td>1949</td>\n",
              "      <td>Cary Grant</td>\n",
              "      <td>actor</td>\n",
              "      <td>Captain Henri Rochard</td>\n",
              "      <td>1.0</td>\n",
              "    </tr>\n",
              "  </tbody>\n",
              "</table>\n",
              "</div>"
            ],
            "text/plain": [
              "                                       title  ...    n\n",
              "871448               The Howards of Virginia  ...  1.0\n",
              "871407                       His Girl Friday  ...  1.0\n",
              "871450                The Philadelphia Story  ...  1.0\n",
              "871438                             Suspicion  ...  1.0\n",
              "871452                  The Talk of the Town  ...  1.0\n",
              "871429                 Once Upon a Honeymoon  ...  1.0\n",
              "871398                     Destination Tokyo  ...  1.0\n",
              "871422                             Mr. Lucky  ...  1.0\n",
              "871430                      Once Upon a Time  ...  1.0\n",
              "871390                  Arsenic and Old Lace  ...  1.0\n",
              "871425             None But the Lonely Heart  ...  1.0\n",
              "871424                         Night and Day  ...  1.0\n",
              "871427                             Notorious  ...  1.0\n",
              "871444      The Bachelor and the Bobby-Soxer  ...  1.0\n",
              "871445                     The Bishop's Wife  ...  1.0\n",
              "871421  Mr. Blandings Builds His Dream House  ...  1.0\n",
              "871402          Every Girl Should Be Married  ...  1.0\n",
              "871411                I Was a Male War Bride  ...  1.0\n",
              "\n",
              "[18 rows x 6 columns]"
            ]
          },
          "metadata": {
            "tags": []
          },
          "execution_count": 211
        }
      ]
    },
    {
      "cell_type": "code",
      "metadata": {
        "id": "3vB4GgSQJw1W",
        "colab_type": "code",
        "colab": {}
      },
      "source": [
        ""
      ],
      "execution_count": null,
      "outputs": []
    },
    {
      "cell_type": "markdown",
      "metadata": {
        "collapsed": true,
        "id": "w5ILkW_tJw1h",
        "colab_type": "text"
      },
      "source": [
        "### How many roles were available for actors in the 1950s?"
      ]
    },
    {
      "cell_type": "code",
      "metadata": {
        "id": "WlowcvotJw1k",
        "colab_type": "code",
        "colab": {
          "base_uri": "https://localhost:8080/",
          "height": 419
        },
        "outputId": "2c777e36-6a64-4e53-ca24-3397b93d2721"
      },
      "source": [
        "castdf20=castdf[castdf['year'].isin([1950])]\n",
        "castdf21=castdf20[castdf20['type'].isin(['actor'])]\n",
        "castdf21"
      ],
      "execution_count": 215,
      "outputs": [
        {
          "output_type": "execute_result",
          "data": {
            "text/html": [
              "<div>\n",
              "<style scoped>\n",
              "    .dataframe tbody tr th:only-of-type {\n",
              "        vertical-align: middle;\n",
              "    }\n",
              "\n",
              "    .dataframe tbody tr th {\n",
              "        vertical-align: top;\n",
              "    }\n",
              "\n",
              "    .dataframe thead th {\n",
              "        text-align: right;\n",
              "    }\n",
              "</style>\n",
              "<table border=\"1\" class=\"dataframe\">\n",
              "  <thead>\n",
              "    <tr style=\"text-align: right;\">\n",
              "      <th></th>\n",
              "      <th>title</th>\n",
              "      <th>year</th>\n",
              "      <th>name</th>\n",
              "      <th>type</th>\n",
              "      <th>character</th>\n",
              "      <th>n</th>\n",
              "    </tr>\n",
              "  </thead>\n",
              "  <tbody>\n",
              "    <tr>\n",
              "      <th>288</th>\n",
              "      <td>Palletoori Pilla</td>\n",
              "      <td>1950</td>\n",
              "      <td>Subba Rao A.V.</td>\n",
              "      <td>actor</td>\n",
              "      <td>Kampanna Dora</td>\n",
              "      <td>4.0</td>\n",
              "    </tr>\n",
              "    <tr>\n",
              "      <th>465</th>\n",
              "      <td>Hallin Janne</td>\n",
              "      <td>1950</td>\n",
              "      <td>Kosti Aaltonen</td>\n",
              "      <td>actor</td>\n",
              "      <td>Rosvo</td>\n",
              "      <td>NaN</td>\n",
              "    </tr>\n",
              "    <tr>\n",
              "      <th>466</th>\n",
              "      <td>Hallin Janne</td>\n",
              "      <td>1950</td>\n",
              "      <td>Kosti Aaltonen</td>\n",
              "      <td>actor</td>\n",
              "      <td>Vartija</td>\n",
              "      <td>NaN</td>\n",
              "    </tr>\n",
              "    <tr>\n",
              "      <th>1564</th>\n",
              "      <td>Bomba and the Hidden City</td>\n",
              "      <td>1950</td>\n",
              "      <td>Abdullah Abbas</td>\n",
              "      <td>actor</td>\n",
              "      <td>Villager</td>\n",
              "      <td>NaN</td>\n",
              "    </tr>\n",
              "    <tr>\n",
              "      <th>1572</th>\n",
              "      <td>Fortunes of Captain Blood</td>\n",
              "      <td>1950</td>\n",
              "      <td>Abdullah Abbas</td>\n",
              "      <td>actor</td>\n",
              "      <td>Crew Member</td>\n",
              "      <td>NaN</td>\n",
              "    </tr>\n",
              "    <tr>\n",
              "      <th>...</th>\n",
              "      <td>...</td>\n",
              "      <td>...</td>\n",
              "      <td>...</td>\n",
              "      <td>...</td>\n",
              "      <td>...</td>\n",
              "      <td>...</td>\n",
              "    </tr>\n",
              "    <tr>\n",
              "      <th>2531736</th>\n",
              "      <td>Restaurant Intim</td>\n",
              "      <td>1950</td>\n",
              "      <td>Steinar ?ster</td>\n",
              "      <td>actor</td>\n",
              "      <td>Cook</td>\n",
              "      <td>NaN</td>\n",
              "    </tr>\n",
              "    <tr>\n",
              "      <th>2531771</th>\n",
              "      <td>Den vita katten</td>\n",
              "      <td>1950</td>\n",
              "      <td>Alf ?stlund</td>\n",
              "      <td>actor</td>\n",
              "      <td>Ticket Collector</td>\n",
              "      <td>15.0</td>\n",
              "    </tr>\n",
              "    <tr>\n",
              "      <th>2531773</th>\n",
              "      <td>Flicka och hyacinter</td>\n",
              "      <td>1950</td>\n",
              "      <td>Alf ?stlund</td>\n",
              "      <td>actor</td>\n",
              "      <td>Viktor Ekberg</td>\n",
              "      <td>NaN</td>\n",
              "    </tr>\n",
              "    <tr>\n",
              "      <th>2531777</th>\n",
              "      <td>Medan staden sover</td>\n",
              "      <td>1950</td>\n",
              "      <td>Alf ?stlund</td>\n",
              "      <td>actor</td>\n",
              "      <td>Andersson</td>\n",
              "      <td>NaN</td>\n",
              "    </tr>\n",
              "    <tr>\n",
              "      <th>2531779</th>\n",
              "      <td>Restaurant Intim</td>\n",
              "      <td>1950</td>\n",
              "      <td>Alf ?stlund</td>\n",
              "      <td>actor</td>\n",
              "      <td>Manager Nessing</td>\n",
              "      <td>15.0</td>\n",
              "    </tr>\n",
              "  </tbody>\n",
              "</table>\n",
              "<p>16760 rows × 6 columns</p>\n",
              "</div>"
            ],
            "text/plain": [
              "                             title  year  ...         character     n\n",
              "288               Palletoori Pilla  1950  ...     Kampanna Dora   4.0\n",
              "465                   Hallin Janne  1950  ...             Rosvo   NaN\n",
              "466                   Hallin Janne  1950  ...           Vartija   NaN\n",
              "1564     Bomba and the Hidden City  1950  ...          Villager   NaN\n",
              "1572     Fortunes of Captain Blood  1950  ...       Crew Member   NaN\n",
              "...                            ...   ...  ...               ...   ...\n",
              "2531736           Restaurant Intim  1950  ...              Cook   NaN\n",
              "2531771            Den vita katten  1950  ...  Ticket Collector  15.0\n",
              "2531773       Flicka och hyacinter  1950  ...     Viktor Ekberg   NaN\n",
              "2531777         Medan staden sover  1950  ...         Andersson   NaN\n",
              "2531779           Restaurant Intim  1950  ...   Manager Nessing  15.0\n",
              "\n",
              "[16760 rows x 6 columns]"
            ]
          },
          "metadata": {
            "tags": []
          },
          "execution_count": 215
        }
      ]
    },
    {
      "cell_type": "code",
      "metadata": {
        "id": "Aw1mJuD3Jw1p",
        "colab_type": "code",
        "colab": {
          "base_uri": "https://localhost:8080/",
          "height": 34
        },
        "outputId": "30944ca0-4122-4da9-8008-8517151410bd"
      },
      "source": [
        "len(castdf21.character)"
      ],
      "execution_count": 216,
      "outputs": [
        {
          "output_type": "execute_result",
          "data": {
            "text/plain": [
              "16760"
            ]
          },
          "metadata": {
            "tags": []
          },
          "execution_count": 216
        }
      ]
    },
    {
      "cell_type": "markdown",
      "metadata": {
        "collapsed": true,
        "id": "fDTGN2bzJw1v",
        "colab_type": "text"
      },
      "source": [
        "### How many roles were available for actresses in the 1950s?"
      ]
    },
    {
      "cell_type": "code",
      "metadata": {
        "id": "wh0ADJHGJw1w",
        "colab_type": "code",
        "colab": {
          "base_uri": "https://localhost:8080/",
          "height": 419
        },
        "outputId": "a5e24d73-b145-4d8f-fbfc-322ad25c1ebf"
      },
      "source": [
        "castdf22=castdf[castdf['year'].isin([1950])]\n",
        "castdf23=castdf22[castdf22['type'].isin(['actress'])]\n",
        "castdf23\n"
      ],
      "execution_count": 220,
      "outputs": [
        {
          "output_type": "execute_result",
          "data": {
            "text/html": [
              "<div>\n",
              "<style scoped>\n",
              "    .dataframe tbody tr th:only-of-type {\n",
              "        vertical-align: middle;\n",
              "    }\n",
              "\n",
              "    .dataframe tbody tr th {\n",
              "        vertical-align: top;\n",
              "    }\n",
              "\n",
              "    .dataframe thead th {\n",
              "        text-align: right;\n",
              "    }\n",
              "</style>\n",
              "<table border=\"1\" class=\"dataframe\">\n",
              "  <thead>\n",
              "    <tr style=\"text-align: right;\">\n",
              "      <th></th>\n",
              "      <th>title</th>\n",
              "      <th>year</th>\n",
              "      <th>name</th>\n",
              "      <th>type</th>\n",
              "      <th>character</th>\n",
              "      <th>n</th>\n",
              "    </tr>\n",
              "  </thead>\n",
              "  <tbody>\n",
              "    <tr>\n",
              "      <th>2532684</th>\n",
              "      <td>A Woman of Distinction</td>\n",
              "      <td>1950</td>\n",
              "      <td>Lucienne &amp; Ashour</td>\n",
              "      <td>actress</td>\n",
              "      <td>Apache Dancers</td>\n",
              "      <td>NaN</td>\n",
              "    </tr>\n",
              "    <tr>\n",
              "      <th>2532686</th>\n",
              "      <td>Chain Lightning</td>\n",
              "      <td>1950</td>\n",
              "      <td>Lucienne &amp; Ashour</td>\n",
              "      <td>actress</td>\n",
              "      <td>Apache Dancers</td>\n",
              "      <td>NaN</td>\n",
              "    </tr>\n",
              "    <tr>\n",
              "      <th>2533554</th>\n",
              "      <td>A Life of Her Own</td>\n",
              "      <td>1950</td>\n",
              "      <td>Dorothy Abbott</td>\n",
              "      <td>actress</td>\n",
              "      <td>Model</td>\n",
              "      <td>NaN</td>\n",
              "    </tr>\n",
              "    <tr>\n",
              "      <th>2533558</th>\n",
              "      <td>Annie Get Your Gun</td>\n",
              "      <td>1950</td>\n",
              "      <td>Dorothy Abbott</td>\n",
              "      <td>actress</td>\n",
              "      <td>Carriage Woman</td>\n",
              "      <td>NaN</td>\n",
              "    </tr>\n",
              "    <tr>\n",
              "      <th>2533561</th>\n",
              "      <td>Copper Canyon</td>\n",
              "      <td>1950</td>\n",
              "      <td>Dorothy Abbott</td>\n",
              "      <td>actress</td>\n",
              "      <td>Showgirl</td>\n",
              "      <td>NaN</td>\n",
              "    </tr>\n",
              "    <tr>\n",
              "      <th>...</th>\n",
              "      <td>...</td>\n",
              "      <td>...</td>\n",
              "      <td>...</td>\n",
              "      <td>...</td>\n",
              "      <td>...</td>\n",
              "      <td>...</td>\n",
              "    </tr>\n",
              "    <tr>\n",
              "      <th>3785342</th>\n",
              "      <td>Quinto patio</td>\n",
              "      <td>1950</td>\n",
              "      <td>Dalia ??iguez</td>\n",
              "      <td>actress</td>\n",
              "      <td>Do?a Blanquita Z??iga de Vallarta</td>\n",
              "      <td>5.0</td>\n",
              "    </tr>\n",
              "    <tr>\n",
              "      <th>3785585</th>\n",
              "      <td>Fukkatsu</td>\n",
              "      <td>1950</td>\n",
              "      <td>Chiharu ?tomo</td>\n",
              "      <td>actress</td>\n",
              "      <td>Nagisa Fujioka</td>\n",
              "      <td>5.0</td>\n",
              "    </tr>\n",
              "    <tr>\n",
              "      <th>3785587</th>\n",
              "      <td>Harukanari haha no kuni</td>\n",
              "      <td>1950</td>\n",
              "      <td>Chiharu ?tomo</td>\n",
              "      <td>actress</td>\n",
              "      <td>May Takebayashi</td>\n",
              "      <td>NaN</td>\n",
              "    </tr>\n",
              "    <tr>\n",
              "      <th>3785752</th>\n",
              "      <td>Anderssonskans Kalle</td>\n",
              "      <td>1950</td>\n",
              "      <td>Ingrid ?stergren</td>\n",
              "      <td>actress</td>\n",
              "      <td>Summer Camp Manager</td>\n",
              "      <td>NaN</td>\n",
              "    </tr>\n",
              "    <tr>\n",
              "      <th>3786094</th>\n",
              "      <td>Akdeniz korsanlari</td>\n",
              "      <td>1950</td>\n",
              "      <td>Muazzez ?lkerer</td>\n",
              "      <td>actress</td>\n",
              "      <td>Maria</td>\n",
              "      <td>2.0</td>\n",
              "    </tr>\n",
              "  </tbody>\n",
              "</table>\n",
              "<p>5637 rows × 6 columns</p>\n",
              "</div>"
            ],
            "text/plain": [
              "                           title  year  ...                          character    n\n",
              "2532684   A Woman of Distinction  1950  ...                     Apache Dancers  NaN\n",
              "2532686          Chain Lightning  1950  ...                     Apache Dancers  NaN\n",
              "2533554        A Life of Her Own  1950  ...                              Model  NaN\n",
              "2533558       Annie Get Your Gun  1950  ...                     Carriage Woman  NaN\n",
              "2533561            Copper Canyon  1950  ...                           Showgirl  NaN\n",
              "...                          ...   ...  ...                                ...  ...\n",
              "3785342             Quinto patio  1950  ...  Do?a Blanquita Z??iga de Vallarta  5.0\n",
              "3785585                 Fukkatsu  1950  ...                     Nagisa Fujioka  5.0\n",
              "3785587  Harukanari haha no kuni  1950  ...                    May Takebayashi  NaN\n",
              "3785752     Anderssonskans Kalle  1950  ...                Summer Camp Manager  NaN\n",
              "3786094       Akdeniz korsanlari  1950  ...                              Maria  2.0\n",
              "\n",
              "[5637 rows x 6 columns]"
            ]
          },
          "metadata": {
            "tags": []
          },
          "execution_count": 220
        }
      ]
    },
    {
      "cell_type": "code",
      "metadata": {
        "id": "GhZbQCWFJw10",
        "colab_type": "code",
        "colab": {
          "base_uri": "https://localhost:8080/",
          "height": 34
        },
        "outputId": "fc4abb33-d95f-42dd-bd6c-7726d83be22f"
      },
      "source": [
        "len(castdf23.character)"
      ],
      "execution_count": 221,
      "outputs": [
        {
          "output_type": "execute_result",
          "data": {
            "text/plain": [
              "5637"
            ]
          },
          "metadata": {
            "tags": []
          },
          "execution_count": 221
        }
      ]
    },
    {
      "cell_type": "markdown",
      "metadata": {
        "collapsed": true,
        "id": "0d5LqaLxJw15",
        "colab_type": "text"
      },
      "source": [
        "### How many leading roles (n=1) were available from the beginning of film history through 1980?"
      ]
    },
    {
      "cell_type": "code",
      "metadata": {
        "id": "6a-_ekOuJw16",
        "colab_type": "code",
        "colab": {
          "base_uri": "https://localhost:8080/",
          "height": 34
        },
        "outputId": "3b53caf9-375f-45f3-c3f4-b47b900aae59"
      },
      "source": [
        "castdf23=castdf.sort_values(\"year\").head(1)\n",
        "castdfbeg=int(castdf23.year) # beginning year of film in the dataset\n",
        "castdf24=castdf[castdf['year'].between(castdfbeg,1980)]\n",
        "len(castdf24[castdf24['n'].isin([1])])"
      ],
      "execution_count": 244,
      "outputs": [
        {
          "output_type": "execute_result",
          "data": {
            "text/plain": [
              "65140"
            ]
          },
          "metadata": {
            "tags": []
          },
          "execution_count": 244
        }
      ]
    },
    {
      "cell_type": "markdown",
      "metadata": {
        "collapsed": true,
        "id": "sahr-SzHJw2H",
        "colab_type": "text"
      },
      "source": [
        "### How many non-leading roles were available through from the beginning of film history through 1980?"
      ]
    },
    {
      "cell_type": "code",
      "metadata": {
        "id": "4WN6B1IZJw2I",
        "colab_type": "code",
        "colab": {
          "base_uri": "https://localhost:8080/",
          "height": 34
        },
        "outputId": "7acc5bc0-eb85-4435-a58f-c915c47049d0"
      },
      "source": [
        "len(castdf24[castdf24['n']>1])"
      ],
      "execution_count": 251,
      "outputs": [
        {
          "output_type": "execute_result",
          "data": {
            "text/plain": [
              "669320"
            ]
          },
          "metadata": {
            "tags": []
          },
          "execution_count": 251
        }
      ]
    },
    {
      "cell_type": "code",
      "metadata": {
        "id": "A5d6yJ44Jw2M",
        "colab_type": "code",
        "colab": {}
      },
      "source": [
        ""
      ],
      "execution_count": null,
      "outputs": []
    },
    {
      "cell_type": "markdown",
      "metadata": {
        "collapsed": true,
        "id": "CNUFiMwTJw2Q",
        "colab_type": "text"
      },
      "source": [
        "### How many roles through 1980 were minor enough that they did not warrant a numeric \"n\" rank?"
      ]
    },
    {
      "cell_type": "code",
      "metadata": {
        "id": "0TNicrq6Jw2T",
        "colab_type": "code",
        "colab": {
          "base_uri": "https://localhost:8080/",
          "height": 34
        },
        "outputId": "36fb8af5-d1e3-42af-cae4-d26211090651"
      },
      "source": [
        "len(castdf24[castdf24['n'].isna()])"
      ],
      "execution_count": 257,
      "outputs": [
        {
          "output_type": "execute_result",
          "data": {
            "text/plain": [
              "448347"
            ]
          },
          "metadata": {
            "tags": []
          },
          "execution_count": 257
        }
      ]
    }
  ]
}