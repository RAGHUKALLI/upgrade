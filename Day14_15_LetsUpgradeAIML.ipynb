{
  "nbformat": 4,
  "nbformat_minor": 0,
  "metadata": {
    "colab": {
      "name": "Day14-15-LetsUpgradeAIML.ipynb",
      "provenance": [],
      "collapsed_sections": [],
      "authorship_tag": "ABX9TyMvqEgH3FBqqoiiTgyx/eDy",
      "include_colab_link": true
    },
    "kernelspec": {
      "name": "python3",
      "display_name": "Python 3"
    }
  },
  "cells": [
    {
      "cell_type": "markdown",
      "metadata": {
        "id": "view-in-github",
        "colab_type": "text"
      },
      "source": [
        "<a href=\"https://colab.research.google.com/github/RAGHUKALLI/upgrade/blob/master/Day14_15_LetsUpgradeAIML.ipynb\" target=\"_parent\"><img src=\"https://colab.research.google.com/assets/colab-badge.svg\" alt=\"Open In Colab\"/></a>"
      ]
    },
    {
      "cell_type": "markdown",
      "metadata": {
        "id": "PKzq0mwfJ_YB",
        "colab_type": "text"
      },
      "source": [
        "1.Create a 3x3x3 array with random values"
      ]
    },
    {
      "cell_type": "code",
      "metadata": {
        "id": "UGUTReN6NUNA",
        "colab_type": "code",
        "colab": {
          "base_uri": "https://localhost:8080/",
          "height": 204
        },
        "outputId": "d07e838e-4b2d-4ffb-c274-def5daab282d"
      },
      "source": [
        "import numpy as np\n",
        "arr = np.random.random((3,3,3))\n",
        "print(arr)"
      ],
      "execution_count": null,
      "outputs": [
        {
          "output_type": "stream",
          "text": [
            "[[[0.05118797 0.82572644 0.96723344]\n",
            "  [0.06574133 0.487248   0.70519428]\n",
            "  [0.87359271 0.37565209 0.42028387]]\n",
            "\n",
            " [[0.19344057 0.84551086 0.18135276]\n",
            "  [0.65575591 0.26579292 0.51015882]\n",
            "  [0.74816628 0.69964873 0.88592659]]\n",
            "\n",
            " [[0.98053081 0.39678116 0.64023321]\n",
            "  [0.03660196 0.87441967 0.12611283]\n",
            "  [0.71555234 0.23095887 0.43029802]]]\n"
          ],
          "name": "stdout"
        }
      ]
    },
    {
      "cell_type": "markdown",
      "metadata": {
        "id": "l4LL3IjIKAUx",
        "colab_type": "text"
      },
      "source": [
        "2.Create a 5x5 matrix with values 1,2,3,4 just below the diagonal\n",
        "In [ ]:\n"
      ]
    },
    {
      "cell_type": "code",
      "metadata": {
        "id": "W8roxzygN1D3",
        "colab_type": "code",
        "colab": {
          "base_uri": "https://localhost:8080/",
          "height": 102
        },
        "outputId": "8fe11c8c-7494-411e-83cb-49c49205f0a1"
      },
      "source": [
        "a = np.diag(1+np.arange(4), k = -1)\n",
        "print (a)"
      ],
      "execution_count": null,
      "outputs": [
        {
          "output_type": "stream",
          "text": [
            "[[0 0 0 0 0]\n",
            " [1 0 0 0 0]\n",
            " [0 2 0 0 0]\n",
            " [0 0 3 0 0]\n",
            " [0 0 0 4 0]]\n"
          ],
          "name": "stdout"
        }
      ]
    },
    {
      "cell_type": "markdown",
      "metadata": {
        "id": "AR7zpvilKCOL",
        "colab_type": "text"
      },
      "source": [
        "3.Create a 8x8 matrix and fill it with a checkerboard pattern"
      ]
    },
    {
      "cell_type": "code",
      "metadata": {
        "id": "37DGxHD4Ow4z",
        "colab_type": "code",
        "colab": {
          "base_uri": "https://localhost:8080/",
          "height": 153
        },
        "outputId": "bb48051e-87cf-4e32-a589-1889134591fc"
      },
      "source": [
        "import numpy as np\n",
        "b = np.ones((4,4))\n",
        "b = np.zeros((8,8),dtype=int)\n",
        "b[1::2,::2] = 1\n",
        "b[::2,1::2] = 1\n",
        "print(b)"
      ],
      "execution_count": null,
      "outputs": [
        {
          "output_type": "stream",
          "text": [
            "[[0 1 0 1 0 1 0 1]\n",
            " [1 0 1 0 1 0 1 0]\n",
            " [0 1 0 1 0 1 0 1]\n",
            " [1 0 1 0 1 0 1 0]\n",
            " [0 1 0 1 0 1 0 1]\n",
            " [1 0 1 0 1 0 1 0]\n",
            " [0 1 0 1 0 1 0 1]\n",
            " [1 0 1 0 1 0 1 0]]\n"
          ],
          "name": "stdout"
        }
      ]
    },
    {
      "cell_type": "markdown",
      "metadata": {
        "id": "TE5zZx7IKEa3",
        "colab_type": "text"
      },
      "source": [
        "4.Normalize a 5x5 random matrix"
      ]
    },
    {
      "cell_type": "code",
      "metadata": {
        "id": "o5HK0zj9Pj0-",
        "colab_type": "code",
        "colab": {
          "base_uri": "https://localhost:8080/",
          "height": 238
        },
        "outputId": "b6e0c6a5-02fd-4252-8491-311e36f981df"
      },
      "source": [
        "import numpy as np\n",
        "c= np.random.random((5,5))\n",
        "print(\"The original array is: \")\n",
        "print(c)\n",
        "cmax, cmin = c.max(), c.min()\n",
        "c = (c - cmin)/(cmax - cmin)\n",
        "print(\"\\nThe array after normalization is: \")\n",
        "print(c)"
      ],
      "execution_count": null,
      "outputs": [
        {
          "output_type": "stream",
          "text": [
            "The original array is: \n",
            "[[0.14640134 0.05844455 0.24613188 0.97664098 0.09168169]\n",
            " [0.28305388 0.96986704 0.6159303  0.74065361 0.09597891]\n",
            " [0.27324991 0.77356062 0.03147433 0.87804334 0.23969899]\n",
            " [0.46077376 0.8665909  0.71343468 0.30422681 0.01615327]\n",
            " [0.11924728 0.16666405 0.40000168 0.7945661  0.99095425]]\n",
            "\n",
            "The array after normalization is: \n",
            "[[0.13361504 0.04338454 0.23592366 0.98531673 0.07748086]\n",
            " [0.2738001  0.97836768 0.61528152 0.74322899 0.08188917]\n",
            " [0.2637427  0.77698666 0.01571712 0.8841703  0.22932448]\n",
            " [0.45611412 0.8724218  0.71530643 0.29552037 0.        ]\n",
            " [0.10575904 0.15440155 0.39377106 0.79853513 1.        ]]\n"
          ],
          "name": "stdout"
        }
      ]
    },
    {
      "cell_type": "markdown",
      "metadata": {
        "id": "ZBc2QlXuKGnB",
        "colab_type": "text"
      },
      "source": [
        "5.How to find common values between two arrays?"
      ]
    },
    {
      "cell_type": "code",
      "metadata": {
        "id": "PJY3Ptt-Q0d2",
        "colab_type": "code",
        "colab": {
          "base_uri": "https://localhost:8080/",
          "height": 102
        },
        "outputId": "a07a85c5-4781-404d-90ed-35cab45aa274"
      },
      "source": [
        "import numpy as np\n",
        "arr1 = np.array([3,6,9,12,15,18,21,24,27,30])\n",
        "type(arr1)\n",
        "print(\"Array 1 is: \",arr1)\n",
        "print()\n",
        "arr2 = np.array([2,4,6,8,10,12,14,16,18,20,22,24,26,28,30])\n",
        "print(\"Array 2 is: \",arr2)\n",
        "print()\n",
        "print(\"Common values between two arrays are:\",np.intersect1d(arr1, arr2))"
      ],
      "execution_count": null,
      "outputs": [
        {
          "output_type": "stream",
          "text": [
            "Array 1 is:  [ 3  6  9 12 15 18 21 24 27 30]\n",
            "\n",
            "Array 2 is:  [ 2  4  6  8 10 12 14 16 18 20 22 24 26 28 30]\n",
            "\n",
            "Common values between two arrays are: [ 6 12 18 24 30]\n"
          ],
          "name": "stdout"
        }
      ]
    },
    {
      "cell_type": "markdown",
      "metadata": {
        "id": "-mfphDN9KI6C",
        "colab_type": "text"
      },
      "source": [
        "\n",
        "6.How to get the dates of yesterday, today and tomorrow?"
      ]
    },
    {
      "cell_type": "code",
      "metadata": {
        "id": "YcoV_ftpW_ko",
        "colab_type": "code",
        "colab": {
          "base_uri": "https://localhost:8080/",
          "height": 68
        },
        "outputId": "6ccfe694-4748-47a7-b988-0c6d4c3a516e"
      },
      "source": [
        "import datetime as dt\n",
        "today = dt.date.today()\n",
        "yesterday = today - dt.timedelta(days = 1)\n",
        "tomorrow = today + dt.timedelta(days = 1) \n",
        "print('Yesterday : ',yesterday)\n",
        "print('Today : ',today)\n",
        "print('Tomorrow : ',tomorrow)"
      ],
      "execution_count": null,
      "outputs": [
        {
          "output_type": "stream",
          "text": [
            "Yesterday :  2020-07-25\n",
            "Today :  2020-07-26\n",
            "Tomorrow :  2020-07-27\n"
          ],
          "name": "stdout"
        }
      ]
    },
    {
      "cell_type": "markdown",
      "metadata": {
        "id": "kOEOejsgKLqs",
        "colab_type": "text"
      },
      "source": [
        "7.Consider two random array A and B, check if they are equal"
      ]
    },
    {
      "cell_type": "code",
      "metadata": {
        "id": "QiOJAM26XoEw",
        "colab_type": "code",
        "colab": {
          "base_uri": "https://localhost:8080/",
          "height": 119
        },
        "outputId": "19b4856c-9e75-475b-e4ac-afea952c0c50"
      },
      "source": [
        "import numpy as np\n",
        "a = np.random.randint(0,2,6)\n",
        "print(\"Array A :\",a)\n",
        "print()\n",
        "b = np.random.randint(0,2,6)\n",
        "print(\"Array B :\",b)\n",
        "print()\n",
        "print(\"Are the above arrays equal?\")\n",
        "arr_equal = np.allclose(a, b)\n",
        "if arr_equal==True:\n",
        "  print(\"Yes, the above arrays are equal\")\n",
        "else:\n",
        "  print(\"No, the above arrays are not equal\")"
      ],
      "execution_count": null,
      "outputs": [
        {
          "output_type": "stream",
          "text": [
            "Array A : [0 0 0 1 1 1]\n",
            "\n",
            "Array B : [1 0 0 0 1 1]\n",
            "\n",
            "Are the above arrays equal?\n",
            "No, the above arrays are not equal\n"
          ],
          "name": "stdout"
        }
      ]
    },
    {
      "cell_type": "markdown",
      "metadata": {
        "id": "CZ53IJ-QKOjH",
        "colab_type": "text"
      },
      "source": [
        "\n",
        "8.Create random vector of size 10 and replace the maximum value by 0"
      ]
    },
    {
      "cell_type": "code",
      "metadata": {
        "id": "zOF3kdFBZQZd",
        "colab_type": "code",
        "colab": {
          "base_uri": "https://localhost:8080/",
          "height": 136
        },
        "outputId": "08197cc9-4fe6-498d-c431-0ea6430a2014"
      },
      "source": [
        "import numpy as np\n",
        "a = np.random.rand(10)\n",
        "print(\"The original array is:\")\n",
        "print(a)\n",
        "print()\n",
        "a[a.argmax()]=0\n",
        "print(\"Array with maximum value replaced by 0 is:\")\n",
        "print(a)"
      ],
      "execution_count": null,
      "outputs": [
        {
          "output_type": "stream",
          "text": [
            "The original array is:\n",
            "[0.08473493 0.30919865 0.63285779 0.04198144 0.73046877 0.66899805\n",
            " 0.05640031 0.28029445 0.88542637 0.38681929]\n",
            "\n",
            "Array with maximum value replaced by 0 is:\n",
            "[0.08473493 0.30919865 0.63285779 0.04198144 0.73046877 0.66899805\n",
            " 0.05640031 0.28029445 0.         0.38681929]\n"
          ],
          "name": "stdout"
        }
      ]
    },
    {
      "cell_type": "markdown",
      "metadata": {
        "id": "mJHTc4q2KQ3f",
        "colab_type": "text"
      },
      "source": [
        "9.How to print all the values of an array?"
      ]
    },
    {
      "cell_type": "code",
      "metadata": {
        "id": "X0jJr1iJidvu",
        "colab_type": "code",
        "colab": {
          "base_uri": "https://localhost:8080/",
          "height": 204
        },
        "outputId": "400c6196-6601-4a4e-e477-4e82cc5dab34"
      },
      "source": [
        "from array import *\n",
        "\n",
        "arr = array('i', [2,4,6,8,10,12,14,16])\n",
        "print(\"The given array is: \",arr)\n",
        "print(\"\\nThe values of the array are as below:\")\n",
        "for i in arr:\n",
        " print(i)"
      ],
      "execution_count": null,
      "outputs": [
        {
          "output_type": "stream",
          "text": [
            "The given array is:  array('i', [2, 4, 6, 8, 10, 12, 14, 16])\n",
            "\n",
            "The values of the array are as below:\n",
            "2\n",
            "4\n",
            "6\n",
            "8\n",
            "10\n",
            "12\n",
            "14\n",
            "16\n"
          ],
          "name": "stdout"
        }
      ]
    },
    {
      "cell_type": "markdown",
      "metadata": {
        "id": "-sUq0NWLKTTR",
        "colab_type": "text"
      },
      "source": [
        "\n",
        "10.Subtract the mean of each row of a matrix"
      ]
    },
    {
      "cell_type": "code",
      "metadata": {
        "id": "fvGVh1zwbkuv",
        "colab_type": "code",
        "colab": {
          "base_uri": "https://localhost:8080/",
          "height": 136
        },
        "outputId": "56ad765b-e29e-4465-c83b-b2a300c51f27"
      },
      "source": [
        "import numpy as np\n",
        "print(\"Original matrix:\")\n",
        "a = np.random.rand(2,3)\n",
        "print(a)\n",
        "\n",
        "print(\"\\nSubtract the mean of each row of above matrix:\")\n",
        "b = a - a.mean(axis=1, keepdims=True)\n",
        "print(b)"
      ],
      "execution_count": null,
      "outputs": [
        {
          "output_type": "stream",
          "text": [
            "Original matrix:\n",
            "[[0.69876563 0.02975815 0.14108638]\n",
            " [0.29597582 0.21196819 0.84593278]]\n",
            "\n",
            "Subtract the mean of each row of above matrix:\n",
            "[[ 0.40889558 -0.2601119  -0.14878367]\n",
            " [-0.15531644 -0.23932407  0.39464052]]\n"
          ],
          "name": "stdout"
        }
      ]
    },
    {
      "cell_type": "markdown",
      "metadata": {
        "id": "FbCj-DtbK2KT",
        "colab_type": "text"
      },
      "source": [
        "\n",
        "11.Consider a given vector, how to add 1 to each element indexed by a second vector (be careful with repeated indices)?"
      ]
    },
    {
      "cell_type": "code",
      "metadata": {
        "id": "qrEK9Orm7yr0",
        "colab_type": "code",
        "colab": {
          "base_uri": "https://localhost:8080/",
          "height": 34
        },
        "outputId": "bf84e8a6-c982-4ff3-e95c-6786c1bfc376"
      },
      "source": [
        "a = np.ones(10) # need to check\n",
        "b = np.random.randint(0,len(a),20)\n",
        "a += np.bincount(b, minlength=len(a))\n",
        "print(a)"
      ],
      "execution_count": 28,
      "outputs": [
        {
          "output_type": "stream",
          "text": [
            "[2. 3. 4. 1. 6. 6. 3. 2. 2. 1.]\n"
          ],
          "name": "stdout"
        }
      ]
    },
    {
      "cell_type": "markdown",
      "metadata": {
        "id": "M9CqEinkK4mC",
        "colab_type": "text"
      },
      "source": [
        "\n",
        "12.How to get the diagonal of a dot product?"
      ]
    },
    {
      "cell_type": "code",
      "metadata": {
        "id": "-oGXi8o2X4d6",
        "colab_type": "code",
        "colab": {
          "base_uri": "https://localhost:8080/",
          "height": 289
        },
        "outputId": "2033f285-0712-4d08-fbdd-5c97e7f23119"
      },
      "source": [
        "# Solution1:Fast method\n",
        "A = np.random.randint(0,10,(3,3))\n",
        "B= np.random.randint(0,10,(3,3))\n",
        "print(\"Matrix A is:\\n\",A)\n",
        "print(\"\\nMatrix B is:\\n\",B)\n",
        "\n",
        "C=np.dot(A,B)\n",
        "print(\"\\nDot Product of A&B is:\\n\",C)\n",
        "\n",
        "D=np.einsum(\"ij,ji->i\", A, B)\n",
        "print(\"\\nDiagonal of a dot product is:\",D)"
      ],
      "execution_count": 43,
      "outputs": [
        {
          "output_type": "stream",
          "text": [
            "Matrix A is:\n",
            " [[2 6 5]\n",
            " [4 6 7]\n",
            " [6 8 0]]\n",
            "\n",
            "Matrix B is:\n",
            " [[3 3 6]\n",
            " [1 6 0]\n",
            " [5 0 7]]\n",
            "\n",
            "Dot Product of A&B is:\n",
            " [[37 42 47]\n",
            " [53 48 73]\n",
            " [26 66 36]]\n",
            "\n",
            "Diagonal of a dot product is: [37 48 36]\n"
          ],
          "name": "stdout"
        }
      ]
    },
    {
      "cell_type": "code",
      "metadata": {
        "id": "EiI8y00LcORe",
        "colab_type": "code",
        "colab": {
          "base_uri": "https://localhost:8080/",
          "height": 289
        },
        "outputId": "702a75b5-b907-42e6-a45a-ca9b60378b8b"
      },
      "source": [
        "# Solution2:Slow method\n",
        "A=np.random.randint(0,10,(3,3))\n",
        "B=np.random.randint(0,10,(3,3))\n",
        "\n",
        "print(\"Matrix A is:\\n\",A)\n",
        "print(\"\\nMatrix B is:\\n\",B)\n",
        "\n",
        "C=np.dot(A,B)\n",
        "print(\"\\nDot Product of A&B is:\\n\",C)\n",
        "\n",
        "D=np.diag(np.dot(A, B))\n",
        "print(\"\\nDiagonal of a dot product is:\",D)\n"
      ],
      "execution_count": 45,
      "outputs": [
        {
          "output_type": "stream",
          "text": [
            "Matrix A is:\n",
            " [[5 1 8]\n",
            " [8 4 8]\n",
            " [2 0 1]]\n",
            "\n",
            "Matrix B is:\n",
            " [[3 1 0]\n",
            " [8 1 6]\n",
            " [4 6 0]]\n",
            "\n",
            "Dot Product of A&B is:\n",
            " [[55 54  6]\n",
            " [88 60 24]\n",
            " [10  8  0]]\n",
            "\n",
            "Diagonal of a dot product is: [55 60  0]\n"
          ],
          "name": "stdout"
        }
      ]
    },
    {
      "cell_type": "markdown",
      "metadata": {
        "id": "5SxP30dSK7e9",
        "colab_type": "text"
      },
      "source": [
        "13.How to find the most frequent value in an array?"
      ]
    },
    {
      "cell_type": "code",
      "metadata": {
        "id": "99MMH2aAE8Xv",
        "colab_type": "code",
        "colab": {
          "base_uri": "https://localhost:8080/",
          "height": 68
        },
        "outputId": "290ffeee-d14e-4a63-9081-c6ba54379a7d"
      },
      "source": [
        "# Solution1: Using numpy\n",
        "import numpy as np\n",
        "arr =[1,5,3,2,4,6,7,2,3,2,3,2]\n",
        "print(\"Original array is:\",arr)\n",
        "print(\"\\nMost frequent value in the above array is:\",np.bincount(x).argmax())"
      ],
      "execution_count": null,
      "outputs": [
        {
          "output_type": "stream",
          "text": [
            "Original array is: [1, 5, 3, 2, 4, 6, 7, 2, 3, 2, 3, 2]\n",
            "\n",
            "Most frequent value in the above array is: 2\n"
          ],
          "name": "stdout"
        }
      ]
    },
    {
      "cell_type": "code",
      "metadata": {
        "id": "pm86zmQCCtd2",
        "colab_type": "code",
        "colab": {
          "base_uri": "https://localhost:8080/",
          "height": 68
        },
        "outputId": "9e2d0c6d-a197-4ee3-f615-c0b24c11f962"
      },
      "source": [
        "# Solution2: Using statistics module\n",
        "import statistics \n",
        "from statistics import mode \n",
        "arr=[1,5,3,2,4,6,7,2,3,2,3,2]\n",
        "print(\"Original array is:\",arr)\n",
        "freq = mode(arr)\n",
        "print(\"\\nMost frequent value in the above array is\",freq)"
      ],
      "execution_count": null,
      "outputs": [
        {
          "output_type": "stream",
          "text": [
            "Original array is: [1, 5, 3, 2, 4, 6, 7, 2, 3, 2, 3, 2]\n",
            "\n",
            "Most frequent value in the above array is 2\n"
          ],
          "name": "stdout"
        }
      ]
    },
    {
      "cell_type": "markdown",
      "metadata": {
        "id": "EnMX2PiSK9gj",
        "colab_type": "text"
      },
      "source": [
        "\n",
        "14.How to get the n largest values of an array"
      ]
    },
    {
      "cell_type": "code",
      "metadata": {
        "id": "9JjEkDnBb3xW",
        "colab_type": "code",
        "colab": {
          "base_uri": "https://localhost:8080/",
          "height": 68
        },
        "outputId": "b3c95df9-55f1-495d-d261-886bd43d6adb"
      },
      "source": [
        "import numpy as np\n",
        "a =[12,20,11,25,9,7,8]\n",
        "x=np.array(a)\n",
        "print(\"Given original array is:\",x)\n",
        "n = 4\n",
        "print (\"\\nThe largest values of the array are:\",x[np.argsort(x)[-n:]])"
      ],
      "execution_count": null,
      "outputs": [
        {
          "output_type": "stream",
          "text": [
            "Given original array is: [12 20 11 25  9  7  8]\n",
            "\n",
            "The largest values of the array are: [11 12 20 25]\n"
          ],
          "name": "stdout"
        }
      ]
    },
    {
      "cell_type": "markdown",
      "metadata": {
        "id": "Z-fkv5XvK_nf",
        "colab_type": "text"
      },
      "source": [
        "15.How to create a record array from a regular array?"
      ]
    },
    {
      "cell_type": "code",
      "metadata": {
        "id": "K6erqtAkM0gd",
        "colab_type": "code",
        "colab": {
          "base_uri": "https://localhost:8080/",
          "height": 68
        },
        "outputId": "a9445b64-b34b-4626-b8d3-0e1bee6896a5"
      },
      "source": [
        "import numpy as np\n",
        "arr1=np.array([1,2,3,4])\n",
        "arr2=np.array(['cat','dog','horse','rabbit'])\n",
        "arr3=np.array([15.30,21.56,34.89,27.51])\n",
        "res= np.core.records.fromarrays([arr1, arr2, arr3],names='a,b,c')\n",
        "print(res[0])\n",
        "print(res[1])\n",
        "print(res[2])"
      ],
      "execution_count": null,
      "outputs": [
        {
          "output_type": "stream",
          "text": [
            "(1, 'cat', 15.3)\n",
            "(2, 'dog', 21.56)\n",
            "(3, 'horse', 34.89)\n"
          ],
          "name": "stdout"
        }
      ]
    }
  ]
}