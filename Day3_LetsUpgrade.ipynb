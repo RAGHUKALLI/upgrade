{
  "nbformat": 4,
  "nbformat_minor": 0,
  "metadata": {
    "colab": {
      "name": "Day3-LetsUpgrade.ipynb",
      "provenance": [],
      "collapsed_sections": []
    },
    "kernelspec": {
      "name": "python3",
      "display_name": "Python 3"
    }
  },
  "cells": [
    {
      "cell_type": "markdown",
      "metadata": {
        "id": "nBn51IMvG797",
        "colab_type": "text"
      },
      "source": [
        "Question 1 :Write a program to subtract two complex numbers in Python"
      ]
    },
    {
      "cell_type": "code",
      "metadata": {
        "id": "_X1dHUOJD3hO",
        "colab_type": "code",
        "colab": {
          "base_uri": "https://localhost:8080/",
          "height": 34
        },
        "outputId": "f006900c-e3cc-46ee-c4d0-f7d2984f62dc"
      },
      "source": [
        "a= 2+3j\n",
        "b= 4+2j\n",
        "c=(a-b)\n",
        "print(\"Result of subtraction of two complex numbers\" ,a,\"and\",b, \"is \", c)"
      ],
      "execution_count": 38,
      "outputs": [
        {
          "output_type": "stream",
          "text": [
            "Result of subtraction of two complex numbers (2+3j) and (4+2j) is  (-2+1j)\n"
          ],
          "name": "stdout"
        }
      ]
    },
    {
      "cell_type": "markdown",
      "metadata": {
        "id": "h-yq-FD9I7H4",
        "colab_type": "text"
      },
      "source": [
        "Question 2 :Write a program to find the fourth root of a number"
      ]
    },
    {
      "cell_type": "code",
      "metadata": {
        "id": "Zhqj0FzPJBsS",
        "colab_type": "code",
        "colab": {
          "base_uri": "https://localhost:8080/",
          "height": 34
        },
        "outputId": "21007e14-ee51-4c16-f520-7e2058e67a23"
      },
      "source": [
        "a= 16\n",
        "b= a**(1/4)\n",
        "print(\"Fourth root of the number\",a, \"is\", b)"
      ],
      "execution_count": 39,
      "outputs": [
        {
          "output_type": "stream",
          "text": [
            "Fourth root of the number 16 is 2.0\n"
          ],
          "name": "stdout"
        }
      ]
    },
    {
      "cell_type": "markdown",
      "metadata": {
        "id": "U3XNEetdKgVC",
        "colab_type": "text"
      },
      "source": [
        "Question 3: Write a program to swap two numbers in Python with the help of a temporary variable."
      ]
    },
    {
      "cell_type": "code",
      "metadata": {
        "id": "7l8XzhBFKilM",
        "colab_type": "code",
        "colab": {
          "base_uri": "https://localhost:8080/",
          "height": 68
        },
        "outputId": "84258a13-a7b6-4926-b6ee-493c6fd20d94"
      },
      "source": [
        "a=3\n",
        "print(\"First number before swapping is\",a)\n",
        "b=5\n",
        "print(\"Second number before swapping is\",b)\n",
        "c=a\n",
        "a=b\n",
        "b=c\n",
        "print(\"Result after swapping of two numbers is :\",a,b)"
      ],
      "execution_count": 46,
      "outputs": [
        {
          "output_type": "stream",
          "text": [
            "First number before swapping is 3\n",
            "Second number before swapping is 5\n",
            "Result after swapping of two numbers is : 5 3\n"
          ],
          "name": "stdout"
        }
      ]
    },
    {
      "cell_type": "markdown",
      "metadata": {
        "id": "NtgiVnmDLkP0",
        "colab_type": "text"
      },
      "source": [
        "Question 4: Write a program to swap two numbers in Python without using a temporary variable."
      ]
    },
    {
      "cell_type": "code",
      "metadata": {
        "id": "u5v4831GLqSI",
        "colab_type": "code",
        "colab": {
          "base_uri": "https://localhost:8080/",
          "height": 68
        },
        "outputId": "6155a224-05f8-4c32-b005-d80f4c60ed1f"
      },
      "source": [
        "a=3\n",
        "print(\"First number before swapping is\",a)\n",
        "b=5\n",
        "print(\"Second number before swapping is\",b)\n",
        "a,b=b,a\n",
        "print(\"Result after swapping of two numbers is :\",a,b)"
      ],
      "execution_count": 45,
      "outputs": [
        {
          "output_type": "stream",
          "text": [
            "First number before swapping is 3\n",
            "Second number before swapping is 5\n",
            "Result after swapping of two numbers is : 5 3\n"
          ],
          "name": "stdout"
        }
      ]
    },
    {
      "cell_type": "markdown",
      "metadata": {
        "id": "2kYB6fUgWlJR",
        "colab_type": "text"
      },
      "source": [
        "Question 5: Write a program to convert fahrenheit to kelvin and celsius both"
      ]
    },
    {
      "cell_type": "code",
      "metadata": {
        "id": "8DuHD1OjWm8H",
        "colab_type": "code",
        "colab": {
          "base_uri": "https://localhost:8080/",
          "height": 68
        },
        "outputId": "9c66885d-4757-45e7-e709-a88b21cce46c"
      },
      "source": [
        "F=40\n",
        "print(\"Temperature given in Fahrenheit is :\",F)\n",
        "K=(F-32)*5/9+273.15\n",
        "print (\"Temperature\",F, \"Fahrenheit converted in to Kelvin is\" ,K)\n",
        "C=(F-32)*5/9\n",
        "print (\"Temperature\",F, \"Fahrenheit converted in to Celsius is\" ,C)"
      ],
      "execution_count": 63,
      "outputs": [
        {
          "output_type": "stream",
          "text": [
            "Temperature given in Fahrenheit is : 40\n",
            "Temperature 40 Fahrenheit converted in to Kelvin is 277.59444444444443\n",
            "Temperature 40 Fahrenheit converted in to Celsius is 4.444444444444445\n"
          ],
          "name": "stdout"
        }
      ]
    },
    {
      "cell_type": "markdown",
      "metadata": {
        "id": "FEhNHXwofI52",
        "colab_type": "text"
      },
      "source": [
        "Question 6: Write a program to demonstrate all the available data types in Python. Hint: Use type() function."
      ]
    },
    {
      "cell_type": "code",
      "metadata": {
        "id": "dzL5_XhDbSis",
        "colab_type": "code",
        "colab": {
          "base_uri": "https://localhost:8080/",
          "height": 34
        },
        "outputId": "d2fcc9be-02e6-4dc0-ee72-ec4106df9b9c"
      },
      "source": [
        "# Program showing Integer data type\n",
        "type(1234)"
      ],
      "execution_count": 72,
      "outputs": [
        {
          "output_type": "execute_result",
          "data": {
            "text/plain": [
              "int"
            ]
          },
          "metadata": {
            "tags": []
          },
          "execution_count": 72
        }
      ]
    },
    {
      "cell_type": "code",
      "metadata": {
        "id": "iLNSVejxeoCo",
        "colab_type": "code",
        "colab": {
          "base_uri": "https://localhost:8080/",
          "height": 34
        },
        "outputId": "b1829c35-8149-439f-852b-98f90c276f5f"
      },
      "source": [
        "# Program showing Float data type\n",
        "type(100.99)"
      ],
      "execution_count": 73,
      "outputs": [
        {
          "output_type": "execute_result",
          "data": {
            "text/plain": [
              "float"
            ]
          },
          "metadata": {
            "tags": []
          },
          "execution_count": 73
        }
      ]
    },
    {
      "cell_type": "code",
      "metadata": {
        "id": "jsw6gt45eqco",
        "colab_type": "code",
        "colab": {
          "base_uri": "https://localhost:8080/",
          "height": 34
        },
        "outputId": "b893ddb6-9dc6-441e-eb4f-95622b88fcb2"
      },
      "source": [
        "# Program showing Complex data type\n",
        "type(2+3j)"
      ],
      "execution_count": 74,
      "outputs": [
        {
          "output_type": "execute_result",
          "data": {
            "text/plain": [
              "complex"
            ]
          },
          "metadata": {
            "tags": []
          },
          "execution_count": 74
        }
      ]
    },
    {
      "cell_type": "code",
      "metadata": {
        "id": "L6w1-4BwesvC",
        "colab_type": "code",
        "colab": {
          "base_uri": "https://localhost:8080/",
          "height": 34
        },
        "outputId": "10d442b5-65f9-43c3-aec9-181fa3dbb8fd"
      },
      "source": [
        "# Program showing String data type\n",
        "type(\"hello\")"
      ],
      "execution_count": 75,
      "outputs": [
        {
          "output_type": "execute_result",
          "data": {
            "text/plain": [
              "str"
            ]
          },
          "metadata": {
            "tags": []
          },
          "execution_count": 75
        }
      ]
    },
    {
      "cell_type": "code",
      "metadata": {
        "id": "tUk6aL6Sexdb",
        "colab_type": "code",
        "colab": {
          "base_uri": "https://localhost:8080/",
          "height": 34
        },
        "outputId": "6ed2cddd-9d1c-4c51-e123-0000628ed236"
      },
      "source": [
        "# Program showing List data type\n",
        "type([1,2,3,4])"
      ],
      "execution_count": 76,
      "outputs": [
        {
          "output_type": "execute_result",
          "data": {
            "text/plain": [
              "list"
            ]
          },
          "metadata": {
            "tags": []
          },
          "execution_count": 76
        }
      ]
    },
    {
      "cell_type": "code",
      "metadata": {
        "id": "BfXILPTHezUV",
        "colab_type": "code",
        "colab": {
          "base_uri": "https://localhost:8080/",
          "height": 34
        },
        "outputId": "41086483-a127-404a-8a59-a6837220ee33"
      },
      "source": [
        "# Program showing Tuple data type\n",
        "type((1,2,3,4))"
      ],
      "execution_count": 77,
      "outputs": [
        {
          "output_type": "execute_result",
          "data": {
            "text/plain": [
              "tuple"
            ]
          },
          "metadata": {
            "tags": []
          },
          "execution_count": 77
        }
      ]
    },
    {
      "cell_type": "code",
      "metadata": {
        "id": "RiLgAm8Se1Lk",
        "colab_type": "code",
        "colab": {
          "base_uri": "https://localhost:8080/",
          "height": 34
        },
        "outputId": "f5e1ae4f-e909-4de9-c4a8-b53cbf105774"
      },
      "source": [
        "# Program showing Dictionary data type\n",
        "type({1:\"one\", 2:\"two\", 3:\"three\"})"
      ],
      "execution_count": 78,
      "outputs": [
        {
          "output_type": "execute_result",
          "data": {
            "text/plain": [
              "dict"
            ]
          },
          "metadata": {
            "tags": []
          },
          "execution_count": 78
        }
      ]
    },
    {
      "cell_type": "markdown",
      "metadata": {
        "id": "RMh-WYoHhDpO",
        "colab_type": "text"
      },
      "source": [
        "Question 7:\n",
        "Create a Markdown cell in jupyter and list the steps discussed in the session by Dr. Darshan Ingle sir to create Github profile and upload Githubs Assignment link."
      ]
    },
    {
      "cell_type": "markdown",
      "metadata": {
        "id": "BrHEot0whz-e",
        "colab_type": "text"
      },
      "source": [
        "**Steps in creating GitHub profile:**\n",
        "1. Go to https://github.com/\n",
        "2. Go to Signup\n",
        "3. Enter your required name 'User name', enter email address, enter the password of your choice\n",
        "4. Now verify your account by entering 'Challenge answer'\n",
        "5. Click on tab \"Create account\". Your GitHub Account is created\n",
        "6. Now again go to https://github.com/\n",
        "7. .Login with your credentials. You will be taken to your profile page.\n",
        "8. Click on the 'New' tab which is next to Repositories section. You will be taken to \"Create a new repository\" section\n",
        "9. Enter the repository name as . Keep repository type as Public.\n",
        "10. Click on button \"Create Repository\"\n",
        "11. Your repository is created now. eg:RAGHUKALLI/upgrade\n",
        "\n",
        "**Steps in uploadng file to GitHub repository:**\n",
        "1. Go to your file on the notebook\n",
        "2. Download the file at desired location as .ipynb file.\n",
        "3. Go to your repository on GitHub\n",
        "4. In the \"Code\" section find \"uploading an existing file\" and click there.\n",
        "5. Click on \"choose your file\", then a new window will be displayed prompting you to upload the file.\n",
        "6. Upload the required python file.\n",
        "7. Once it is uploaded click on \"commit changes\" button \n",
        "8. Your file is successfully uploaded to your repository.\n",
        "\n",
        "**Steps in sharing assignment file with Upgrade:**\n",
        "1. Go to your repository on GitHub\n",
        "2. Find the required file and click on that.\n",
        "3. Now copy the URL.\n",
        "4. Now submit it in LetsUpdate assignment submission Google form link https://bit.ly/aimlassignment\n",
        "\n"
      ]
    }
  ]
}