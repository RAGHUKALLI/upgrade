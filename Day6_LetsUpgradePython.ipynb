{
  "nbformat": 4,
  "nbformat_minor": 0,
  "metadata": {
    "colab": {
      "name": "Day6_LetsUpgradePython.ipynb",
      "provenance": [],
      "collapsed_sections": [],
      "authorship_tag": "ABX9TyOLP16t3oPyddQnGFnneA+W",
      "include_colab_link": true
    },
    "kernelspec": {
      "name": "python3",
      "display_name": "Python 3"
    }
  },
  "cells": [
    {
      "cell_type": "markdown",
      "metadata": {
        "id": "view-in-github",
        "colab_type": "text"
      },
      "source": [
        "<a href=\"https://colab.research.google.com/github/RAGHUKALLI/upgrade/blob/master/Day6_LetsUpgradePython.ipynb\" target=\"_parent\"><img src=\"https://colab.research.google.com/assets/colab-badge.svg\" alt=\"Open In Colab\"/></a>"
      ]
    },
    {
      "cell_type": "markdown",
      "metadata": {
        "id": "v14-GhFR_hI3",
        "colab_type": "text"
      },
      "source": [
        "Question 1 : Convert two lists to a dictionary in one line code using list\n",
        "comprehemsion (without using zip method)\n",
        "list1=[1,2,3,4,5,7,8] list2= [\"a\",\"b\",\"c\",\"d\",\"e\"]\n"
      ]
    },
    {
      "cell_type": "code",
      "metadata": {
        "id": "ERuLw_xLFQSk",
        "colab_type": "code",
        "colab": {
          "base_uri": "https://localhost:8080/",
          "height": 34
        },
        "outputId": "de8d4be6-631d-4848-fac2-d4c756180b25"
      },
      "source": [
        "list1=[1,2,3,4,5,7,8]\n",
        "list2= [\"a\",\"b\",\"c\",\"d\",\"e\",\"f\",\"g\"]\n",
        "print(\"Dictionary:\",{list1[i]: list2[i] for i in range(len(list1))})"
      ],
      "execution_count": 25,
      "outputs": [
        {
          "output_type": "stream",
          "text": [
            "Dictionary: {1: 'a', 2: 'b', 3: 'c', 4: 'd', 5: 'e', 7: 'f', 8: 'g'}\n"
          ],
          "name": "stdout"
        }
      ]
    }
  ]
}