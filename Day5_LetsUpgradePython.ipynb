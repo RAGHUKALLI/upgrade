{
  "nbformat": 4,
  "nbformat_minor": 0,
  "metadata": {
    "colab": {
      "name": "Day5_LetsUpgradePython.ipynb",
      "provenance": [],
      "collapsed_sections": [],
      "authorship_tag": "ABX9TyN1KGcAda6AeCw+zxhwfXNB",
      "include_colab_link": true
    },
    "kernelspec": {
      "name": "python3",
      "display_name": "Python 3"
    }
  },
  "cells": [
    {
      "cell_type": "markdown",
      "metadata": {
        "id": "view-in-github",
        "colab_type": "text"
      },
      "source": [
        "<a href=\"https://colab.research.google.com/github/RAGHUKALLI/upgrade/blob/master/Day5_LetsUpgradePython.ipynb\" target=\"_parent\"><img src=\"https://colab.research.google.com/assets/colab-badge.svg\" alt=\"Open In Colab\"/></a>"
      ]
    },
    {
      "cell_type": "markdown",
      "metadata": {
        "id": "WiDjvkX0ZJNy",
        "colab_type": "text"
      },
      "source": [
        "Question 1 :\n",
        "[0,1,2,10,4,1,0,56,2,0,1,3,0,56,0,4]\n",
        "Sort by increasing order but all zeros should be at the right hand side."
      ]
    },
    {
      "cell_type": "code",
      "metadata": {
        "id": "P0l5gRDJZGlA",
        "colab_type": "code",
        "colab": {
          "base_uri": "https://localhost:8080/",
          "height": 34
        },
        "outputId": "d842ee54-4603-49e7-a518-77756d1d4464"
      },
      "source": [
        "a=[0,1,2,10,4,1,0,56,2,0,1,3,0,56,0,4]\n",
        "\n",
        "b=sorted(a)\n",
        "n=len(b)\n",
        "count=0\n",
        "      \n",
        "for i in range(n):\n",
        "  if b[i] != 0:\n",
        "    b[count] = b[i] \n",
        "    count+=1\n",
        "      \n",
        "while count < n:\n",
        "  b[count] = 0\n",
        "  count+=1\n",
        "\n",
        "print(\"Sorted array with zeros at end is :\",b)\n"
      ],
      "execution_count": 24,
      "outputs": [
        {
          "output_type": "stream",
          "text": [
            "Sorted array with zeros at end is : [1, 1, 1, 2, 2, 3, 4, 4, 10, 56, 56, 0, 0, 0, 0, 0]\n"
          ],
          "name": "stdout"
        }
      ]
    },
    {
      "cell_type": "markdown",
      "metadata": {
        "id": "Cwsv2-hQZoGK",
        "colab_type": "text"
      },
      "source": [
        "Question 2 :\n",
        "list1=[10,20,40,60,70,80] sorted list list2=[5,15,25,35,45,60] sorted list Merge these two sorted lists to produce one sorted list, but use only loop either while or for only one time."
      ]
    },
    {
      "cell_type": "code",
      "metadata": {
        "id": "UEveKxtMf53D",
        "colab_type": "code",
        "colab": {
          "base_uri": "https://localhost:8080/",
          "height": 34
        },
        "outputId": "68bcaf34-f302-45e5-8130-8458578e77a7"
      },
      "source": [
        "list1=[10,20,40,60,70,80]\n",
        "list2=[5,15,25,35,45,60]\n",
        "\n",
        "for i in list1:\n",
        "  list2.append(i)\n",
        "\n",
        "sorted(list2)\n",
        "  "
      ],
      "execution_count": null,
      "outputs": [
        {
          "output_type": "execute_result",
          "data": {
            "text/plain": [
              "[5, 10, 15, 20, 25, 35, 40, 45, 60, 60, 70, 80]"
            ]
          },
          "metadata": {
            "tags": []
          },
          "execution_count": 22
        }
      ]
    }
  ]
}