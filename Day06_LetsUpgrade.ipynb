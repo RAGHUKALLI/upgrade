{
  "nbformat": 4,
  "nbformat_minor": 0,
  "metadata": {
    "colab": {
      "name": "Untitled2.ipynb",
      "provenance": [],
      "collapsed_sections": [],
      "authorship_tag": "ABX9TyPw3HUozNVSf+vKc1kgY311"
    },
    "kernelspec": {
      "name": "python3",
      "display_name": "Python 3"
    }
  },
  "cells": [
    {
      "cell_type": "markdown",
      "metadata": {
        "id": "WRUnJbEZeu7Q",
        "colab_type": "text"
      },
      "source": [
        "Question 1:\n",
        "Assuming that we have some email addresses in the \"username@companyname.com\" format, please write program to print the company name of a given email address. Both user names and company names are composed of letters only. \n",
        "\n",
        "Input Format: The first line of the input contains an email address. \n",
        "\n",
        "Output Format: Print the company name in single line. \n",
        "\n",
        "Example; Input: john@google.com \n",
        "\n",
        "Output: google"
      ]
    },
    {
      "cell_type": "code",
      "metadata": {
        "id": "fha0HuZU_jme",
        "colab_type": "code",
        "colab": {
          "base_uri": "https://localhost:8080/",
          "height": 51
        },
        "outputId": "5416ee80-5660-4322-ec73-16131a504540"
      },
      "source": [
        "a=input(\"Enter the email address: \")\n",
        "\n",
        "g=a.count(\"@\") # counts how many @ are present in the entered email id\n",
        "b=a.find(\"@\") # locate where the first @ exist in the entered email id\n",
        "f=a[b+1:]     # identify the entire text till last character after first @ symbol\n",
        "m=f.count(\".\")  # counts how many 'dots' in the email after first @\n",
        "c=f.find(\".\")     # locate the positon of first 'dot' following first @\n",
        "d=f[:c]       # identify the text between first @ and first 'dot'; it is the COMPANY NAME\n",
        "\n",
        "if g==1 and m<=2: # checks if more than one @ and more than two dots present\n",
        "  if d.isalpha() or d.isdigit(): # checks if the COMPANY NAME has alpha and numeric only\n",
        "    print(\"The company name is : \",d) # print the COMPANY NAME\n",
        "  else:\n",
        "    print(\"The company name: \",d,\" is incorrect\")\n",
        "else:\n",
        "  print(\"The email: \",d,\" is invalid\")"
      ],
      "execution_count": 86,
      "outputs": [
        {
          "output_type": "stream",
          "text": [
            "Enter the email address: john@google.com\n",
            "The company name is :  google\n"
          ],
          "name": "stdout"
        }
      ]
    },
    {
      "cell_type": "markdown",
      "metadata": {
        "id": "LGFYK35ce8pq",
        "colab_type": "text"
      },
      "source": [
        "Question 2:\n",
        "Write a program that accepts a comma-separated sequence of words as input and prints the words in a comma separated sequence after sorting them alphabetically. \n",
        "\n",
        "Input Format: The first line of input contains words separated by the comma.\n",
        "\n",
        "Output Format: Print the sorted words separated by the comma. \n",
        "\n",
        "Example: Input: without,hello,bag,world \n",
        "\n",
        "Output: bag,hello,without,world"
      ]
    },
    {
      "cell_type": "code",
      "metadata": {
        "id": "aMvbWoUgLojH",
        "colab_type": "code",
        "colab": {
          "base_uri": "https://localhost:8080/",
          "height": 51
        },
        "outputId": "290827c0-9a24-46db-a2a8-91cb9875b562"
      },
      "source": [
        "seqnce =input(\"Input words with comma after every word, no space allowed\")\n",
        "seprt = [word for word in seqnce.split(\",\")]\n",
        "c=(\",\".join(sorted(list(set(seprt)))))\n",
        "print(\"The sorted list is: \",c)"
      ],
      "execution_count": 131,
      "outputs": [
        {
          "output_type": "stream",
          "text": [
            "Input words with comma after every word, no space allowedbag,apple,dog,cat,parrot\n",
            "The sorted list is:  apple,bag,cat,dog,parrot\n"
          ],
          "name": "stdout"
        }
      ]
    },
    {
      "cell_type": "markdown",
      "metadata": {
        "id": "gO6Qf1Dui0zR",
        "colab_type": "text"
      },
      "source": [
        "Question 3:\n",
        "Create your own Jupyter Notebook for Sets. Reference link: https://wwww3schools.com/python/python_sets.asp"
      ]
    },
    {
      "cell_type": "markdown",
      "metadata": {
        "id": "UP5KgTBO_Lew",
        "colab_type": "text"
      },
      "source": [
        "Printing the elements of a set"
      ]
    },
    {
      "cell_type": "code",
      "metadata": {
        "id": "NJQ2wNHo8AAT",
        "colab_type": "code",
        "colab": {
          "base_uri": "https://localhost:8080/",
          "height": 102
        },
        "outputId": "01539cf6-4d17-4fb7-fe03-9886b10b0acf"
      },
      "source": [
        "fruitset = {\"mango\",\"apple\",\"guava\",\"pineapple\",\"pomogranate\"}\n",
        "\n",
        "for elem in fruitset:\n",
        "  print(elem)"
      ],
      "execution_count": 87,
      "outputs": [
        {
          "output_type": "stream",
          "text": [
            "apple\n",
            "mango\n",
            "pineapple\n",
            "pomogranate\n",
            "guava\n"
          ],
          "name": "stdout"
        }
      ]
    },
    {
      "cell_type": "markdown",
      "metadata": {
        "id": "RUBISnyW__8Z",
        "colab_type": "text"
      },
      "source": [
        "Finding if \"apple\" present in the set"
      ]
    },
    {
      "cell_type": "code",
      "metadata": {
        "id": "hQ_nDWGGAN8d",
        "colab_type": "code",
        "colab": {
          "base_uri": "https://localhost:8080/",
          "height": 34
        },
        "outputId": "738eac33-ddd1-445b-c9b4-74f938629f67"
      },
      "source": [
        "fruitset = {\"mango\",\"apple\",\"guava\",\"pineapple\",\"pomogranate\"}\n",
        "\n",
        "print(\"apple\" in fruitset)"
      ],
      "execution_count": 89,
      "outputs": [
        {
          "output_type": "stream",
          "text": [
            "True\n"
          ],
          "name": "stdout"
        }
      ]
    },
    {
      "cell_type": "markdown",
      "metadata": {
        "id": "6Yo3X4RyAm2f",
        "colab_type": "text"
      },
      "source": [
        "Add an item to a set, using the add() method:"
      ]
    },
    {
      "cell_type": "code",
      "metadata": {
        "id": "kA5y1L3yAoHr",
        "colab_type": "code",
        "colab": {
          "base_uri": "https://localhost:8080/",
          "height": 34
        },
        "outputId": "1eb2a19f-0a63-476e-f4c1-e2df78e58370"
      },
      "source": [
        "fruitset = {\"mango\",\"apple\",\"guava\",\"pineapple\",\"pomogranate\"}\n",
        "fruitset.add(\"jackfruit\")\n",
        "\n",
        "print(fruitset)"
      ],
      "execution_count": 90,
      "outputs": [
        {
          "output_type": "stream",
          "text": [
            "{'apple', 'mango', 'pineapple', 'jackfruit', 'pomogranate', 'guava'}\n"
          ],
          "name": "stdout"
        }
      ]
    },
    {
      "cell_type": "markdown",
      "metadata": {
        "id": "Lws8GyOrA4gn",
        "colab_type": "text"
      },
      "source": [
        "Add multiple items to a set, using the update() method"
      ]
    },
    {
      "cell_type": "code",
      "metadata": {
        "id": "_CL8QJOIA8iJ",
        "colab_type": "code",
        "colab": {
          "base_uri": "https://localhost:8080/",
          "height": 34
        },
        "outputId": "23da548b-663b-45fc-859d-d712abb52b91"
      },
      "source": [
        "fruitset = {\"mango\",\"apple\",\"guava\",\"pineapple\",\"pomogranate\"}\n",
        "fruitset.update([\"jackfruit\",\"banana\",\"orange\"])\n",
        "\n",
        "print(fruitset)"
      ],
      "execution_count": 98,
      "outputs": [
        {
          "output_type": "stream",
          "text": [
            "{'apple', 'mango', 'banana', 'pineapple', 'orange', 'jackfruit', 'pomogranate', 'guava'}\n"
          ],
          "name": "stdout"
        }
      ]
    },
    {
      "cell_type": "markdown",
      "metadata": {
        "id": "npp0cOfHBVK6",
        "colab_type": "text"
      },
      "source": [
        "Get the number of items in a set:"
      ]
    },
    {
      "cell_type": "code",
      "metadata": {
        "id": "ckDQWd8VBZSx",
        "colab_type": "code",
        "colab": {
          "base_uri": "https://localhost:8080/",
          "height": 34
        },
        "outputId": "e68864be-eb91-4965-bd9a-9c52201493b5"
      },
      "source": [
        "print(len(fruitset))"
      ],
      "execution_count": 93,
      "outputs": [
        {
          "output_type": "stream",
          "text": [
            "8\n"
          ],
          "name": "stdout"
        }
      ]
    },
    {
      "cell_type": "markdown",
      "metadata": {
        "id": "qNDyGJLGBnfZ",
        "colab_type": "text"
      },
      "source": [
        "Remove \"mango\" by using the remove() method:"
      ]
    },
    {
      "cell_type": "code",
      "metadata": {
        "id": "9jfEhvw3BzTD",
        "colab_type": "code",
        "colab": {
          "base_uri": "https://localhost:8080/",
          "height": 34
        },
        "outputId": "34887274-8687-4819-b390-390e0e6000d7"
      },
      "source": [
        "fruitset.remove(\"mango\")\n",
        "print(fruitset)"
      ],
      "execution_count": 94,
      "outputs": [
        {
          "output_type": "stream",
          "text": [
            "{'apple', 'banana', 'pineapple', 'orange', 'jackfruit', 'pomogranate', 'guava'}\n"
          ],
          "name": "stdout"
        }
      ]
    },
    {
      "cell_type": "markdown",
      "metadata": {
        "id": "-8W_IZOkCDW9",
        "colab_type": "text"
      },
      "source": [
        "Remove \"apple\" by using the discard() method:"
      ]
    },
    {
      "cell_type": "code",
      "metadata": {
        "id": "KDZJIhYuCHzY",
        "colab_type": "code",
        "colab": {
          "base_uri": "https://localhost:8080/",
          "height": 34
        },
        "outputId": "d24d485e-34dc-4396-d499-2d7d8981f84f"
      },
      "source": [
        "fruitset.discard(\"apple\")\n",
        "print(fruitset)"
      ],
      "execution_count": 95,
      "outputs": [
        {
          "output_type": "stream",
          "text": [
            "{'banana', 'pineapple', 'orange', 'jackfruit', 'pomogranate', 'guava'}\n"
          ],
          "name": "stdout"
        }
      ]
    },
    {
      "cell_type": "markdown",
      "metadata": {
        "id": "dklGErDvCWXp",
        "colab_type": "text"
      },
      "source": [
        "Remove the last item by using the pop() method: Caution!!: the sets are unordered so you will not know what item that gets removed."
      ]
    },
    {
      "cell_type": "code",
      "metadata": {
        "id": "2QCqx_mACv3O",
        "colab_type": "code",
        "colab": {
          "base_uri": "https://localhost:8080/",
          "height": 51
        },
        "outputId": "dccf172a-b8ce-4f04-a36e-0a8f1a52da7d"
      },
      "source": [
        "x = fruitset.pop()\n",
        "\n",
        "print(x)\n",
        "\n",
        "print(fruitset)"
      ],
      "execution_count": 96,
      "outputs": [
        {
          "output_type": "stream",
          "text": [
            "banana\n",
            "{'pineapple', 'orange', 'jackfruit', 'pomogranate', 'guava'}\n"
          ],
          "name": "stdout"
        }
      ]
    },
    {
      "cell_type": "markdown",
      "metadata": {
        "id": "A6AJw_UaDAe5",
        "colab_type": "text"
      },
      "source": [
        "The clear() method empties the set:"
      ]
    },
    {
      "cell_type": "code",
      "metadata": {
        "id": "PPmT0wcHBrLe",
        "colab_type": "code",
        "colab": {
          "base_uri": "https://localhost:8080/",
          "height": 34
        },
        "outputId": "6333a56f-f0af-4308-c8f3-5fe33b978854"
      },
      "source": [
        "fruitset.clear()\n",
        "print(fruitset)"
      ],
      "execution_count": 97,
      "outputs": [
        {
          "output_type": "stream",
          "text": [
            "set()\n"
          ],
          "name": "stdout"
        }
      ]
    },
    {
      "cell_type": "markdown",
      "metadata": {
        "id": "kijZW0o2Dj1S",
        "colab_type": "text"
      },
      "source": [
        "The del keyword will delete the set completely:"
      ]
    },
    {
      "cell_type": "code",
      "metadata": {
        "id": "UZrHZuADDl2S",
        "colab_type": "code",
        "colab": {}
      },
      "source": [
        "fruitset = {\"mango\",\"apple\",\"guava\",\"pineapple\",\"pomogranate\"}\n"
      ],
      "execution_count": 104,
      "outputs": []
    },
    {
      "cell_type": "code",
      "metadata": {
        "id": "0STzYgz2Ew4J",
        "colab_type": "code",
        "colab": {
          "base_uri": "https://localhost:8080/",
          "height": 197
        },
        "outputId": "e59e3201-6f26-4ab7-d913-dbe98f118a5b"
      },
      "source": [
        "del fruitset\n",
        "print(fruitset)\n",
        "#this will raise an error because the set no longer exists"
      ],
      "execution_count": 105,
      "outputs": [
        {
          "output_type": "error",
          "ename": "NameError",
          "evalue": "ignored",
          "traceback": [
            "\u001b[0;31m---------------------------------------------------------------------------\u001b[0m",
            "\u001b[0;31mNameError\u001b[0m                                 Traceback (most recent call last)",
            "\u001b[0;32m<ipython-input-105-fb51a7ea24bb>\u001b[0m in \u001b[0;36m<module>\u001b[0;34m()\u001b[0m\n\u001b[1;32m      1\u001b[0m \u001b[0;32mdel\u001b[0m \u001b[0mfruitset\u001b[0m\u001b[0;34m\u001b[0m\u001b[0;34m\u001b[0m\u001b[0m\n\u001b[0;32m----> 2\u001b[0;31m \u001b[0mprint\u001b[0m\u001b[0;34m(\u001b[0m\u001b[0mfruitset\u001b[0m\u001b[0;34m)\u001b[0m\u001b[0;34m\u001b[0m\u001b[0;34m\u001b[0m\u001b[0m\n\u001b[0m\u001b[1;32m      3\u001b[0m \u001b[0;31m#this will raise an error because the set no longer exists\u001b[0m\u001b[0;34m\u001b[0m\u001b[0;34m\u001b[0m\u001b[0;34m\u001b[0m\u001b[0m\n",
            "\u001b[0;31mNameError\u001b[0m: name 'fruitset' is not defined"
          ]
        }
      ]
    },
    {
      "cell_type": "markdown",
      "metadata": {
        "id": "FCgXlTULE_Qa",
        "colab_type": "text"
      },
      "source": [
        "The union() method join two sets in to a new set with all items from both sets:"
      ]
    },
    {
      "cell_type": "code",
      "metadata": {
        "id": "hr52OqxaFQ9F",
        "colab_type": "code",
        "colab": {
          "base_uri": "https://localhost:8080/",
          "height": 34
        },
        "outputId": "7fc25288-d3e1-4741-df82-5afe0ee62cac"
      },
      "source": [
        "setA = {\"x\", \"y\" ,\"z\"}\n",
        "setB = {100,200,300}\n",
        "\n",
        "setNew = setA.union(setB)\n",
        "print(setNew)"
      ],
      "execution_count": 107,
      "outputs": [
        {
          "output_type": "stream",
          "text": [
            "{100, 'x', 'z', 300, 'y', 200}\n"
          ],
          "name": "stdout"
        }
      ]
    },
    {
      "cell_type": "markdown",
      "metadata": {
        "id": "GoxkELXrFtfJ",
        "colab_type": "text"
      },
      "source": [
        "The update() method inserts the items from one set another"
      ]
    },
    {
      "cell_type": "code",
      "metadata": {
        "id": "kY2FsH7iF0Sh",
        "colab_type": "code",
        "colab": {
          "base_uri": "https://localhost:8080/",
          "height": 34
        },
        "outputId": "fd3e8c10-4cb9-4fe2-8724-36934ea9aa1d"
      },
      "source": [
        "setA = {\"x\", \"y\" ,\"c\"}\n",
        "setB = {100,200,\"c\"}\n",
        "\n",
        "setA.update(setB)\n",
        "print(setA)"
      ],
      "execution_count": 109,
      "outputs": [
        {
          "output_type": "stream",
          "text": [
            "{100, 'x', 'c', 'y', 200}\n"
          ],
          "name": "stdout"
        }
      ]
    },
    {
      "cell_type": "markdown",
      "metadata": {
        "id": "LWKQtBY5bfSP",
        "colab_type": "text"
      },
      "source": [
        "Copy a set:"
      ]
    },
    {
      "cell_type": "code",
      "metadata": {
        "id": "iC_cmDd_bp1v",
        "colab_type": "code",
        "colab": {
          "base_uri": "https://localhost:8080/",
          "height": 34
        },
        "outputId": "f77d2fb6-ebf1-4860-ae45-7478a9167c62"
      },
      "source": [
        "fruitset = {\"apple\", \"banana\", \"cherry\"}\n",
        "\n",
        "x = fruitset.copy()\n",
        "\n",
        "print(x)"
      ],
      "execution_count": 111,
      "outputs": [
        {
          "output_type": "stream",
          "text": [
            "{'apple', 'cherry', 'banana'}\n"
          ],
          "name": "stdout"
        }
      ]
    },
    {
      "cell_type": "markdown",
      "metadata": {
        "id": "r87oyxiPcGY0",
        "colab_type": "text"
      },
      "source": [
        "Return a set that contains the items that only exist in set x, and not in set y:"
      ]
    },
    {
      "cell_type": "code",
      "metadata": {
        "id": "5B_RLPytcH-q",
        "colab_type": "code",
        "colab": {
          "base_uri": "https://localhost:8080/",
          "height": 34
        },
        "outputId": "760ebb09-eb85-4920-ac50-15493b44d8ca"
      },
      "source": [
        "x = {\"apple\", \"banana\", \"cherry\"}\n",
        "y = {\"guava\", \"mango\", \"apple\"}\n",
        "\n",
        "z = x.difference(y)\n",
        "\n",
        "print(z)"
      ],
      "execution_count": 112,
      "outputs": [
        {
          "output_type": "stream",
          "text": [
            "{'banana', 'cherry'}\n"
          ],
          "name": "stdout"
        }
      ]
    },
    {
      "cell_type": "markdown",
      "metadata": {
        "id": "idtsxIBkdOLN",
        "colab_type": "text"
      },
      "source": [
        "Return a set that contains the items that only exist in set y, and not in set x"
      ]
    },
    {
      "cell_type": "code",
      "metadata": {
        "id": "lzHL6Nt9cXxB",
        "colab_type": "code",
        "colab": {
          "base_uri": "https://localhost:8080/",
          "height": 34
        },
        "outputId": "d8e637f7-b7c6-456b-c427-5e9bc86bc067"
      },
      "source": [
        "x = {\"apple\", \"banana\", \"cherry\"}\n",
        "y = {\"guava\", \"mango\", \"apple\"}\n",
        "\n",
        "w = y.difference(x)\n",
        "\n",
        "print(w)"
      ],
      "execution_count": 113,
      "outputs": [
        {
          "output_type": "stream",
          "text": [
            "{'guava', 'mango'}\n"
          ],
          "name": "stdout"
        }
      ]
    },
    {
      "cell_type": "markdown",
      "metadata": {
        "id": "XPpyjxukdUta",
        "colab_type": "text"
      },
      "source": [
        "Remove the items that exist in both sets:"
      ]
    },
    {
      "cell_type": "code",
      "metadata": {
        "id": "5mJNYwfJdgJn",
        "colab_type": "code",
        "colab": {
          "base_uri": "https://localhost:8080/",
          "height": 34
        },
        "outputId": "cc353484-741b-4d4d-f6cd-c383757762a6"
      },
      "source": [
        "x = {\"apple\", \"banana\", \"cherry\"}\n",
        "y = {\"guava\", \"mango\", \"apple\"}\n",
        "\n",
        "x.difference_update(y)\n",
        "\n",
        "print(x)"
      ],
      "execution_count": 114,
      "outputs": [
        {
          "output_type": "stream",
          "text": [
            "{'cherry', 'banana'}\n"
          ],
          "name": "stdout"
        }
      ]
    },
    {
      "cell_type": "code",
      "metadata": {
        "id": "WHv0Rx4Ed91-",
        "colab_type": "code",
        "colab": {
          "base_uri": "https://localhost:8080/",
          "height": 34
        },
        "outputId": "5389956d-67a1-47e8-8e8e-4a998ebd7a3e"
      },
      "source": [
        "x = {\"apple\", \"banana\", \"cherry\"}\n",
        "y = {\"guava\", \"mango\", \"apple\"}\n",
        "\n",
        "y.difference_update(x)\n",
        "\n",
        "print(y)"
      ],
      "execution_count": 115,
      "outputs": [
        {
          "output_type": "stream",
          "text": [
            "{'guava', 'mango'}\n"
          ],
          "name": "stdout"
        }
      ]
    },
    {
      "cell_type": "markdown",
      "metadata": {
        "id": "n0YlCod-eK6Y",
        "colab_type": "text"
      },
      "source": [
        "Return a set that contains the items that exist in both set x, and set y"
      ]
    },
    {
      "cell_type": "code",
      "metadata": {
        "id": "a6yK1sDveMD1",
        "colab_type": "code",
        "colab": {
          "base_uri": "https://localhost:8080/",
          "height": 34
        },
        "outputId": "473711fe-7a6e-420e-81d5-17eeb911694b"
      },
      "source": [
        "x = {\"apple\", \"banana\", \"cherry\"}\n",
        "y = {\"guava\", \"mango\", \"apple\"}\n",
        "\n",
        "z = x.intersection(y)\n",
        "\n",
        "print(z)"
      ],
      "execution_count": 116,
      "outputs": [
        {
          "output_type": "stream",
          "text": [
            "{'apple'}\n"
          ],
          "name": "stdout"
        }
      ]
    },
    {
      "cell_type": "markdown",
      "metadata": {
        "id": "DV-aoYseeqMu",
        "colab_type": "text"
      },
      "source": [
        "Compare 3 sets, and return a set with items that is present in all 3 sets:"
      ]
    },
    {
      "cell_type": "code",
      "metadata": {
        "id": "UaaAspbIesnA",
        "colab_type": "code",
        "colab": {
          "base_uri": "https://localhost:8080/",
          "height": 34
        },
        "outputId": "d4d26d43-b7da-412c-9c0f-b91c703aa77d"
      },
      "source": [
        "x = {\"a\", \"b\", \"c\"}\n",
        "y = {\"c\", \"d\", \"e\"}\n",
        "z = {\"f\", \"g\", \"c\"}\n",
        "\n",
        "result = x.intersection(y, z)\n",
        "\n",
        "print(result)"
      ],
      "execution_count": 117,
      "outputs": [
        {
          "output_type": "stream",
          "text": [
            "{'c'}\n"
          ],
          "name": "stdout"
        }
      ]
    },
    {
      "cell_type": "markdown",
      "metadata": {
        "id": "5K2nSOp1fHY3",
        "colab_type": "text"
      },
      "source": [
        "Remove the items that is not present in both x, and set y:"
      ]
    },
    {
      "cell_type": "code",
      "metadata": {
        "id": "nqcbibRDfIcp",
        "colab_type": "code",
        "colab": {
          "base_uri": "https://localhost:8080/",
          "height": 34
        },
        "outputId": "69b13c5e-3da7-4cbf-d582-e0dbfe139465"
      },
      "source": [
        "x = {\"apple\", \"banana\", \"cherry\"}\n",
        "y = {\"guava\", \"mango\", \"apple\"}\n",
        "\n",
        "x.intersection_update(y)\n",
        "\n",
        "print(x)"
      ],
      "execution_count": 118,
      "outputs": [
        {
          "output_type": "stream",
          "text": [
            "{'apple'}\n"
          ],
          "name": "stdout"
        }
      ]
    },
    {
      "cell_type": "markdown",
      "metadata": {
        "id": "bBnVUrgQfiLW",
        "colab_type": "text"
      },
      "source": [
        "Return True if no items in set x is present in set y"
      ]
    },
    {
      "cell_type": "code",
      "metadata": {
        "id": "PsNJjF-FfhTm",
        "colab_type": "code",
        "colab": {
          "base_uri": "https://localhost:8080/",
          "height": 34
        },
        "outputId": "45a92e79-8245-458b-c8c2-5a5e20a88aad"
      },
      "source": [
        "x = {\"apple\", \"banana\", \"cherry\"}\n",
        "y = {\"guava\", \"mango\", \"apple\"}\n",
        "\n",
        "z = x.isdisjoint(y)\n",
        "\n",
        "print(z)"
      ],
      "execution_count": 119,
      "outputs": [
        {
          "output_type": "stream",
          "text": [
            "False\n"
          ],
          "name": "stdout"
        }
      ]
    },
    {
      "cell_type": "code",
      "metadata": {
        "id": "nmhQOyKif5Ea",
        "colab_type": "code",
        "colab": {
          "base_uri": "https://localhost:8080/",
          "height": 34
        },
        "outputId": "f7f46a51-d758-4f5f-c0bd-96316c1c7f12"
      },
      "source": [
        "a = {\"apple\", \"banana\", \"cherry\"}\n",
        "b = {\"guava\", \"mango\", \"watermelon\"}\n",
        "\n",
        "c = a.isdisjoint(b)\n",
        "\n",
        "print(c)"
      ],
      "execution_count": 120,
      "outputs": [
        {
          "output_type": "stream",
          "text": [
            "True\n"
          ],
          "name": "stdout"
        }
      ]
    },
    {
      "cell_type": "markdown",
      "metadata": {
        "id": "zjkp0-xfgWVD",
        "colab_type": "text"
      },
      "source": [
        "Return True if all items set x are present in set y"
      ]
    },
    {
      "cell_type": "code",
      "metadata": {
        "id": "kKkH3nJKgXSB",
        "colab_type": "code",
        "colab": {
          "base_uri": "https://localhost:8080/",
          "height": 34
        },
        "outputId": "d9fe31c8-2990-470e-cbb8-5133bf557339"
      },
      "source": [
        "x = {\"a\", \"b\", \"c\"}\n",
        "y = {\"f\", \"e\", \"d\", \"c\", \"b\", \"a\"}\n",
        "\n",
        "z = x.issubset(y)\n",
        "\n",
        "print(z)"
      ],
      "execution_count": 121,
      "outputs": [
        {
          "output_type": "stream",
          "text": [
            "True\n"
          ],
          "name": "stdout"
        }
      ]
    },
    {
      "cell_type": "code",
      "metadata": {
        "id": "r_pXblaugiMn",
        "colab_type": "code",
        "colab": {
          "base_uri": "https://localhost:8080/",
          "height": 34
        },
        "outputId": "5373be2e-2121-4cb3-d26e-a0d7310be4f4"
      },
      "source": [
        "x = {\"a\", \"b\", \"c\"}\n",
        "y = {\"f\", \"e\", \"d\", \"c\", \"b\"}\n",
        "\n",
        "z = x.issubset(y)\n",
        "\n",
        "print(z)"
      ],
      "execution_count": 122,
      "outputs": [
        {
          "output_type": "stream",
          "text": [
            "False\n"
          ],
          "name": "stdout"
        }
      ]
    },
    {
      "cell_type": "markdown",
      "metadata": {
        "id": "P8YVSbMVfUY9",
        "colab_type": "text"
      },
      "source": [
        "Return True if all items set y are present in set x:"
      ]
    },
    {
      "cell_type": "code",
      "metadata": {
        "id": "Ww8Z02Z4gsj8",
        "colab_type": "code",
        "colab": {
          "base_uri": "https://localhost:8080/",
          "height": 34
        },
        "outputId": "54436f4b-b745-42eb-fc13-42210053b8bc"
      },
      "source": [
        "x = {\"f\", \"e\", \"d\", \"c\", \"b\", \"a\"}\n",
        "y = {\"a\", \"b\", \"c\"}\n",
        "\n",
        "z = x.issuperset(y)\n",
        "\n",
        "print(z)"
      ],
      "execution_count": 123,
      "outputs": [
        {
          "output_type": "stream",
          "text": [
            "True\n"
          ],
          "name": "stdout"
        }
      ]
    },
    {
      "cell_type": "code",
      "metadata": {
        "id": "HeDQDBvwg408",
        "colab_type": "code",
        "colab": {
          "base_uri": "https://localhost:8080/",
          "height": 34
        },
        "outputId": "070bed8c-5494-4060-9d3b-0edbcdf91a4b"
      },
      "source": [
        "x = {\"f\", \"e\", \"d\", \"c\", \"b\"}\n",
        "y = {\"a\", \"b\", \"c\"}\n",
        "\n",
        "z = x.issuperset(y)\n",
        "\n",
        "print(z)"
      ],
      "execution_count": 124,
      "outputs": [
        {
          "output_type": "stream",
          "text": [
            "False\n"
          ],
          "name": "stdout"
        }
      ]
    },
    {
      "cell_type": "markdown",
      "metadata": {
        "id": "inSFEo3be6PF",
        "colab_type": "text"
      },
      "source": [
        "Return a set that contains all items from both sets, except items that are present in both sets:"
      ]
    },
    {
      "cell_type": "code",
      "metadata": {
        "id": "ajM-5kiuhF4r",
        "colab_type": "code",
        "colab": {
          "base_uri": "https://localhost:8080/",
          "height": 34
        },
        "outputId": "6286fb75-ff28-4428-856d-62fa838fad85"
      },
      "source": [
        "x = {\"apple\", \"banana\", \"cherry\"}\n",
        "y = {\"google\", \"microsoft\", \"apple\"}\n",
        "\n",
        "z = x.symmetric_difference(y)\n",
        "\n",
        "print(z)"
      ],
      "execution_count": 127,
      "outputs": [
        {
          "output_type": "stream",
          "text": [
            "{'banana', 'cherry', 'microsoft', 'google'}\n"
          ],
          "name": "stdout"
        }
      ]
    },
    {
      "cell_type": "markdown",
      "metadata": {
        "id": "rlcTi11di8Ul",
        "colab_type": "text"
      },
      "source": [
        "Question 4: Given a list of n-1 numbers ranging from 1 to n, your task is to find the missing number. There are no duplicates. \n",
        "\n",
        "Input Format: \n",
        "\n",
        "The first line contains n-1 numbers with each number separated by a space. \n",
        "\n",
        "Output Format: Print the missing number \n",
        "\n",
        "Example: Input:1 2 4 6 3 7 8 \n",
        "\n",
        "Output:5 \n",
        "\n",
        "Explanation: In the above list of numbers 5 is missing and hence 5 is the input"
      ]
    },
    {
      "cell_type": "code",
      "metadata": {
        "id": "JqEp3Ok2gIoU",
        "colab_type": "code",
        "colab": {
          "base_uri": "https://localhost:8080/",
          "height": 51
        },
        "outputId": "4467dffe-7709-4b70-b0ed-d6c5f9f2ddd5"
      },
      "source": [
        "# User entering the values one by one separated with white space\n",
        "inputString = input(\"Enter a list elements separated by space \")\n",
        "\n",
        "# Converting user entered values in to integers list\n",
        "userList = inputString.split()\n",
        "\n",
        "intList = [ ]\n",
        "for elem in userList:\n",
        "    intList.append(int(elem))\n",
        "\n",
        "# Forming sorted list from integers list\n",
        "sortedInputValues=sorted(intList)\n",
        "\n",
        "# Finding min and max values of the sorted list\n",
        "maxOfsortedInputValues=max(sortedInputValues)\n",
        "minOfsortedInputValues=min(sortedInputValues)\n",
        "\n",
        "# Forming another range list contaiing all values starting from min value and ending at max value\n",
        "rangeList=[ ]\n",
        "for rangeValue in range(minOfsortedInputValues,maxOfsortedInputValues):\n",
        "  rangeList.append(rangeValue)\n",
        "\n",
        "# Comparing user values with range list of all values , then finding missing number\n",
        "uncommon=set(rangeList).difference(sortedInputValues)\n",
        "missNumber=list(uncommon)\n",
        "print(\"The missing numbers are: \",*missNumber)"
      ],
      "execution_count": 132,
      "outputs": [
        {
          "output_type": "stream",
          "text": [
            "Enter a list elements separated by space 12 13 14 16 18\n",
            "The missing numbers are:  17 15\n"
          ],
          "name": "stdout"
        }
      ]
    },
    {
      "cell_type": "markdown",
      "metadata": {
        "id": "RhjYvza3jRQt",
        "colab_type": "text"
      },
      "source": [
        "Question 5: With a given list L, write a program to print this list L after removing all duplicate values with original order reserved. \n",
        "\n",
        "Example: If the input list is 12 24 35 24 88 120 155 88 120 155 \n",
        "\n",
        "Then the output should be 12 24 35 88 120 155 \n",
        "\n",
        "Explanation: \n",
        "\n",
        "Third, seventh and ninth element of the list L has been removed because it was already present. \n",
        "\n",
        "Input Format: In one line take the elements of the list L with each element separated by a space. \n",
        "\n",
        "Output Format: Print the elements of the modified list in one line with each element separated by a space. \n",
        "\n",
        "Example: \n",
        "\n",
        "Input: 12 24 35 24 \n",
        "\n",
        "Output: 12 24 35 .\n"
      ]
    },
    {
      "cell_type": "code",
      "metadata": {
        "id": "guRKB0dQ4pSA",
        "colab_type": "code",
        "colab": {
          "base_uri": "https://localhost:8080/",
          "height": 51
        },
        "outputId": "d571bc53-2b44-47e1-c9cf-421a242e6f89"
      },
      "source": [
        "# User entering the values one by one separated with white space\n",
        "inputString = input(\"Enter a list elements separated by space \")\n",
        "\n",
        "# Converting user entered string values in to list\n",
        "userList = inputString.split()\n",
        "\n",
        "uniqueList = [ ] \t\n",
        "# traversing for all elements of list\n",
        "for elem in userList: \n",
        "# check if value x exists in uniqueList or not \n",
        "    if elem not in uniqueList: \n",
        "      uniqueList.append(elem)\n",
        "print(\"The modified list with unique values is: \" ,*uniqueList)"
      ],
      "execution_count": 130,
      "outputs": [
        {
          "output_type": "stream",
          "text": [
            "Enter a list elements separated by space 2 4 6 8 8 10\n",
            "The modified list with unique values is:  2 4 6 8 10\n"
          ],
          "name": "stdout"
        }
      ]
    }
  ]
}