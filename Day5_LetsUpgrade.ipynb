{
  "nbformat": 4,
  "nbformat_minor": 0,
  "metadata": {
    "colab": {
      "name": "Day5-LetsUpgrade.ipynb",
      "provenance": [],
      "collapsed_sections": []
    },
    "kernelspec": {
      "name": "python3",
      "display_name": "Python 3"
    }
  },
  "cells": [
    {
      "cell_type": "markdown",
      "metadata": {
        "id": "5IljXlSnMep9",
        "colab_type": "text"
      },
      "source": [
        "Question 1 : Write a Python program to find the first 20 non-even prime natural numbers."
      ]
    },
    {
      "cell_type": "code",
      "metadata": {
        "id": "oShGb7Uyr3f-",
        "colab_type": "code",
        "colab": {
          "base_uri": "https://localhost:8080/",
          "height": 34
        },
        "outputId": "ce8d43dd-702e-4fdf-f17c-54b2900174f9"
      },
      "source": [
        "Number = 1\n",
        "\n",
        "while(Number <= 20):\n",
        "    count = 0\n",
        "    i = 2\n",
        "    \n",
        "    while(i <= Number//2):\n",
        "        if(Number % i == 0):\n",
        "            count = count + 1\n",
        "            break\n",
        "        i = i + 1\n",
        "\n",
        "    if (count == 0 and Number != 1 and Number!=2):\n",
        "        print(\" %d\" %Number, end = '  ')\n",
        "    Number = Number  + 1"
      ],
      "execution_count": null,
      "outputs": [
        {
          "output_type": "stream",
          "text": [
            " 3   5   7   11   13   17   19  "
          ],
          "name": "stdout"
        }
      ]
    },
    {
      "cell_type": "markdown",
      "metadata": {
        "id": "k3Y0fhaaFIUC",
        "colab_type": "text"
      },
      "source": [
        "Question 2 : Write a Python program to implement 15 functions of string."
      ]
    },
    {
      "cell_type": "code",
      "metadata": {
        "id": "dcdQpDzuk3M9",
        "colab_type": "code",
        "colab": {}
      },
      "source": [
        "txt=\"this is a text\"\n",
        "txt1=\"This a another text\"\n",
        "txt2=\"text\"\n",
        "txt3=\"This-is-different-text\""
      ],
      "execution_count": null,
      "outputs": []
    },
    {
      "cell_type": "code",
      "metadata": {
        "id": "jM5O9h6TlUGW",
        "colab_type": "code",
        "colab": {
          "base_uri": "https://localhost:8080/",
          "height": 35
        },
        "outputId": "74764ac5-b25d-4a66-ba5e-a62ce0946e0e"
      },
      "source": [
        "#1.Conversion of the first character to upper case\n",
        "txt.capitalize()"
      ],
      "execution_count": null,
      "outputs": [
        {
          "output_type": "execute_result",
          "data": {
            "application/vnd.google.colaboratory.intrinsic": {
              "type": "string"
            },
            "text/plain": [
              "'This is a text'"
            ]
          },
          "metadata": {
            "tags": []
          },
          "execution_count": 23
        }
      ]
    },
    {
      "cell_type": "code",
      "metadata": {
        "id": "6h7WMAb3l0vo",
        "colab_type": "code",
        "colab": {
          "base_uri": "https://localhost:8080/",
          "height": 35
        },
        "outputId": "78aeb7c7-21cd-4918-e490-56bfbd207983"
      },
      "source": [
        "#2.Converion of string into lower case \n",
        "txt1.casefold()"
      ],
      "execution_count": null,
      "outputs": [
        {
          "output_type": "execute_result",
          "data": {
            "application/vnd.google.colaboratory.intrinsic": {
              "type": "string"
            },
            "text/plain": [
              "'this a another text'"
            ]
          },
          "metadata": {
            "tags": []
          },
          "execution_count": 28
        }
      ]
    },
    {
      "cell_type": "code",
      "metadata": {
        "id": "9W-BH5aHmfJH",
        "colab_type": "code",
        "colab": {
          "base_uri": "https://localhost:8080/",
          "height": 34
        },
        "outputId": "5495772c-8d1e-4341-8682-2021b2d135b0"
      },
      "source": [
        "#3.Returns the number of times a specified value occurs in a string\n",
        "txt.count(\"s\")"
      ],
      "execution_count": null,
      "outputs": [
        {
          "output_type": "execute_result",
          "data": {
            "text/plain": [
              "2"
            ]
          },
          "metadata": {
            "tags": []
          },
          "execution_count": 29
        }
      ]
    },
    {
      "cell_type": "code",
      "metadata": {
        "id": "9HYlJw5AnKqA",
        "colab_type": "code",
        "colab": {
          "base_uri": "https://localhost:8080/",
          "height": 34
        },
        "outputId": "b9a5511b-1f02-4a20-b665-207dc389c668"
      },
      "source": [
        "#4.Returns true if the string ends with the specified value\n",
        "txt.endswith(\"t\")"
      ],
      "execution_count": null,
      "outputs": [
        {
          "output_type": "execute_result",
          "data": {
            "text/plain": [
              "True"
            ]
          },
          "metadata": {
            "tags": []
          },
          "execution_count": 31
        }
      ]
    },
    {
      "cell_type": "code",
      "metadata": {
        "id": "fdwmGMQknwbx",
        "colab_type": "code",
        "colab": {
          "base_uri": "https://localhost:8080/",
          "height": 34
        },
        "outputId": "4cfa6aa8-a051-4218-d0dc-965dd5c2ad9d"
      },
      "source": [
        "#5.Searches the string for a specified value and returns the position of where it was found. it returns -1 if the value is not found\n",
        "txt.find(\"z\")"
      ],
      "execution_count": null,
      "outputs": [
        {
          "output_type": "execute_result",
          "data": {
            "text/plain": [
              "-1"
            ]
          },
          "metadata": {
            "tags": []
          },
          "execution_count": 41
        }
      ]
    },
    {
      "cell_type": "code",
      "metadata": {
        "id": "xIp1aFcgo8Ah",
        "colab_type": "code",
        "colab": {
          "base_uri": "https://localhost:8080/",
          "height": 34
        },
        "outputId": "dc1f90e9-431f-4325-b6c3-331e18924ad1"
      },
      "source": [
        "#6.Searches the string for a specified value and returns the position of where it was found\n",
        "txt.index(\"text\")"
      ],
      "execution_count": null,
      "outputs": [
        {
          "output_type": "execute_result",
          "data": {
            "text/plain": [
              "10"
            ]
          },
          "metadata": {
            "tags": []
          },
          "execution_count": 40
        }
      ]
    },
    {
      "cell_type": "code",
      "metadata": {
        "id": "icS2Piappszx",
        "colab_type": "code",
        "colab": {
          "base_uri": "https://localhost:8080/",
          "height": 34
        },
        "outputId": "7ba388e1-1b3d-4caf-e485-207d2a0517cd"
      },
      "source": [
        "#7.To check if all the characters in the text are alphanumeric\n",
        "txt.isalnum()"
      ],
      "execution_count": null,
      "outputs": [
        {
          "output_type": "execute_result",
          "data": {
            "text/plain": [
              "False"
            ]
          },
          "metadata": {
            "tags": []
          },
          "execution_count": 42
        }
      ]
    },
    {
      "cell_type": "code",
      "metadata": {
        "id": "KMHNfWJVp7A1",
        "colab_type": "code",
        "colab": {
          "base_uri": "https://localhost:8080/",
          "height": 34
        },
        "outputId": "194081fd-c834-49c4-9bd3-715c5fa74b50"
      },
      "source": [
        "#8.To check if all characters in the string are in the alphabet\n",
        "txt2.isalpha()"
      ],
      "execution_count": null,
      "outputs": [
        {
          "output_type": "execute_result",
          "data": {
            "text/plain": [
              "True"
            ]
          },
          "metadata": {
            "tags": []
          },
          "execution_count": 46
        }
      ]
    },
    {
      "cell_type": "code",
      "metadata": {
        "id": "-VyL7COMqmdi",
        "colab_type": "code",
        "colab": {
          "base_uri": "https://localhost:8080/",
          "height": 34
        },
        "outputId": "cbfdf326-3c2b-48c0-fc2b-80e61ef3f381"
      },
      "source": [
        "#9.To return True if all characters in the string are lower case\n",
        "txt.islower()"
      ],
      "execution_count": null,
      "outputs": [
        {
          "output_type": "execute_result",
          "data": {
            "text/plain": [
              "True"
            ]
          },
          "metadata": {
            "tags": []
          },
          "execution_count": 47
        }
      ]
    },
    {
      "cell_type": "code",
      "metadata": {
        "id": "uLHEBx7rq-X-",
        "colab_type": "code",
        "colab": {
          "base_uri": "https://localhost:8080/",
          "height": 34
        },
        "outputId": "1971ab56-42d7-41cc-ba70-c93c9fc208e3"
      },
      "source": [
        "#10. To return True if all characters in the string are upper case\n",
        "txt1.isupper()"
      ],
      "execution_count": null,
      "outputs": [
        {
          "output_type": "execute_result",
          "data": {
            "text/plain": [
              "False"
            ]
          },
          "metadata": {
            "tags": []
          },
          "execution_count": 50
        }
      ]
    },
    {
      "cell_type": "code",
      "metadata": {
        "id": "8DMqMhmgrPxL",
        "colab_type": "code",
        "colab": {
          "base_uri": "https://localhost:8080/",
          "height": 35
        },
        "outputId": "528bce04-4e5e-400e-b1f3-f30e0b8644c2"
      },
      "source": [
        "#11.Converion of a string into lower case\n",
        "txt1.lower()"
      ],
      "execution_count": null,
      "outputs": [
        {
          "output_type": "execute_result",
          "data": {
            "application/vnd.google.colaboratory.intrinsic": {
              "type": "string"
            },
            "text/plain": [
              "'this a another text'"
            ]
          },
          "metadata": {
            "tags": []
          },
          "execution_count": 54
        }
      ]
    },
    {
      "cell_type": "code",
      "metadata": {
        "id": "XF7vJ1e_rmtN",
        "colab_type": "code",
        "colab": {
          "base_uri": "https://localhost:8080/",
          "height": 35
        },
        "outputId": "fc86091e-43c9-4014-cf65-a0db32df71e0"
      },
      "source": [
        "#12. Conversion of a string into upper case\n",
        "txt.upper()"
      ],
      "execution_count": null,
      "outputs": [
        {
          "output_type": "execute_result",
          "data": {
            "application/vnd.google.colaboratory.intrinsic": {
              "type": "string"
            },
            "text/plain": [
              "'THIS IS A TEXT'"
            ]
          },
          "metadata": {
            "tags": []
          },
          "execution_count": 55
        }
      ]
    },
    {
      "cell_type": "code",
      "metadata": {
        "id": "Mmy-v3YUr2lD",
        "colab_type": "code",
        "colab": {
          "base_uri": "https://localhost:8080/",
          "height": 35
        },
        "outputId": "34acd8ce-987a-42bc-bec9-c77ddcfc1ee5"
      },
      "source": [
        "#13.Conversion of the first character of each word to upper case\n",
        "txt.title()"
      ],
      "execution_count": null,
      "outputs": [
        {
          "output_type": "execute_result",
          "data": {
            "application/vnd.google.colaboratory.intrinsic": {
              "type": "string"
            },
            "text/plain": [
              "'This Is A Text'"
            ]
          },
          "metadata": {
            "tags": []
          },
          "execution_count": 56
        }
      ]
    },
    {
      "cell_type": "code",
      "metadata": {
        "id": "QNA8rJFHsBiJ",
        "colab_type": "code",
        "colab": {
          "base_uri": "https://localhost:8080/",
          "height": 35
        },
        "outputId": "dd2e2265-47ad-4225-afbb-7ed119447098"
      },
      "source": [
        "# 14.Swapping the cases, lower case becomes upper case and vice versa\n",
        "txt.swapcase()"
      ],
      "execution_count": null,
      "outputs": [
        {
          "output_type": "execute_result",
          "data": {
            "application/vnd.google.colaboratory.intrinsic": {
              "type": "string"
            },
            "text/plain": [
              "'THIS IS A TEXT'"
            ]
          },
          "metadata": {
            "tags": []
          },
          "execution_count": 58
        }
      ]
    },
    {
      "cell_type": "code",
      "metadata": {
        "id": "fpp-2sQNsUDZ",
        "colab_type": "code",
        "colab": {
          "base_uri": "https://localhost:8080/",
          "height": 35
        },
        "outputId": "b7cbf19c-cbe0-42be-b886-49d014349866"
      },
      "source": [
        "#15.\tTo return a string where a specified value is replaced with a specified value\n",
        "txt1.replace(\"another\",\"not\")"
      ],
      "execution_count": null,
      "outputs": [
        {
          "output_type": "execute_result",
          "data": {
            "application/vnd.google.colaboratory.intrinsic": {
              "type": "string"
            },
            "text/plain": [
              "'This a not text'"
            ]
          },
          "metadata": {
            "tags": []
          },
          "execution_count": 67
        }
      ]
    },
    {
      "cell_type": "code",
      "metadata": {
        "id": "Ryp4P422tTHi",
        "colab_type": "code",
        "colab": {
          "base_uri": "https://localhost:8080/",
          "height": 34
        },
        "outputId": "233b9f9e-155b-465b-8f18-af14b409e2ea"
      },
      "source": [
        "#16.To split the string at the specified separator, and returns a list\n",
        "txt.split()"
      ],
      "execution_count": null,
      "outputs": [
        {
          "output_type": "execute_result",
          "data": {
            "text/plain": [
              "['this', 'is', 'a', 'text']"
            ]
          },
          "metadata": {
            "tags": []
          },
          "execution_count": 68
        }
      ]
    },
    {
      "cell_type": "code",
      "metadata": {
        "id": "XZJn8EDytxRT",
        "colab_type": "code",
        "colab": {
          "base_uri": "https://localhost:8080/",
          "height": 34
        },
        "outputId": "b7bdaaf9-b052-4f6d-80da-f6661cbc2858"
      },
      "source": [
        "#17.To return a trimmed version of the string\n",
        "txt3.split(\"-\")"
      ],
      "execution_count": null,
      "outputs": [
        {
          "output_type": "execute_result",
          "data": {
            "text/plain": [
              "['This', 'is', 'different', 'text']"
            ]
          },
          "metadata": {
            "tags": []
          },
          "execution_count": 76
        }
      ]
    },
    {
      "cell_type": "markdown",
      "metadata": {
        "id": "3TMCQ8vjFMdp",
        "colab_type": "text"
      },
      "source": [
        "Question 3:Write a Python program to check if the given string is a Palindrome or Anagram or None of them. Display the message accordingly to the user."
      ]
    },
    {
      "cell_type": "code",
      "metadata": {
        "id": "ZeB03_bs8m3G",
        "colab_type": "code",
        "colab": {
          "base_uri": "https://localhost:8080/",
          "height": 119
        },
        "outputId": "07a496f1-c722-48d1-fb2f-cd1ed1a8a0bb"
      },
      "source": [
        "# function to check if two strings are Anagram and Palindrome\n",
        "\n",
        "a=input(\"Please enter first string: \")\n",
        "b=input(\"Please enter second string: \")\n",
        "\n",
        "print(\"The result is as below\")\n",
        "def anagram(s1, s2): \t\n",
        "\t\n",
        "\tif(sorted(s1)== sorted(s2)): \n",
        "\t\tprint(\"The strings are anagrams.\") \n",
        "\telse: \n",
        "\t\tprint(\"The strings aren't anagrams.\")\t\t \n",
        "\t\t\n",
        "s1 =a\n",
        "s2 =b\n",
        "anagram(s1, s2) \n",
        "\n",
        "def palindrome(s3,s4):\n",
        "  \n",
        "  if(s3==s3[::-1]):\n",
        "    print(\"The string\", a, \" is a palindrome\")\n",
        "  else:\n",
        "    print(\"The string\", a, \" is not a palindrome\")\n",
        "  \n",
        "  if(s4==s4[::-1]):\n",
        "    print(\"The string\", b,\" is a palindrome\")\n",
        "  else:\n",
        "    print(\"The string\", b, \" is not a palindrome\")\n",
        "\n",
        "s3=a\n",
        "s4=b\n",
        "palindrome(s3,s4)\n"
      ],
      "execution_count": null,
      "outputs": [
        {
          "output_type": "stream",
          "text": [
            "Please enter first string: gadag\n",
            "Please enter second string: aagdg\n",
            "The result is as below\n",
            "The strings are anagrams.\n",
            "The string gadag  is a palindrome\n",
            "The string aagdg  is not a palindrome\n"
          ],
          "name": "stdout"
        }
      ]
    },
    {
      "cell_type": "markdown",
      "metadata": {
        "id": "H8fuMg3K_10g",
        "colab_type": "text"
      },
      "source": [
        "Question 4: Write a Python's user defined function that removes all the additional characters from the string and converts it finally to lower case using built-in lower(). eg: If the string is \"Dr. Darshan Ingle @AI-ML Trainer\", then the output be \"drdarshaningleaimltrainer\"."
      ]
    },
    {
      "cell_type": "code",
      "metadata": {
        "id": "kxbPjCMHE9gt",
        "colab_type": "code",
        "colab": {
          "base_uri": "https://localhost:8080/",
          "height": 51
        },
        "outputId": "5127ee4b-8578-4e68-bf6a-7fe486b5d035"
      },
      "source": [
        "b=input(\"Enter the string : \")\n",
        "\n",
        "def text(c):\n",
        "  for i in c:\n",
        "    if i.isalpha()==True:\n",
        "      print(i.lower(),end=\"\")\n",
        "\n",
        "c=b\n",
        "text(b)"
      ],
      "execution_count": null,
      "outputs": [
        {
          "output_type": "stream",
          "text": [
            "Enter the string : Dr. Darshan Ingle @AI-ML Trainer\n",
            "drdarshaningleaimltrainer"
          ],
          "name": "stdout"
        }
      ]
    }
  ]
}