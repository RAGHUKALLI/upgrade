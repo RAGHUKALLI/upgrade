{
  "nbformat": 4,
  "nbformat_minor": 0,
  "metadata": {
    "colab": {
      "name": "Day7_PythonLetsUpgrade.ipynb",
      "provenance": [],
      "collapsed_sections": [],
      "authorship_tag": "ABX9TyNyn9t3goptJvcTtwiCjdz8"
    },
    "kernelspec": {
      "name": "python3",
      "display_name": "Python 3"
    }
  },
  "cells": [
    {
      "cell_type": "markdown",
      "metadata": {
        "id": "9GUpgIF5zMmQ",
        "colab_type": "text"
      },
      "source": [
        "Question 1 :\n",
        "Use the dictionary,\n",
        " port1 = {21: \"FTP\", 22:\"SSH\", 23: \"telnet\", 80: \"http\"},\n",
        "and make a new dictionary in which keys become values and values become keys,\n",
        " as shown: Port2 = {“FTP\":21, \"SSH\":22, “telnet\":23,\"http\": 80}\n"
      ]
    },
    {
      "cell_type": "code",
      "metadata": {
        "id": "thLdq2ss1chc",
        "colab_type": "code",
        "colab": {
          "base_uri": "https://localhost:8080/",
          "height": 170
        },
        "outputId": "b9c21e84-5218-4eca-8588-f92086bad738"
      },
      "source": [
        "port1 = {21: \"FTP\", 22:\"SSH\", 23: \"telnet\", 80: \"http\"} \n",
        "\n",
        "port2 = dict([(value, key) for key, value in port1.items()]) \n",
        "\t\n",
        "print (\"Original Dictionary:\",port1) \n",
        "\n",
        "print (\"\\nNew Dictionary after swapping: \\n\") \n",
        "print(\"keys: values\") \n",
        "for i in port2:\n",
        "  print(i, \" : \", port2[i])"
      ],
      "execution_count": null,
      "outputs": [
        {
          "output_type": "stream",
          "text": [
            "Original Dictionary: {21: 'FTP', 22: 'SSH', 23: 'telnet', 80: 'http'}\n",
            "\n",
            "New Dictionary after swapping: \n",
            "\n",
            "keys: values\n",
            "FTP  :  21\n",
            "SSH  :  22\n",
            "telnet  :  23\n",
            "http  :  80\n"
          ],
          "name": "stdout"
        }
      ]
    },
    {
      "cell_type": "markdown",
      "metadata": {
        "id": "pAQK9p0jzVf3",
        "colab_type": "text"
      },
      "source": [
        "Question 2:\n",
        "Take a list of tuple as shown below.\n",
        "[(1,2), (3,4), (5,6),(4,5)]\n",
        "Make a new list which contains the sum of the number of tuples.\n",
        "For example\n",
        "Input\n",
        "[(1,2), (3,4), (5,6)]\n",
        "Output\n",
        "[3, 7, 11]\n"
      ]
    },
    {
      "cell_type": "code",
      "metadata": {
        "id": "Y-SynxWWhDkg",
        "colab_type": "code",
        "colab": {
          "base_uri": "https://localhost:8080/",
          "height": 51
        },
        "outputId": "9107c941-9307-4af8-915b-da5c75b5f046"
      },
      "source": [
        "a = [(1,2), (3,4), (5,6)]\n",
        "print(\"Given list of tuple is:\",a)\n",
        "sumn = [sum(b) for b in a]\n",
        "print(\"New list of sum of number of tuples is:\",sumn)"
      ],
      "execution_count": null,
      "outputs": [
        {
          "output_type": "stream",
          "text": [
            "Given list of tuple is: [(1, 2), (3, 4), (5, 6)]\n",
            "New list of sum of number of tuples is: [3, 7, 11]\n"
          ],
          "name": "stdout"
        }
      ]
    },
    {
      "cell_type": "markdown",
      "metadata": {
        "id": "8aubLLa9zXz0",
        "colab_type": "text"
      },
      "source": [
        "Question 3:\n",
        "Take a list as shown below\n",
        "[(1,2,3), [1,2], ['a','hit','less']]\n",
        "The List contains tuple and lists. Make the elements of inner lists and tuples to outer list"
      ]
    },
    {
      "cell_type": "code",
      "metadata": {
        "id": "nJ2hP1euOPPV",
        "colab_type": "code",
        "colab": {
          "base_uri": "https://localhost:8080/",
          "height": 51
        },
        "outputId": "f0c145fa-2d64-4d60-bd74-b2262f0e67ab"
      },
      "source": [
        "givenList=[(1,2,3), [1,2], ['a','hit','less']] \n",
        "\n",
        "newList=[] \n",
        "\n",
        "def convNesting(givenList):\n",
        "  for i in givenList:\n",
        "    if type(i) == list or type(i)==tuple:\n",
        "      convNesting(i)\n",
        "    else:\n",
        "      newList.append(i)\n",
        "\n",
        "print ('The given list: ',givenList) \n",
        "convNesting(givenList) \n",
        "print ('New list after removing nesting: ',newList) \n"
      ],
      "execution_count": 14,
      "outputs": [
        {
          "output_type": "stream",
          "text": [
            "The given list:  [(1, 2, 3), [1, 2], ['a', 'hit', 'less']]\n",
            "New list after removing nesting:  [1, 2, 3, 1, 2, 'a', 'hit', 'less']\n"
          ],
          "name": "stdout"
        }
      ]
    }
  ]
}