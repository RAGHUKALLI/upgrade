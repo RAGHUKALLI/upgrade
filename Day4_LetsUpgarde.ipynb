{
  "nbformat": 4,
  "nbformat_minor": 0,
  "metadata": {
    "colab": {
      "name": "Day4-LetsUpgarde.ipynb",
      "provenance": [],
      "collapsed_sections": []
    },
    "kernelspec": {
      "name": "python3",
      "display_name": "Python 3"
    }
  },
  "cells": [
    {
      "cell_type": "markdown",
      "metadata": {
        "id": "BOCB_GIl9p8j",
        "colab_type": "text"
      },
      "source": [
        "Question 1 : Research on whether addition, subtraction, multiplication, division, floor division and modulo operations be performed on complex numbers. Based on your study, implement a Python program to demonstrate these operations.\n"
      ]
    },
    {
      "cell_type": "markdown",
      "metadata": {
        "id": "sPaPrZTeCDqo",
        "colab_type": "text"
      },
      "source": [
        "**Complex numbers:**\n",
        "A complex number is represented by a real number and an imaginary number with a addition operand in the form x+yj ."
      ]
    },
    {
      "cell_type": "code",
      "metadata": {
        "id": "bE1fgEnE9uoy",
        "colab_type": "code",
        "colab": {}
      },
      "source": [
        "#first complex number\n",
        "a = 2 + 7j\n",
        "\n",
        "#Second complex number\n",
        "b = 3 + 5j\n"
      ],
      "execution_count": null,
      "outputs": []
    },
    {
      "cell_type": "code",
      "metadata": {
        "id": "fYNFiaHh_qTJ",
        "colab_type": "code",
        "colab": {
          "base_uri": "https://localhost:8080/",
          "height": 34
        },
        "outputId": "7e1c5e34-dcd8-432a-86cb-fe7753ba4e27"
      },
      "source": [
        "#Addition of two complex numbers\n",
        "print(\"Addition of two complex number is:\", a + b)\n"
      ],
      "execution_count": null,
      "outputs": [
        {
          "output_type": "stream",
          "text": [
            "Addition of two complex number is: (5+12j)\n"
          ],
          "name": "stdout"
        }
      ]
    },
    {
      "cell_type": "code",
      "metadata": {
        "id": "VdXnALoB_s9F",
        "colab_type": "code",
        "colab": {
          "base_uri": "https://localhost:8080/",
          "height": 34
        },
        "outputId": "375fd6e7-5d66-4832-b313-9d33ee1f398a"
      },
      "source": [
        "#Subtraction of two complex numbers\n",
        "print(\"Subtraction of two complex number is:\",a - b)\n"
      ],
      "execution_count": null,
      "outputs": [
        {
          "output_type": "stream",
          "text": [
            "Subtraction of two complex number is: (-1+2j)\n"
          ],
          "name": "stdout"
        }
      ]
    },
    {
      "cell_type": "code",
      "metadata": {
        "id": "7axP5s3D_vGd",
        "colab_type": "code",
        "colab": {
          "base_uri": "https://localhost:8080/",
          "height": 34
        },
        "outputId": "5e560822-af4f-4ca6-d497-79067cc66945"
      },
      "source": [
        "#Multiplication of two complex numbers\n",
        "print(\"Multiplication of two complex number is:\", a * b)\n"
      ],
      "execution_count": null,
      "outputs": [
        {
          "output_type": "stream",
          "text": [
            "Multiplication of two complex number is: (-29+31j)\n"
          ],
          "name": "stdout"
        }
      ]
    },
    {
      "cell_type": "code",
      "metadata": {
        "id": "8KELVeWF_wqZ",
        "colab_type": "code",
        "colab": {
          "base_uri": "https://localhost:8080/",
          "height": 34
        },
        "outputId": "eae1626f-e774-4c4d-a559-ffdcba6fd57b"
      },
      "source": [
        "#Division of two complex numbers\n",
        "print(\"Division of two complex number is:\", a / b)\n"
      ],
      "execution_count": null,
      "outputs": [
        {
          "output_type": "stream",
          "text": [
            "Division of two complex number is: (1.2058823529411764+0.3235294117647059j)\n"
          ],
          "name": "stdout"
        }
      ]
    },
    {
      "cell_type": "code",
      "metadata": {
        "id": "zsUe6-gjBH1o",
        "colab_type": "code",
        "colab": {
          "base_uri": "https://localhost:8080/",
          "height": 180
        },
        "outputId": "1836bad2-a34a-4f1e-89bc-9afc3138cbb3"
      },
      "source": [
        "#Floor divsion operation of two complex numbers\n",
        "print(\"Floor Division of two complex number is:\", a // b)"
      ],
      "execution_count": null,
      "outputs": [
        {
          "output_type": "error",
          "ename": "TypeError",
          "evalue": "ignored",
          "traceback": [
            "\u001b[0;31m---------------------------------------------------------------------------\u001b[0m",
            "\u001b[0;31mTypeError\u001b[0m                                 Traceback (most recent call last)",
            "\u001b[0;32m<ipython-input-17-f7e1e829136f>\u001b[0m in \u001b[0;36m<module>\u001b[0;34m()\u001b[0m\n\u001b[1;32m      1\u001b[0m \u001b[0;31m#Floor divsion operation of two complex numbers\u001b[0m\u001b[0;34m\u001b[0m\u001b[0;34m\u001b[0m\u001b[0;34m\u001b[0m\u001b[0m\n\u001b[0;32m----> 2\u001b[0;31m \u001b[0mprint\u001b[0m\u001b[0;34m(\u001b[0m\u001b[0;34m\"Floor Division of two complex number is:\"\u001b[0m\u001b[0;34m,\u001b[0m \u001b[0ma\u001b[0m \u001b[0;34m//\u001b[0m \u001b[0mb\u001b[0m\u001b[0;34m)\u001b[0m\u001b[0;34m\u001b[0m\u001b[0;34m\u001b[0m\u001b[0m\n\u001b[0m",
            "\u001b[0;31mTypeError\u001b[0m: can't take floor of complex number."
          ]
        }
      ]
    },
    {
      "cell_type": "code",
      "metadata": {
        "id": "NEmoVdvi_0VU",
        "colab_type": "code",
        "colab": {
          "base_uri": "https://localhost:8080/",
          "height": 180
        },
        "outputId": "35c82c77-4615-43c1-e9de-efa94af18714"
      },
      "source": [
        "# Modulo operation of two complex numbers\n",
        "print(\"Modulo operation of two complex number is:\", a % b)"
      ],
      "execution_count": null,
      "outputs": [
        {
          "output_type": "error",
          "ename": "TypeError",
          "evalue": "ignored",
          "traceback": [
            "\u001b[0;31m---------------------------------------------------------------------------\u001b[0m",
            "\u001b[0;31mTypeError\u001b[0m                                 Traceback (most recent call last)",
            "\u001b[0;32m<ipython-input-13-b28c6ee4816f>\u001b[0m in \u001b[0;36m<module>\u001b[0;34m()\u001b[0m\n\u001b[1;32m      1\u001b[0m \u001b[0;31m# Modulo operation of two complex numbers\u001b[0m\u001b[0;34m\u001b[0m\u001b[0;34m\u001b[0m\u001b[0;34m\u001b[0m\u001b[0m\n\u001b[0;32m----> 2\u001b[0;31m \u001b[0mprint\u001b[0m\u001b[0;34m(\u001b[0m\u001b[0;34m\"Modulo operation of two complex number is:\"\u001b[0m\u001b[0;34m,\u001b[0m \u001b[0ma\u001b[0m \u001b[0;34m%\u001b[0m \u001b[0mb\u001b[0m\u001b[0;34m)\u001b[0m\u001b[0;34m\u001b[0m\u001b[0;34m\u001b[0m\u001b[0m\n\u001b[0m",
            "\u001b[0;31mTypeError\u001b[0m: can't mod complex numbers."
          ]
        }
      ]
    },
    {
      "cell_type": "code",
      "metadata": {
        "id": "LR6g4HcIFNaK",
        "colab_type": "code",
        "colab": {}
      },
      "source": [
        "#first complex number\n",
        "c = 2 + 7j\n",
        "\n",
        "#Second complex number\n",
        "d = 3"
      ],
      "execution_count": null,
      "outputs": []
    },
    {
      "cell_type": "code",
      "metadata": {
        "id": "oIeADHT2FTDA",
        "colab_type": "code",
        "colab": {
          "base_uri": "https://localhost:8080/",
          "height": 34
        },
        "outputId": "0ae6c776-d666-44d0-d16d-bb1879b8a260"
      },
      "source": [
        "#Addition of a real number with complex number\n",
        "print(\"Addition of a real number and complex number is:\", c+d)"
      ],
      "execution_count": null,
      "outputs": [
        {
          "output_type": "stream",
          "text": [
            "Addition of a real number and complex number is: (5+7j)\n"
          ],
          "name": "stdout"
        }
      ]
    },
    {
      "cell_type": "code",
      "metadata": {
        "id": "lVI3ff9TF1IO",
        "colab_type": "code",
        "colab": {
          "base_uri": "https://localhost:8080/",
          "height": 34
        },
        "outputId": "b5d9f02c-54b9-445e-a11c-620e7bc193f3"
      },
      "source": [
        "#Subtraction of a real number with complex number\n",
        "print(\"Subtraction of a real number and complex number is:\", c-d)"
      ],
      "execution_count": null,
      "outputs": [
        {
          "output_type": "stream",
          "text": [
            "Subtraction of a real number and complex number is: (-1+7j)\n"
          ],
          "name": "stdout"
        }
      ]
    },
    {
      "cell_type": "code",
      "metadata": {
        "id": "1pY68sBfGEix",
        "colab_type": "code",
        "colab": {
          "base_uri": "https://localhost:8080/",
          "height": 34
        },
        "outputId": "ed90858d-1041-4d76-c8ab-54a80d2b48ac"
      },
      "source": [
        "#Multiplication of a real number with complex number\n",
        "print(\"Multiplication of a real number and complex number is:\", c*d)"
      ],
      "execution_count": null,
      "outputs": [
        {
          "output_type": "stream",
          "text": [
            "Multiplication of a real number and complex number is: (6+21j)\n"
          ],
          "name": "stdout"
        }
      ]
    },
    {
      "cell_type": "code",
      "metadata": {
        "id": "nu4ETaIfGU75",
        "colab_type": "code",
        "colab": {
          "base_uri": "https://localhost:8080/",
          "height": 34
        },
        "outputId": "b1477e13-4ead-4eec-e40e-2fb446011cab"
      },
      "source": [
        "#Division of a real number with complex number\n",
        "print(\"Division of a real number and complex number is:\", c/d)"
      ],
      "execution_count": null,
      "outputs": [
        {
          "output_type": "stream",
          "text": [
            "Division of a real number and complex number is: (0.6666666666666666+2.3333333333333335j)\n"
          ],
          "name": "stdout"
        }
      ]
    },
    {
      "cell_type": "code",
      "metadata": {
        "id": "bLBrVVZ6GkPf",
        "colab_type": "code",
        "colab": {
          "base_uri": "https://localhost:8080/",
          "height": 180
        },
        "outputId": "e87a9fcb-5a85-4cc7-9ba5-86f5070d9b49"
      },
      "source": [
        "#Floor Division of a real number with complex number\n",
        "print(\"Floor Division of a real number and complex number is:\", c//d)"
      ],
      "execution_count": null,
      "outputs": [
        {
          "output_type": "error",
          "ename": "TypeError",
          "evalue": "ignored",
          "traceback": [
            "\u001b[0;31m---------------------------------------------------------------------------\u001b[0m",
            "\u001b[0;31mTypeError\u001b[0m                                 Traceback (most recent call last)",
            "\u001b[0;32m<ipython-input-24-b59da8225ab7>\u001b[0m in \u001b[0;36m<module>\u001b[0;34m()\u001b[0m\n\u001b[1;32m      1\u001b[0m \u001b[0;31m#Floor Division of a real number with complex number\u001b[0m\u001b[0;34m\u001b[0m\u001b[0;34m\u001b[0m\u001b[0;34m\u001b[0m\u001b[0m\n\u001b[0;32m----> 2\u001b[0;31m \u001b[0mprint\u001b[0m\u001b[0;34m(\u001b[0m\u001b[0;34m\"Floor Division of a real number and complex number is:\"\u001b[0m\u001b[0;34m,\u001b[0m \u001b[0mc\u001b[0m\u001b[0;34m//\u001b[0m\u001b[0md\u001b[0m\u001b[0;34m)\u001b[0m\u001b[0;34m\u001b[0m\u001b[0;34m\u001b[0m\u001b[0m\n\u001b[0m",
            "\u001b[0;31mTypeError\u001b[0m: can't take floor of complex number."
          ]
        }
      ]
    },
    {
      "cell_type": "code",
      "metadata": {
        "id": "pJWIdUfHGrEK",
        "colab_type": "code",
        "colab": {
          "base_uri": "https://localhost:8080/",
          "height": 180
        },
        "outputId": "51c0282d-eb2b-4570-9614-a9dcf43ea81e"
      },
      "source": [
        "#Modulus operation of a real number with complex number\n",
        "print(\"Modulus of a real number and complex number is:\", c%d)"
      ],
      "execution_count": null,
      "outputs": [
        {
          "output_type": "error",
          "ename": "TypeError",
          "evalue": "ignored",
          "traceback": [
            "\u001b[0;31m---------------------------------------------------------------------------\u001b[0m",
            "\u001b[0;31mTypeError\u001b[0m                                 Traceback (most recent call last)",
            "\u001b[0;32m<ipython-input-25-1277aa8ea1d1>\u001b[0m in \u001b[0;36m<module>\u001b[0;34m()\u001b[0m\n\u001b[1;32m      1\u001b[0m \u001b[0;31m#Modulus operation of a real number with complex number\u001b[0m\u001b[0;34m\u001b[0m\u001b[0;34m\u001b[0m\u001b[0;34m\u001b[0m\u001b[0m\n\u001b[0;32m----> 2\u001b[0;31m \u001b[0mprint\u001b[0m\u001b[0;34m(\u001b[0m\u001b[0;34m\"Modulus of a real number and complex number is:\"\u001b[0m\u001b[0;34m,\u001b[0m \u001b[0mc\u001b[0m\u001b[0;34m%\u001b[0m\u001b[0md\u001b[0m\u001b[0;34m)\u001b[0m\u001b[0;34m\u001b[0m\u001b[0;34m\u001b[0m\u001b[0m\n\u001b[0m",
            "\u001b[0;31mTypeError\u001b[0m: can't mod complex numbers."
          ]
        }
      ]
    },
    {
      "cell_type": "markdown",
      "metadata": {
        "id": "3JSLsh43HC7X",
        "colab_type": "text"
      },
      "source": [
        "Question 2 : Research on range() functions and its parameters. Create a markdown cell and write in your own words (no copy-paste from google please) what you understand about it. Implement a smal program of your choice on the same.\n"
      ]
    },
    {
      "cell_type": "markdown",
      "metadata": {
        "id": "KSHMbQYYHPbV",
        "colab_type": "text"
      },
      "source": [
        "### **Ans: The range() function**\n",
        "\n",
        "The function range() is a in-built function in python which can generate integer numbers between given start integer to stop integer. It also takes a step number which maintains a difference between each number in the result . In other words, the range() function returns a sequence of numbers, starting from given start number , and increments by specified step number, and stops before a specified stop number.\n",
        "\n",
        "**range() function syntax**\n",
        "\n",
        "range(start, stop[,step])\n",
        "\n",
        "In the above syntax of range function there are 3 arguments: \n",
        "First one is 'start' argument, which is is a starting number of the sequence.\n",
        "Second one is 'stop' argument, which is an upper limit that means it generate numbers up to this number.\n",
        "Last not but least, the 'step' argument specifies the incrementation. In other words , step is a difference between each number in the result.\n",
        "\n",
        "The range function takes 3 arguments, in which stop argument is mandatory whereas start and step arguments are optional. If start argument is not specified in the range function it will take 0(zero) as defualt start number. In the similar way , if step argument is not given in the range function it will take 1 as default number."
      ]
    },
    {
      "cell_type": "markdown",
      "metadata": {
        "id": "Y8UrfVQOM0Rs",
        "colab_type": "text"
      },
      "source": [
        "## The 3 variants of range function"
      ]
    },
    {
      "cell_type": "code",
      "metadata": {
        "id": "vb8Z6OGhMmWz",
        "colab_type": "code",
        "colab": {
          "base_uri": "https://localhost:8080/",
          "height": 170
        },
        "outputId": "7b563de1-4311-44ff-97ff-46a213f00ba3"
      },
      "source": [
        "#function range() using only one (i.e.stop) argument\n",
        "for i in range(9):\n",
        "  print(i)"
      ],
      "execution_count": null,
      "outputs": [
        {
          "output_type": "stream",
          "text": [
            "0\n",
            "1\n",
            "2\n",
            "3\n",
            "4\n",
            "5\n",
            "6\n",
            "7\n",
            "8\n"
          ],
          "name": "stdout"
        }
      ]
    },
    {
      "cell_type": "code",
      "metadata": {
        "id": "01ZPjoc2ODfq",
        "colab_type": "code",
        "colab": {
          "base_uri": "https://localhost:8080/",
          "height": 119
        },
        "outputId": "12a2ef97-c192-49c8-9daa-1192628ea28c"
      },
      "source": [
        "#function range() using both 'start' and 'stop' arguments\n",
        "for i in range(3,9):\n",
        "  print(i)"
      ],
      "execution_count": null,
      "outputs": [
        {
          "output_type": "stream",
          "text": [
            "3\n",
            "4\n",
            "5\n",
            "6\n",
            "7\n",
            "8\n"
          ],
          "name": "stdout"
        }
      ]
    },
    {
      "cell_type": "code",
      "metadata": {
        "id": "_m46jgFzOaKz",
        "colab_type": "code",
        "colab": {
          "base_uri": "https://localhost:8080/",
          "height": 85
        },
        "outputId": "2312e77b-f16c-408e-e80b-a53cca2697ab"
      },
      "source": [
        "#function range() using all 'start','stop' and 'step' arguments\n",
        "for i in range(1,9,2):\n",
        "  print(i)"
      ],
      "execution_count": null,
      "outputs": [
        {
          "output_type": "stream",
          "text": [
            "1\n",
            "3\n",
            "5\n",
            "7\n"
          ],
          "name": "stdout"
        }
      ]
    },
    {
      "cell_type": "code",
      "metadata": {
        "id": "av31nAOPN3XY",
        "colab_type": "code",
        "colab": {
          "base_uri": "https://localhost:8080/",
          "height": 187
        },
        "outputId": "c5afee2a-b171-4299-c9e2-dfb2fac192f1"
      },
      "source": [
        "# A program generating odd numbers between 1 and 20 using range function.\n",
        "for i in range(1,20,2):\n",
        "  print(i)"
      ],
      "execution_count": null,
      "outputs": [
        {
          "output_type": "stream",
          "text": [
            "1\n",
            "3\n",
            "5\n",
            "7\n",
            "9\n",
            "11\n",
            "13\n",
            "15\n",
            "17\n",
            "19\n"
          ],
          "name": "stdout"
        }
      ]
    },
    {
      "cell_type": "markdown",
      "metadata": {
        "id": "FqDUNCjUP5Jq",
        "colab_type": "text"
      },
      "source": [
        "Question 3: Consider two numbers. Perform their subtraction and if the result of subtraction is greater than 25, print their multiplication result else print their division result."
      ]
    },
    {
      "cell_type": "code",
      "metadata": {
        "id": "bA2umLPPP1UV",
        "colab_type": "code",
        "colab": {
          "base_uri": "https://localhost:8080/",
          "height": 68
        },
        "outputId": "7e69fb74-3899-4bf5-ec47-54c294c4a228"
      },
      "source": [
        "# A program performing the subtraction  of two numbers such that if the result of subtraction \n",
        "# is greater than 25, printing their multiplication result else printing their division result\n",
        "a= int(input(\"enter First number : \"))\n",
        "b= int(input(\"enter second number : \"))\n",
        "\n",
        "if (a-b)>25:\n",
        "  print(\"The multlication of \", a, \"and\", b, \"is\",a*b)\n",
        "else:\n",
        "  print(\"The division of \", a, \"and\", b, \"is\",a/b)\n"
      ],
      "execution_count": null,
      "outputs": [
        {
          "output_type": "stream",
          "text": [
            "enter First number : 12\n",
            "enter second number : 23\n",
            "The division of  12 and 23 is 0.5217391304347826\n"
          ],
          "name": "stdout"
        }
      ]
    },
    {
      "cell_type": "markdown",
      "metadata": {
        "id": "as-wCP6CR8DD",
        "colab_type": "text"
      },
      "source": [
        "Question 4: Consider a list of 10 elements of integer values. If the number in the list is divisible by 2, print the result as \"square of that number minus 2\".\n"
      ]
    },
    {
      "cell_type": "code",
      "metadata": {
        "id": "JI37NhQFR_Qn",
        "colab_type": "code",
        "colab": {
          "base_uri": "https://localhost:8080/",
          "height": 85
        },
        "outputId": "74c3d683-c97b-4baa-fd36-d62e38a4b04c"
      },
      "source": [
        "lst=[12,15,17,25,34,45,65,37,76,24]\n",
        "\n",
        "for i in lst:\n",
        "   \n",
        "  if int(i%2)==0:\n",
        "    print(\"The number\", i, \"is divisble by 2 so desired result as square of that number minus 2 is\", (i**2)-2)\n",
        "\n",
        "  i=i+1\n",
        "\n"
      ],
      "execution_count": null,
      "outputs": [
        {
          "output_type": "stream",
          "text": [
            "The number 12 is divisble by 2 so desired result as square of that number minus 2 is 142\n",
            "The number 34 is divisble by 2 so desired result as square of that number minus 2 is 1154\n",
            "The number 76 is divisble by 2 so desired result as square of that number minus 2 is 5774\n",
            "The number 24 is divisble by 2 so desired result as square of that number minus 2 is 574\n"
          ],
          "name": "stdout"
        }
      ]
    },
    {
      "cell_type": "markdown",
      "metadata": {
        "id": "dPH42NVlW-q0",
        "colab_type": "text"
      },
      "source": [
        "Question 5: Consider a list of 10 elements. Print all the elements in the list which are greater than 7 when that number is divided 2."
      ]
    },
    {
      "cell_type": "code",
      "metadata": {
        "id": "MgtLtlOrXGrc",
        "colab_type": "code",
        "colab": {
          "base_uri": "https://localhost:8080/",
          "height": 85
        },
        "outputId": "ebddb709-c8c2-4512-fdc6-cd303f23e3c2"
      },
      "source": [
        "lst1=[3,4,5,7,8,10,13,14,15,28]\n",
        "\n",
        "for i in lst1:\n",
        "  if i>7 and i%2==0:\n",
        "    print(i)"
      ],
      "execution_count": null,
      "outputs": [
        {
          "output_type": "stream",
          "text": [
            "8\n",
            "10\n",
            "14\n",
            "28\n"
          ],
          "name": "stdout"
        }
      ]
    }
  ]
}