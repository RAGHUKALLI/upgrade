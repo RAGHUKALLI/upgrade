{
  "nbformat": 4,
  "nbformat_minor": 0,
  "metadata": {
    "colab": {
      "name": "Day4_LetsUpgradePython.ipynb",
      "provenance": [],
      "collapsed_sections": [],
      "authorship_tag": "ABX9TyO0LZi9Muh/ZF5IEi+I/LsJ",
      "include_colab_link": true
    },
    "kernelspec": {
      "name": "python3",
      "display_name": "Python 3"
    }
  },
  "cells": [
    {
      "cell_type": "markdown",
      "metadata": {
        "id": "view-in-github",
        "colab_type": "text"
      },
      "source": [
        "<a href=\"https://colab.research.google.com/github/RAGHUKALLI/upgrade/blob/master/Day4_LetsUpgradePython.ipynb\" target=\"_parent\"><img src=\"https://colab.research.google.com/assets/colab-badge.svg\" alt=\"Open In Colab\"/></a>"
      ]
    },
    {
      "cell_type": "markdown",
      "metadata": {
        "id": "pWVSzuoE3AjG",
        "colab_type": "text"
      },
      "source": [
        "Question 1 :\n",
        "Find all occurrence of substring in the given string\n",
        " “what we think we become; we are Python programmer”\n",
        "Print the index values."
      ]
    },
    {
      "cell_type": "code",
      "metadata": {
        "id": "FzZLwEAUMPXX",
        "colab_type": "code",
        "colab": {
          "base_uri": "https://localhost:8080/",
          "height": 34
        },
        "outputId": "e90e83de-219b-4cf3-fd2b-11fc037bf5f1"
      },
      "source": [
        "a=\"what we think we become; we are Python programmer\"\n",
        "a.find(\"what\")"
      ],
      "execution_count": 16,
      "outputs": [
        {
          "output_type": "execute_result",
          "data": {
            "text/plain": [
              "0"
            ]
          },
          "metadata": {
            "tags": []
          },
          "execution_count": 16
        }
      ]
    },
    {
      "cell_type": "code",
      "metadata": {
        "id": "F7mUwIFTMdsR",
        "colab_type": "code",
        "colab": {
          "base_uri": "https://localhost:8080/",
          "height": 34
        },
        "outputId": "8521c42d-13a4-476f-fed5-13b062ccab3e"
      },
      "source": [
        "a.find(\"we\")"
      ],
      "execution_count": 14,
      "outputs": [
        {
          "output_type": "execute_result",
          "data": {
            "text/plain": [
              "5"
            ]
          },
          "metadata": {
            "tags": []
          },
          "execution_count": 14
        }
      ]
    },
    {
      "cell_type": "code",
      "metadata": {
        "id": "QKiVbCBxMhNl",
        "colab_type": "code",
        "colab": {
          "base_uri": "https://localhost:8080/",
          "height": 34
        },
        "outputId": "bdd91260-2f53-481d-d028-cb1fa1658abe"
      },
      "source": [
        "a.find(\"think\")"
      ],
      "execution_count": 15,
      "outputs": [
        {
          "output_type": "execute_result",
          "data": {
            "text/plain": [
              "8"
            ]
          },
          "metadata": {
            "tags": []
          },
          "execution_count": 15
        }
      ]
    },
    {
      "cell_type": "code",
      "metadata": {
        "id": "m0M3yNY_M0EG",
        "colab_type": "code",
        "colab": {
          "base_uri": "https://localhost:8080/",
          "height": 34
        },
        "outputId": "270749bc-b571-4954-e3a1-e0c7447a9080"
      },
      "source": [
        "a.find(\"become\")"
      ],
      "execution_count": 18,
      "outputs": [
        {
          "output_type": "execute_result",
          "data": {
            "text/plain": [
              "17"
            ]
          },
          "metadata": {
            "tags": []
          },
          "execution_count": 18
        }
      ]
    },
    {
      "cell_type": "code",
      "metadata": {
        "id": "ijDZxtmBOHt_",
        "colab_type": "code",
        "colab": {
          "base_uri": "https://localhost:8080/",
          "height": 34
        },
        "outputId": "af2b709b-e8d5-4d12-bae9-1159312534ea"
      },
      "source": [
        "a.find(\";\")"
      ],
      "execution_count": 23,
      "outputs": [
        {
          "output_type": "execute_result",
          "data": {
            "text/plain": [
              "23"
            ]
          },
          "metadata": {
            "tags": []
          },
          "execution_count": 23
        }
      ]
    },
    {
      "cell_type": "code",
      "metadata": {
        "id": "roVVclFCNOcy",
        "colab_type": "code",
        "colab": {
          "base_uri": "https://localhost:8080/",
          "height": 34
        },
        "outputId": "4c1cf28b-91e0-4cef-e9c2-08908d94ad4d"
      },
      "source": [
        "a.rfind(\"we\")"
      ],
      "execution_count": 19,
      "outputs": [
        {
          "output_type": "execute_result",
          "data": {
            "text/plain": [
              "25"
            ]
          },
          "metadata": {
            "tags": []
          },
          "execution_count": 19
        }
      ]
    },
    {
      "cell_type": "code",
      "metadata": {
        "id": "ADXq0SKANUzj",
        "colab_type": "code",
        "colab": {
          "base_uri": "https://localhost:8080/",
          "height": 34
        },
        "outputId": "46c42aaf-86a0-4055-c1fa-983493488536"
      },
      "source": [
        "a.find(\"are\")"
      ],
      "execution_count": 20,
      "outputs": [
        {
          "output_type": "execute_result",
          "data": {
            "text/plain": [
              "28"
            ]
          },
          "metadata": {
            "tags": []
          },
          "execution_count": 20
        }
      ]
    },
    {
      "cell_type": "code",
      "metadata": {
        "id": "REzQaYsDNYaM",
        "colab_type": "code",
        "colab": {
          "base_uri": "https://localhost:8080/",
          "height": 34
        },
        "outputId": "b0bed0b7-9292-4148-eb70-e4a8eadce618"
      },
      "source": [
        "a.find(\"Python\")"
      ],
      "execution_count": 21,
      "outputs": [
        {
          "output_type": "execute_result",
          "data": {
            "text/plain": [
              "32"
            ]
          },
          "metadata": {
            "tags": []
          },
          "execution_count": 21
        }
      ]
    },
    {
      "cell_type": "code",
      "metadata": {
        "id": "vesm-ZjnNdZJ",
        "colab_type": "code",
        "colab": {
          "base_uri": "https://localhost:8080/",
          "height": 34
        },
        "outputId": "ba1bb9f4-1805-487c-9617-8ba1d25f8f77"
      },
      "source": [
        "a.find(\"programmer\")"
      ],
      "execution_count": 22,
      "outputs": [
        {
          "output_type": "execute_result",
          "data": {
            "text/plain": [
              "39"
            ]
          },
          "metadata": {
            "tags": []
          },
          "execution_count": 22
        }
      ]
    },
    {
      "cell_type": "markdown",
      "metadata": {
        "id": "2ghl3xGN3GUs",
        "colab_type": "text"
      },
      "source": [
        "Question 2 :\n",
        "Explain using\n",
        "islower()\n",
        "isupper()\n",
        "with different kinds of strings."
      ]
    },
    {
      "cell_type": "markdown",
      "metadata": {
        "id": "nZk4aG_0SOVf",
        "colab_type": "text"
      },
      "source": [
        "**Ans:** The **islower()** method returns 'True' if all the characters are in lower case, otherwise False.\n",
        "\n",
        "Using islower() method we can not check numbers, symbols and spaces. The islower() can be used check only alphabet characters.\n",
        "\n",
        "\n",
        "Contrary to islower() , the **isupper()** method returns 'True' if all the characters are in upper case, otherwise False.\n",
        "\n",
        "Here also numbers, symbols and spaces are not checked. The isupper() can be used check only alphabet characters."
      ]
    },
    {
      "cell_type": "code",
      "metadata": {
        "id": "HzdrX2q3NNrF",
        "colab_type": "code",
        "colab": {
          "base_uri": "https://localhost:8080/",
          "height": 442
        },
        "outputId": "dc564a2d-60e0-49d8-a749-6b2d46a7d7f9"
      },
      "source": [
        "a = \"Python is easy\"\n",
        "b = \"python is easy\"\n",
        "c = \"PythonIsEasy\"\n",
        "d = \"python is easy!\"\n",
        "e = \"python is easy9\"\n",
        "f = \"%34*79@\"\n",
        "g = \"123445\"\n",
        "h = \"@!%$&*#\"\n",
        "i = \"PYTHON IS EASY\"\n",
        "j = \"PYTHON IS EASY9\"\n",
        "k = \"PYTHON IS EASY!\"\n",
        "\n",
        "# Results using islower() method\n",
        "print(\"Output for islower()\")\n",
        "print(a.islower())\n",
        "print(b.islower())\n",
        "print(c.islower())\n",
        "print(d.islower())\n",
        "print(e.islower())\n",
        "print(f.islower())\n",
        "print(g.islower())\n",
        "print(h.islower())\n",
        "print(i.islower())\n",
        "print(j.islower())\n",
        "print(k.islower())\n",
        "\n",
        "print()\n",
        "\n",
        "# Results using isupper() method\n",
        "print(\"Output for isupper()\")\n",
        "print(a.isupper())\n",
        "print(b.isupper())\n",
        "print(c.isupper())\n",
        "print(d.isupper())\n",
        "print(e.isupper())\n",
        "print(f.isupper())\n",
        "print(g.isupper())\n",
        "print(h.isupper())\n",
        "print(i.isupper())\n",
        "print(j.isupper())\n",
        "print(k.isupper())"
      ],
      "execution_count": 42,
      "outputs": [
        {
          "output_type": "stream",
          "text": [
            "Output for islower()\n",
            "False\n",
            "True\n",
            "False\n",
            "True\n",
            "True\n",
            "False\n",
            "False\n",
            "False\n",
            "False\n",
            "False\n",
            "False\n",
            "\n",
            "Output for isupper()\n",
            "False\n",
            "False\n",
            "False\n",
            "False\n",
            "False\n",
            "False\n",
            "False\n",
            "False\n",
            "True\n",
            "True\n",
            "True\n"
          ],
          "name": "stdout"
        }
      ]
    }
  ]
}